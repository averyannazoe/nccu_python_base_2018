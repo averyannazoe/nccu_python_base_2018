{
 "cells": [
  {
   "cell_type": "code",
   "execution_count": null,
   "metadata": {},
   "outputs": [],
   "source": [
    "#圖片格式判斷\n",
    "from PIL import Image \n",
    "response = requests.get(url, stream=True) #請求方法-Get\n",
    "img = Image.open(response.raw)\n",
    "print(img.format)"
   ]
  },
  {
   "cell_type": "code",
   "execution_count": 1,
   "metadata": {},
   "outputs": [],
   "source": [
    "import os\n",
    "import requests\n",
    "os.chdir(\"E:\\\\pywork\\\\crawler\\\\demo\")\n",
    "\n",
    "url = 'https://instagram.ftpe7-3.fna.fbcdn.net/vp/270ce9525a6a660b2ab1025e6b5e83ba/5B68E6D8/t51.2885-15/e35/30601837_1652641138184678_7822687475398082560_n.jpg'\n",
    "response = requests.get(url, stream=True) #請求方法-Get\n",
    "\n",
    "with open('igPicturesTest.jpg','wb') as f:\n",
    "    for chunk in response.iter_content(chunk_size=10240):\n",
    "        f.write(chunk)"
   ]
  },
  {
   "cell_type": "code",
   "execution_count": null,
   "metadata": {},
   "outputs": [],
   "source": []
  }
 ],
 "metadata": {
  "kernelspec": {
   "display_name": "Python [conda env:AAA]",
   "language": "python",
   "name": "conda-env-AAA-py"
  },
  "language_info": {
   "codemirror_mode": {
    "name": "ipython",
    "version": 3
   },
   "file_extension": ".py",
   "mimetype": "text/x-python",
   "name": "python",
   "nbconvert_exporter": "python",
   "pygments_lexer": "ipython3",
   "version": "3.6.5"
  }
 },
 "nbformat": 4,
 "nbformat_minor": 2
}
