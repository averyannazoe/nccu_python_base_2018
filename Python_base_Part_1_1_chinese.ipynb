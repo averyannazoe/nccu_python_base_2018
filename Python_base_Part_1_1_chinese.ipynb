{
 "cells": [
  {
   "cell_type": "markdown",
   "metadata": {},
   "source": [
    "# Python基礎練習\n",
    "\n",
    "本教材編撰來源系來自[Codecademy](https://www.codecademy.com/)，原設計為Python 2之語系，本練習系提供離線使用，並將之中文化且優化為python 3。2與3差異不大，同學可自行前往原始網站進行互動學習。若初學者，可以使用本教材，避免語言的隔閡後，再到原始網站練習，得到更深層的學習成果。\n",
    "\n",
    "## 練習目標單元part_1:\n",
    "\n",
    "1. Python基礎語法\n",
    "\n",
    "2. 字串(Strings)及輸出(Console Output)\n",
    "\n",
    "3. 條件式(Conditionals)及流程控制(Control Flow)\n",
    "\n",
    "4. 功能函式(Functions)\n",
    "\n",
    "## 練習目標單元part_2:\n",
    "\n",
    "5. 列表(Lists)及字典(Dictionaries)\n",
    "\n",
    "6. 由學生轉變為老師\n",
    "\n",
    "7. 列表(Lists)及功能函式(Functions)\n",
    "\n",
    "8. 循環(Loops)"
   ]
  },
  {
   "cell_type": "markdown",
   "metadata": {},
   "source": [
    "# 以下為part_1\n",
    "# 1. Python基礎語法練習內容\n",
    "## ---------------------------------------------------------------------------------------------------"
   ]
  },
  {
   "cell_type": "markdown",
   "metadata": {},
   "source": [
    "# 學習步調 1/13\n",
    "\n",
    "## Python基礎語法\n",
    "\n",
    "### 歡迎!\n",
    "Python是一個最易於學習的程式語言之一。您可以使用它來創建Web應用程序，遊戲，甚至是搜索引擎等等等！\n",
    "準備學習好學習Python了？將滑鼠移到底下In[]的方格內後，按下Shift + Enter運行作為開始吧。\n",
    "\n",
    "# 操作指引 1/13\n",
    "1. 準備學習好學習Python了？將滑鼠移到底下In[]的方格內後，按下Shift + Enter運行作為開始吧。\n",
    "2. 你會看到輸出一個數字5，這樣代表你可以往下一步進行了。"
   ]
  },
  {
   "cell_type": "code",
   "execution_count": 4,
   "metadata": {},
   "outputs": [
    {
     "name": "stdout",
     "output_type": "stream",
     "text": [
      "5\n"
     ]
    }
   ],
   "source": [
    "# 在下面寫下你的代碼！\n",
    "my_variable = 5\n",
    "# 在上面寫上你的代碼！\n",
    "\n",
    "print (my_variable)"
   ]
  },
  {
   "cell_type": "markdown",
   "metadata": {},
   "source": [
    "# 學習步調 2/13\n",
    "\n",
    "## Python基礎語法\n",
    "\n",
    "### 變數(Variables)\n",
    "建立一個網路上的應用程式，遊戲和搜索引擎等都涉及存儲和處理不同類型的數據。我們使用變數這種東西來實現它。一個變數將可以存儲一段數據，並給它一個特定的名字。方便你可以使用它。\n",
    "\n",
    "舉例來說:\n",
    "\n",
    "#### spam = 5\n",
    "spam這個變數，現在儲存了5這個數字。\n",
    "\n",
    "# 操作指引 2/13\n",
    "1. 將變數my_variable設置為10。\n",
    "2. 按Shift + Enter運行您的代碼。\n",
    "3. 結果應該要出現10，如果你的結果是5，或錯誤訊息，代表你沒有正確實作出變數的指定作業。"
   ]
  },
  {
   "cell_type": "code",
   "execution_count": 14,
   "metadata": {},
   "outputs": [
    {
     "name": "stdout",
     "output_type": "stream",
     "text": [
      "5\n"
     ]
    }
   ],
   "source": [
    "# 在下面寫下你的代碼！\n",
    "my_variable = #5\n",
    "# 在上面寫上你的代碼！\n",
    "\n",
    "print (my_variable)"
   ]
  },
  {
   "cell_type": "markdown",
   "metadata": {},
   "source": [
    "# 學習步調 3/13\n",
    "\n",
    "## Python基礎語法\n",
    "\n",
    "### 布林(Booleans)\n",
    "太棒了！你已經在變數中存儲了一個數字。數字是我們在寫程式使用到的一種數據類型。現在我介紹地第二種數據類型-稱為布林值。\n",
    "布林值就像一個開關。 它只能有兩個值。 就像電燈開關只能打開或關閉一樣，布林值也只能是真(True)或假(False)。\n",
    "你可以使用變數來存儲這樣的布林值：\n",
    "\n",
    "a = True\n",
    "b = False\n",
    "\n",
    "# 操作指引  3/13\n",
    "\n",
    "1. 將以下變數設置為相對應的值：\n",
    "* my_int的值為7\n",
    "* my_float的值為1.23\n",
    "* my_bool的值為True\n",
    "\n",
    "2. 按Shift + Enter運行您的代碼。"
   ]
  },
  {
   "cell_type": "code",
   "execution_count": 13,
   "metadata": {},
   "outputs": [
    {
     "name": "stdout",
     "output_type": "stream",
     "text": [
      "7\n",
      "1.23\n",
      "False\n"
     ]
    }
   ],
   "source": [
    "#將變數設定為操作指引中說明的值！\n",
    "my_int = 7\n",
    "my_float = 1.23\n",
    "my_bool = #True\n",
    "# 在上面寫上你的代碼！\n",
    "\n",
    "print (my_int)\n",
    "print (my_float)\n",
    "print (my_bool)"
   ]
  },
  {
   "cell_type": "markdown",
   "metadata": {},
   "source": [
    "# 學習步調 4/13\n",
    "\n",
    "## Python基礎語法\n",
    "\n",
    "### 你已被重新分配\n",
    "現在你知道如何使用變數來存儲值。\n",
    "像是my_int = 7(把7存到my_int這個變數中)。你可以透過“重新賦與值”來改變變量的值，如下所示：\n",
    "\n",
    "* my_int = 3\n",
    "\n",
    "\n",
    "# 操作指引  4/13\n",
    "1. 試看看！在編輯器中將my_int的值從7更改為3。\n",
    "2. 按Shift + Enter運行您的代碼。"
   ]
  },
  {
   "cell_type": "code",
   "execution_count": 1,
   "metadata": {},
   "outputs": [
    {
     "ename": "SyntaxError",
     "evalue": "invalid syntax (<ipython-input-1-cb779910714c>, line 5)",
     "output_type": "error",
     "traceback": [
      "\u001b[1;36m  File \u001b[1;32m\"<ipython-input-1-cb779910714c>\"\u001b[1;36m, line \u001b[1;32m5\u001b[0m\n\u001b[1;33m    my_int = #3\u001b[0m\n\u001b[1;37m               ^\u001b[0m\n\u001b[1;31mSyntaxError\u001b[0m\u001b[1;31m:\u001b[0m invalid syntax\n"
     ]
    }
   ],
   "source": [
    "# 將my_int設置為7。 你覺得如果我們將其重置為3並打印結果，會出現7或3?或其他?\n",
    "my_int = 7\n",
    "\n",
    "# 將變數重新指定為3\n",
    "my_int = #3\n",
    "\n",
    "# Here's some code that will print my_int to the console:\n",
    "# The print keyword will be covered in detail soon!\n",
    "# 這是一些將my_int印出到輸出畫面的代碼，關鍵字print很快將被詳細介紹！\n",
    "\n",
    "print (my_int)"
   ]
  },
  {
   "cell_type": "markdown",
   "metadata": {},
   "source": [
    "# 學習步調 5/13\n",
    "\n",
    "## Python基礎語法\n",
    "\n",
    "### 空格\n",
    "在Python中，空白用於建構代碼。空格在這個程式語言中是很重要的，所以你必須知道並且小心的使用它。\n",
    "\n",
    "# 操作指引  5/13\n",
    "1. 底下的程式格式不正確。你先讓它運作，看看會發生什麼事。\n",
    "2. 您應該看到一條錯誤消息。 我們將在下一個練習中解決它！\n",
    "* 別忘記，按Shift + Enter執行你的程式"
   ]
  },
  {
   "cell_type": "code",
   "execution_count": 2,
   "metadata": {},
   "outputs": [
    {
     "ename": "IndentationError",
     "evalue": "expected an indented block (<ipython-input-2-718dbed924e9>, line 2)",
     "output_type": "error",
     "traceback": [
      "\u001b[1;36m  File \u001b[1;32m\"<ipython-input-2-718dbed924e9>\"\u001b[1;36m, line \u001b[1;32m2\u001b[0m\n\u001b[1;33m    eggs = 12\u001b[0m\n\u001b[1;37m       ^\u001b[0m\n\u001b[1;31mIndentationError\u001b[0m\u001b[1;31m:\u001b[0m expected an indented block\n"
     ]
    }
   ],
   "source": [
    "def spam():\n",
    "eggs = 12\n",
    "return eggs\n",
    "        \n",
    "print spam()"
   ]
  },
  {
   "cell_type": "markdown",
   "metadata": {},
   "source": [
    "# 學習步調 6/13\n",
    "\n",
    "## Python基礎語法\n",
    "\n",
    "### 空白意味著正確的空間\n",
    "現在讓我們來看看上一課的錯誤：\n",
    "IndentationError: expected an indented block(預期應該有一個縮排的區域)\n",
    "每當您的空白不在正確位置時，您都會收到此錯誤。\n",
    "\n",
    "如果你在Codecademy上練習，他們將使用雙空格縮排（每個縮排為兩個空格）以確保您可以輕鬆地在瀏覽器中讀取具有多個縮排的程式碼。\n",
    "如果你是在其他的使用介面下，您將看到使用四個空白空間作為縮排的Python程式。只要您確保在整個程式邏輯中保持一致，兩個都是正確的。\n",
    "\n",
    "# 操作指引  6/13\n",
    "1. 在eggs(雞蛋)之前用兩個空格合適當地縮排你的程式碼，在return(返回)之前用兩個空格合適當地縮排你的程式碼。\n",
    "2. 按Shift + Enter運行您的程式。\n",
    "3. 你會看到正確的結果。\n",
    "* 備註: 你可以試試看用4個空格或tab看看結果是不是不同。"
   ]
  },
  {
   "cell_type": "code",
   "execution_count": 12,
   "metadata": {},
   "outputs": [
    {
     "name": "stdout",
     "output_type": "stream",
     "text": [
      "12\n"
     ]
    }
   ],
   "source": [
    "def spam():\n",
    "  eggs = 12\n",
    "  return eggs\n",
    "        \n",
    "print (spam())"
   ]
  },
  {
   "cell_type": "markdown",
   "metadata": {},
   "source": [
    "# 學習步調 7/13\n",
    "\n",
    "## Python基礎語法\n",
    "\n",
    "### 解釋的問題\n",
    "底下寫著In[空白或數字]的窗格為程式的編譯器，編譯器將逐行執行您的程式，並檢查是否有錯誤。\n",
    "cats = 3\n",
    "在上面的例子中，我們創建了一個變數叫做cats，並指定其數值為3。\n",
    "\n",
    "\n",
    "# 操作指引  7/13\n",
    "1. 創建一個名為spam的變數並將其值指定為True。\n",
    "2. 創建一個名為eggs的變數並將其值指定為False。\n",
    "3. 按Shift + Enter執行。"
   ]
  },
  {
   "cell_type": "code",
   "execution_count": 16,
   "metadata": {},
   "outputs": [
    {
     "name": "stdout",
     "output_type": "stream",
     "text": [
      "True False\n"
     ]
    }
   ],
   "source": [
    "spam = #True\n",
    "eggs = #False\n",
    "print (spam,eggs)"
   ]
  },
  {
   "cell_type": "markdown",
   "metadata": {},
   "source": [
    "# 學習步調 8/13\n",
    "\n",
    "## Python基礎語法\n",
    "\n",
    "### 單行註釋\n",
    "在之前的練習中，您可能已經看到過我們幾次使用#號。#符號用於註釋(註解)。\n",
    "註解時Python不會運行那一行。這只是供人類閱讀。\n",
    "註解使您的程式更易於理解。當您回顧您的代碼或其他人希望與您合作時，他們可以閱讀您的註解，並輕鬆弄清楚您的代碼的功能。\n",
    "\n",
    "\n",
    "# 操作指引  8/13\n",
    "1. 在底下寫一條註解。確保它以#開頭。 它可以是你喜歡的任何東西。\n",
    "2. 按Shift + Enter執行。"
   ]
  },
  {
   "cell_type": "code",
   "execution_count": 19,
   "metadata": {},
   "outputs": [
    {
     "data": {
      "text/plain": [
       "'\\nmysterious_variable = 42\\n'"
      ]
     },
     "execution_count": 19,
     "metadata": {},
     "output_type": "execute_result"
    }
   ],
   "source": [
    "#SSSAAAAAAAAAAAAAAAAAAAAAAAAAAAAAAAAAAAAAAAAAAAAAAAAAAAAAAAAAAAAA\n",
    "\n",
    "mysterious_variable = 42"
   ]
  },
  {
   "cell_type": "markdown",
   "metadata": {},
   "source": [
    "# 學習步調 9/13\n",
    "\n",
    "## Python基礎語法\n",
    "\n",
    "### 多行註解\n",
    "#號只會註解一行。雖然你可以用#去針對每一行都做註解，達到多行註釋的目的，但當你要說明的東西很多時，這可能很痛苦。\n",
    "因此，你可以一組三引號把複雜的註解放在裡面：\n",
    "\n",
    "'''想要快速入門 Python，提升職涯發展？\n",
    "這門課程可以教導你 Python 的基礎知識，學習機器學習、人工智慧的應用！全長 19 個小時的教學影片，都能按照自己的學習步調隨時隨地觀看！'''\n",
    "\n",
    "\n",
    "# 操作指引  9/13\n",
    "1. 在編輯器中寫一個多行註釋。它可以是任何你想要的文字！\n",
    "2. 選擇地區並按“Ctr + /”\n",
    "3. 按Shift + Enter運行您的代碼。"
   ]
  },
  {
   "cell_type": "code",
   "execution_count": 3,
   "metadata": {},
   "outputs": [
    {
     "name": "stdout",
     "output_type": "stream",
     "text": [
      "show something\n"
     ]
    }
   ],
   "source": [
    "'''想要快速入門 Python，提升職涯發展？\n",
    "這門課程可以教導你 Python 的基礎知識，學習機器學習、人工智慧的應用！全長 19 個小時的教學影片，都能按照自己的學習步調隨時隨地觀看！'''\n",
    "\n",
    "'''\n",
    "print  hohohoho~ happy new year~\n",
    "'''\n",
    "print ('show something')"
   ]
  },
  {
   "cell_type": "markdown",
   "metadata": {},
   "source": [
    "# 學習步調 10/13\n",
    "\n",
    "## Python基礎語法\n",
    "\n",
    "### 數學運算\n",
    "太棒了，現在我們來做一些數學。你可以隨意地像底下一樣做加，減，乘，除。\n",
    "\n",
    "* addition = 72 + 23\n",
    "* subtraction = 108 - 204\n",
    "* multiplication = 108 * 0.5\n",
    "* division = 108 / 9\n",
    "\n",
    "\n",
    "# 操作指引  10/13\n",
    "1. 設置變數count_to等於兩個數字的總和。\n",
    "2. 按Shift + Enter運行您的代碼。\n"
   ]
  },
  {
   "cell_type": "code",
   "execution_count": 35,
   "metadata": {},
   "outputs": [
    {
     "name": "stdout",
     "output_type": "stream",
     "text": [
      "333422222222221\n"
     ]
    }
   ],
   "source": [
    "# Set count_to equal to the sum of two big numbers\n",
    "count_to = 333333333333333+88888888888\n",
    "# Write code above!\n",
    "\n",
    "print (count_to)"
   ]
  },
  {
   "cell_type": "markdown",
   "metadata": {},
   "source": [
    "# # 學習步調 11/13\n",
    "\n",
    "## Python基礎語法\n",
    "\n",
    "### 指數(Exponentiation)運算\n",
    "所有數學都可以在計算機上完成，那為什麼要使用Python？因為您可以將數學與其他類型數據（例如布林值）和命令結合起來變成有用的程序。計算機只能做數字運算。現在我們來處理指數。\n",
    "\n",
    "eight = 2 ** 3\n",
    "\n",
    "在上面的例子中，我們創建一個名為eight的變數並指定其值為8，其中8乃是透過數學的指數運算得到（2 ^ 3）- 2的三次方。\n",
    "請注意，我們使用**而不是*或乘法運算符號。\n",
    "\n",
    "# 操作指引  11/13\n",
    "1. 創建一個名為egg的變數，並使用指數的方式將egg指定為100。(嘗試用10當基底，想想指數的運算，可以達到前面的目的)\n",
    "2. 按Shift + Enter運行您的代碼。"
   ]
  },
  {
   "cell_type": "code",
   "execution_count": 36,
   "metadata": {},
   "outputs": [
    {
     "name": "stdout",
     "output_type": "stream",
     "text": [
      "100\n"
     ]
    }
   ],
   "source": [
    "# Set eggs equal to 100 using exponentiation on line 3!\n",
    "eggs = #10 ** 2\n",
    "# Write your code above!\n",
    "\n",
    "print (eggs)"
   ]
  },
  {
   "cell_type": "markdown",
   "metadata": {},
   "source": [
    "# 學習步調 12/13\n",
    "\n",
    "## Python基礎語法\n",
    "\n",
    "### 同餘(數)或剩餘(Modulo)\n",
    "現在介紹同餘(數)或剩餘(Modulo)，Modulo返回一個除法中的餘數部分。 舉例，如果你輸入3%2，它將返回1。\n",
    "\n",
    "# 操作指引  12/13\n",
    "1. 利用Modulo設定spam為1。\n",
    "2. 你可以隨便找兩個數做除法運算使他得到餘數為。\n",
    "3. 按Shift + Enter運行您的代碼。"
   ]
  },
  {
   "cell_type": "code",
   "execution_count": 37,
   "metadata": {},
   "outputs": [
    {
     "name": "stdout",
     "output_type": "stream",
     "text": [
      "1\n"
     ]
    }
   ],
   "source": [
    "#Set spam equal to 1 using modulo on line 3!\n",
    "spam = #3 % 2\n",
    "# Write your code above!\n",
    "\n",
    "print (spam)"
   ]
  },
  {
   "cell_type": "markdown",
   "metadata": {},
   "source": [
    "# 學習步調 13/13\n",
    "\n",
    "## Python基礎語法\n",
    "\n",
    "### 整合在一起\n",
    "幹得好！到目前為止，你已經了解到：\n",
    "*變數，指定值供以後使用\n",
    "*數據類型，如數字和布林值\n",
    "*空格的功能\n",
    "*註解\n",
    "*算術運算，包括+， - ，*，/，**和％\n",
    "\n",
    "# 操作指引 13/13\n",
    "把我們得到的知識弄再一起工作吧。\n",
    "1. 寫一條單行註釋。它可以是任何東西！ （確保它以＃開頭）\n",
    "2. 設置變數monty讓它等於True。\n",
    "3. 設置另一個變數python讓它等於1.234。\n",
    "4. 設置第三個變數monty_python讓它等於python的平方。"
   ]
  },
  {
   "cell_type": "code",
   "execution_count": 1,
   "metadata": {},
   "outputs": [],
   "source": [
    "#AAA\n",
    "monty = True\n",
    "python = 1.234\n",
    "monty_python = python**2 "
   ]
  },
  {
   "cell_type": "markdown",
   "metadata": {},
   "source": [
    "# 考考你\n",
    "## x = \"False\"，x是哪種資料型態?\n",
    "* number\n",
    "* string\n",
    "* array\n",
    "* boolean"
   ]
  },
  {
   "cell_type": "markdown",
   "metadata": {},
   "source": [
    "答對這題總成績+0.5分"
   ]
  },
  {
   "cell_type": "code",
   "execution_count": null,
   "metadata": {},
   "outputs": [],
   "source": []
  }
 ],
 "metadata": {
  "kernelspec": {
   "display_name": "Python 3",
   "language": "python",
   "name": "python3"
  },
  "language_info": {
   "codemirror_mode": {
    "name": "ipython",
    "version": 3
   },
   "file_extension": ".py",
   "mimetype": "text/x-python",
   "name": "python",
   "nbconvert_exporter": "python",
   "pygments_lexer": "ipython3",
   "version": "3.6.4"
  }
 },
 "nbformat": 4,
 "nbformat_minor": 2
}
