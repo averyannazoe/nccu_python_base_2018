{
 "cells": [
  {
   "cell_type": "markdown",
   "metadata": {},
   "source": [
    "# Python基礎練習\n",
    "\n",
    "本教材編撰來源系來自[Codecademy](https://www.codecademy.com/)，原設計為Python 2之語系，本練習系提供離線使用，並將之中文化且優化為python 3。2與3差異不大，同學可自行前往原始網站進行互動學習。若初學者，可以使用本教材，避免語言的隔閡後，再到原始網站練習，得到更深層的學習成果。\n",
    "\n",
    "## 練習目標單元part_1:\n",
    "\n",
    "1. Python基礎語法\n",
    "\n",
    "2. 字串(Strings)及輸出(Console Output)\n",
    "\n",
    "3. 條件式(Conditionals)及流程控制(Control Flow)\n",
    "\n",
    "4. 功能函式(Functions)\n",
    "\n",
    "## 練習目標單元part_2:\n",
    "\n",
    "5. 列表(Lists)及字典(Dictionaries)\n",
    "\n",
    "6. 由學生轉變為老師\n",
    "\n",
    "7. 列表(Lists)及功能函式(Functions)\n",
    "\n",
    "8. 循環(Loops)"
   ]
  },
  {
   "cell_type": "markdown",
   "metadata": {},
   "source": [
    "# 以下為part_2\n",
    "# 7.1 列表(Lists)及函式(Functions) 練習內容\n",
    "## ---------------------------------------------------------------------------------------------------"
   ]
  },
  {
   "cell_type": "markdown",
   "metadata": {},
   "source": [
    "# Learn 1/18\n",
    "\n",
    "## 列表(Lists)及函式(Functions)\n",
    "\n",
    "### 存取列表\n",
    "\n",
    "這個練習只是從列表中提取信息，我們已經在前一節中介紹過了！\n",
    "\n",
    "# Instructions 1/18\n",
    "\n",
    "請練習曲出列表中的第二個元素。\n"
   ]
  },
  {
   "cell_type": "code",
   "execution_count": 1,
   "metadata": {},
   "outputs": [
    {
     "name": "stdout",
     "output_type": "stream",
     "text": [
      "3\n"
     ]
    }
   ],
   "source": [
    "n = [1, 3, 5]\n",
    "\n",
    "# Add your code below\n",
    "\n"
   ]
  },
  {
   "cell_type": "markdown",
   "metadata": {},
   "source": [
    "#不要直接看答案 先練習看看\n",
    "\n",
    "    n = [1, 3, 5]\n",
    "\n",
    "    # Add your code below\n",
    "    print (n[1])"
   ]
  },
  {
   "cell_type": "markdown",
   "metadata": {},
   "source": [
    "# Learn 2/18\n",
    "\n",
    "## 列表(Lists)及函式(Functions)\n",
    "\n",
    "### 修改列表元素\n",
    "\n",
    "\n",
    "您已經在前一節中學會如何修改列表中的元素。 這個練習只是一個回顧！\n",
    "\n",
    "# Instructions 2/18\n",
    "\n",
    "1.將列表n的第二個元素乘以5\n",
    "2.用該結果覆蓋第二個元素。\n",
    "3.完成後請務必印出清單確認結果！\n"
   ]
  },
  {
   "cell_type": "code",
   "execution_count": 3,
   "metadata": {},
   "outputs": [],
   "source": [
    "n = [1, 3, 5]\n",
    "# Do your multiplication here\n",
    "\n",
    "\n",
    "\n",
    "\n",
    "\n"
   ]
  },
  {
   "cell_type": "markdown",
   "metadata": {},
   "source": [
    "    # 忍耐一下 不要直接看答案\n",
    "\n",
    "    n = [1, 3, 5]\n",
    "    # Do your multiplication here\n",
    "\n",
    "\n",
    "    n[1]=n[1]*5\n",
    "    print (n)"
   ]
  },
  {
   "cell_type": "markdown",
   "metadata": {},
   "source": [
    "# Learn 3/18\n",
    "\n",
    "## 列表(Lists)及函式(Functions)\n",
    "\n",
    "### 追加資料項目到列表中\n",
    "\n",
    "在這裡，我們將快速回顧如何使用.append（）將元素添加到列表的末尾。\n",
    "\n",
    "# Instructions 3/18\n",
    "\n",
    "將數字4追加到列表n的末尾。\n"
   ]
  },
  {
   "cell_type": "code",
   "execution_count": 4,
   "metadata": {},
   "outputs": [
    {
     "name": "stdout",
     "output_type": "stream",
     "text": [
      "[1, 3, 5, 4]\n"
     ]
    }
   ],
   "source": [
    "n = [1, 3, 5]\n",
    "# Append the number 4 here\n",
    "\n",
    "\n",
    "\n",
    "\n",
    "\n",
    "\n",
    "\n",
    "\n"
   ]
  },
  {
   "cell_type": "markdown",
   "metadata": {},
   "source": [
    "    #### 試看看 不要直接看答案\n",
    "    n = [1, 3, 5]\n",
    "    # Append the number 4 here\n",
    "\n",
    "\n",
    "    n.append(4)\n",
    "    print (n)"
   ]
  },
  {
   "cell_type": "markdown",
   "metadata": {},
   "source": [
    "# Learn 4/18\n",
    "\n",
    "## 列表(Lists)及函式(Functions)\n",
    "\n",
    "### 從列表中刪除元素\n",
    "\n",
    "本練習將擴展從列表中刪除項目的方法。 你有幾個選擇：\n",
    "\n",
    "1. n.pop（索引-index）將從列表中刪除索引處的項目並將其值返回給您：\n",
    "\n",
    "        n = [1, 3, 5]\n",
    "        n.pop(1)\n",
    "        # Returns 3 (the item at index 1)\n",
    "        print (n)\n",
    "        # prints [1, 5]\n",
    "\n",
    "\n",
    "2. n.remove（項目-item）如果找到它，將刪除實際項目：\n",
    "\n",
    "        n.remove(1)\n",
    "        # Removes 1 from the list,\n",
    "        # NOT the item at index 1\n",
    "        print (n)\n",
    "        # prints [3, 5]\n",
    "\n",
    "3. del（n [1]）就像.pop一樣，它將刪除給定索引處的項目，但它不會返回它：\n",
    "\n",
    "        del(n[1])\n",
    "        # Doesn't return anything\n",
    "        print (n)\n",
    "        # prints [1, 5]\n",
    "         \n",
    "         \n",
    "# Instructions 4/18\n",
    "\n",
    "使用.pop(), .remove()或del刪除列表中的第一項。"
   ]
  },
  {
   "cell_type": "code",
   "execution_count": 16,
   "metadata": {},
   "outputs": [
    {
     "name": "stdout",
     "output_type": "stream",
     "text": [
      "3\n",
      "[1, 5]\n"
     ]
    }
   ],
   "source": [
    "# 學習中的範例\n",
    "\n",
    "n = [1, 3, 5]\n",
    "aa = n.pop(1)\n",
    "# Returns 3 (the item at index 1)\n",
    "print (aa)\n",
    "print (n)\n",
    "# prints [1, 5]"
   ]
  },
  {
   "cell_type": "code",
   "execution_count": 14,
   "metadata": {},
   "outputs": [
    {
     "name": "stdout",
     "output_type": "stream",
     "text": [
      "[3, 5]\n"
     ]
    }
   ],
   "source": [
    "# 學習中的範例\n",
    "n = [1, 3, 5]\n",
    "n.remove(1)\n",
    "# Removes 1 from the list,\n",
    "# NOT the item at index 1\n",
    "print (n)\n",
    "# prints [3, 5]"
   ]
  },
  {
   "cell_type": "code",
   "execution_count": 21,
   "metadata": {},
   "outputs": [
    {
     "name": "stdout",
     "output_type": "stream",
     "text": [
      "[1, 5]\n"
     ]
    }
   ],
   "source": [
    "# 學習中的範例\n",
    "n = [1, 3, 5]\n",
    "del(n[1])\n",
    "# Doesn't return anything\n",
    "print (n)\n",
    "# prints [1, 5]"
   ]
  },
  {
   "cell_type": "code",
   "execution_count": 23,
   "metadata": {},
   "outputs": [],
   "source": [
    "n = [1, 3, 5]\n",
    "# Remove the first item in the list here\n",
    "\n",
    "\n",
    "\n"
   ]
  },
  {
   "cell_type": "markdown",
   "metadata": {},
   "source": [
    "    #### 試看看 不要直接看答案\n",
    "\n",
    "    n = [1, 3, 5]\n",
    "    # Remove the first item in the list here\n",
    "    n.pop(0)\n",
    "    print (n)"
   ]
  },
  {
   "cell_type": "markdown",
   "metadata": {},
   "source": [
    "# Learn 5/18\n",
    "\n",
    "## 列表(Lists)及函式(Functions)\n",
    "\n",
    "### 變更函式中的功能\n",
    " \n",
    "在這個練習中，你只需要對函數做一些小改動就可以改變該函數的功能。        \n",
    "         \n",
    "# Instructions 5/18\n",
    "\n",
    "更改函數，使給定的參數乘以3並返回。\n"
   ]
  },
  {
   "cell_type": "code",
   "execution_count": 25,
   "metadata": {},
   "outputs": [
    {
     "name": "stdout",
     "output_type": "stream",
     "text": [
      "6\n"
     ]
    }
   ],
   "source": [
    "number = 5\n",
    "#### 從這裡開始寫\n",
    "def my_function(x):\n",
    "    return x + 1\n",
    "\n",
    "print (my_function(number))"
   ]
  },
  {
   "cell_type": "markdown",
   "metadata": {},
   "source": [
    "    #### 試看看 不要直接看答案\n",
    "\n",
    "    number = 5\n",
    "    #### 從這裡開始寫\n",
    "    def my_function(x):\n",
    "        return x * 3\n",
    "\n",
    "    print (my_function(number))"
   ]
  },
  {
   "cell_type": "markdown",
   "metadata": {},
   "source": [
    "# Learn 6/18\n",
    "\n",
    "## 列表(Lists)及函式(Functions)\n",
    "\n",
    "### 一個以上的參數怎麼做?\n",
    "\n",
    "本練習將回顧如何在函數中使用多個參數-argument。         \n",
    "         \n",
    "# Instructions 6/18\n",
    "\n",
    "定義一個名為add_function的函數，它具有2個參數x和y並將它們相加。"
   ]
  },
  {
   "cell_type": "code",
   "execution_count": 27,
   "metadata": {},
   "outputs": [
    {
     "ename": "SyntaxError",
     "evalue": "invalid syntax (<ipython-input-27-1eef77f5553b>, line 4)",
     "output_type": "error",
     "traceback": [
      "\u001b[1;36m  File \u001b[1;32m\"<ipython-input-27-1eef77f5553b>\"\u001b[1;36m, line \u001b[1;32m4\u001b[0m\n\u001b[1;33m    def\u001b[0m\n\u001b[1;37m        ^\u001b[0m\n\u001b[1;31mSyntaxError\u001b[0m\u001b[1;31m:\u001b[0m invalid syntax\n"
     ]
    }
   ],
   "source": [
    "m = 5\n",
    "n = 13\n",
    "# Add add_function here!\n",
    "def \n",
    "\n",
    "\n",
    "\n",
    "\n",
    "\n",
    "\n",
    "print (add_function(m, n))"
   ]
  },
  {
   "cell_type": "markdown",
   "metadata": {},
   "source": [
    "    #### 試看看 不要直接看答案\n",
    "\n",
    "    m = 5\n",
    "    n = 13\n",
    "    # Add add_function here!\n",
    "    def add_function(x,y):\n",
    "        return x+y\n",
    "\n",
    "\n",
    "    print (add_function(m, n))"
   ]
  },
  {
   "cell_type": "markdown",
   "metadata": {},
   "source": [
    "# Learn 7/18\n",
    "\n",
    "## 列表(Lists)及函式(Functions)\n",
    "\n",
    "### 函式中的字串\n",
    "\n",
    "這是關於在函數中使用字串的基本概述。\n",
    "\n",
    "# Instructions 7/18\n",
    "\n",
    "編寫一個名為string_function的函數，它接受一個字串參數，然後返回與\"world\"單詞連接的內容。 不要在world之前添加空白！"
   ]
  },
  {
   "cell_type": "code",
   "execution_count": 28,
   "metadata": {},
   "outputs": [
    {
     "name": "stdout",
     "output_type": "stream",
     "text": [
      "Helloworld\n"
     ]
    }
   ],
   "source": [
    "n = \"Hello\"\n",
    "# Your function here!\n",
    "def \n",
    "\n",
    "\n",
    "\n",
    "\n",
    "\n",
    "\n",
    "print (string_function(n))"
   ]
  },
  {
   "cell_type": "markdown",
   "metadata": {},
   "source": [
    "    #### 試看看 不要直接看答案\n",
    "\n",
    "    n = \"Hello\"\n",
    "    # Your function here!\n",
    "    def string_function(s):\n",
    "        return s + \"world\"\n",
    "    print (string_function(n))"
   ]
  },
  {
   "cell_type": "markdown",
   "metadata": {},
   "source": [
    "# Learn 8/18\n",
    "\n",
    "## 列表(Lists)及函式(Functions)\n",
    "\n",
    "### 將列表傳遞給函數\n",
    "\n",
    "您可以將一個列表傳遞給一個函數，就像您將任何其他參數傳遞給一個函數一樣。\n",
    "\n",
    "\n",
    "# Instructions 8/18\n",
    "\n",
    "執行底下程式，你會發現把list作為引數本質上與僅使用數字或字串相同！\n",
    "這很棒，請你要記住。"
   ]
  },
  {
   "cell_type": "code",
   "execution_count": 29,
   "metadata": {},
   "outputs": [
    {
     "name": "stdout",
     "output_type": "stream",
     "text": [
      "[3, 5, 7]\n"
     ]
    }
   ],
   "source": [
    "def list_function(x):\n",
    "    return x\n",
    "\n",
    "n = [3, 5, 7]\n",
    "print (list_function(n))\n",
    "    \n",
    "    \n",
    "    \n",
    "    "
   ]
  },
  {
   "cell_type": "markdown",
   "metadata": {},
   "source": [
    "# Learn 9/18\n",
    "\n",
    "## 列表(Lists)及函式(Functions)\n",
    "\n",
    "### 使用函數中的列表中的元素\n",
    "\n",
    "將一個列表傳遞給一個函數會將其存儲在參數中（就像字串或數字一樣）！\n",
    "\n",
    "    def first_item(items):\n",
    "      print (items[0])\n",
    "\n",
    "    numbers = [2, 7, 9]\n",
    "    first_item(numbers)\n",
    "\n",
    "1.在上面的例子中，我們定義了一個名為first_item的函數。 它有一個稱為項目items的參數。\n",
    "2.在函數內部，我們印出存儲在項目索引零處的項目。\n",
    "3.在函數之後，我們創建一個名為數字numbers的新列表。\n",
    "4.最後，我們呼叫first_item函數，並把numbers作為它的引數，結果將印出2。\n",
    "\n",
    "# Instructions 9/18\n",
    "\n",
    "更改程式，以便list_function只返回存儲在x的索引之一中的項目，而不是整個x列表。"
   ]
  },
  {
   "cell_type": "code",
   "execution_count": 30,
   "metadata": {},
   "outputs": [
    {
     "name": "stdout",
     "output_type": "stream",
     "text": [
      "2\n"
     ]
    }
   ],
   "source": [
    "# 學習中的程式範例\n",
    "def first_item(items):\n",
    "  print (items[0])\n",
    "\n",
    "numbers = [2, 7, 9]\n",
    "first_item(numbers)"
   ]
  },
  {
   "cell_type": "code",
   "execution_count": 33,
   "metadata": {},
   "outputs": [
    {
     "name": "stdout",
     "output_type": "stream",
     "text": [
      "[3, 5, 7]\n"
     ]
    }
   ],
   "source": [
    "def list_function(x):\n",
    "# 從這裡修改\n",
    "\n",
    "\n",
    "    \n",
    "\n",
    "\n",
    "n = [3, 5, 7]\n",
    "print (list_function(n))\n"
   ]
  },
  {
   "cell_type": "markdown",
   "metadata": {},
   "source": [
    "    #### 參考作法\n",
    "\n",
    "    def list_function(x):\n",
    "      return x[1]\n",
    "\n",
    "    n = [3, 5, 7]\n",
    "    print (list_function(n))"
   ]
  },
  {
   "cell_type": "markdown",
   "metadata": {},
   "source": [
    "# Learn 10/18\n",
    "\n",
    "## 列表(Lists)及函式(Functions)\n",
    "\n",
    "### 修改函數中列表的元素\n",
    "\n",
    "在函數中修改列表中的元素與在函數外修改列表元素相同。\n",
    "\n",
    "    def double_first(n):\n",
    "      n[0] = n[0] * 2\n",
    "\n",
    "    numbers = [1, 2, 3, 4]\n",
    "    double_first(numbers)\n",
    "    print (numbers)\n",
    "\n",
    "1.我們創建一個名為數字numbers的列表。\n",
    "2.我們使用double_first函數來修改該列表。\n",
    "3.最後，我們印出[2，2，3，4]\n",
    "\n",
    "當我們將一個列表傳遞給一個函數並修改該列表時，就像上面的double_first函數一樣，我們的動作將會直接修改原始列表。\n",
    "\n",
    "\n",
    "# Instructions 10/18\n",
    "\n",
    "將list_function更改為：\n",
    "\n",
    "1.將列表的索引1的位置的元素加3。\n",
    "2.將結果存回索引1。\n",
    "3.返回列表。\n"
   ]
  },
  {
   "cell_type": "code",
   "execution_count": 37,
   "metadata": {},
   "outputs": [
    {
     "name": "stdout",
     "output_type": "stream",
     "text": [
      "[2, 2, 3, 4]\n"
     ]
    }
   ],
   "source": [
    "# 練習中的範例\n",
    "def double_first(n):\n",
    "  n[0] = n[0] * 2\n",
    "\n",
    "numbers = [1, 2, 3, 4]\n",
    "double_first(numbers)\n",
    "print (numbers)"
   ]
  },
  {
   "cell_type": "code",
   "execution_count": 39,
   "metadata": {},
   "outputs": [
    {
     "name": "stdout",
     "output_type": "stream",
     "text": [
      "5\n"
     ]
    }
   ],
   "source": [
    "def list_function(x):\n",
    "# 從這裡修改\n",
    "\n",
    "\n",
    "\n",
    "\n",
    "\n",
    "\n",
    "\n",
    "n = [3, 5, 7]\n",
    "print (list_function(n))"
   ]
  },
  {
   "cell_type": "markdown",
   "metadata": {},
   "source": [
    "    #### 試看看 不要直接看答案\n",
    "\n",
    "    def list_function(x):\n",
    "      x[1] = x[1] + 3\n",
    "      return x\n",
    "\n",
    "    n = [3, 5, 7]\n",
    "    print (list_function(n))\n",
    "\n"
   ]
  },
  {
   "cell_type": "markdown",
   "metadata": {},
   "source": [
    "# Learn 11/18\n",
    "\n",
    "## 列表(Lists)及函式(Functions)\n",
    "\n",
    "### 在函數中對列表進行操作\n",
    "\n",
    "您也可以追加或刪除函數內的列表項，就像您在函數外部操作列表一樣。\n",
    "\n",
    "        my_list = [1, 2, 3]\n",
    "        my_list.append(4)\n",
    "        print (my_list)\n",
    "        # prints [1, 2, 3, 4]\n",
    "\n",
    "上面的例子只是提醒如何將項目追加到列表中。\n",
    "\n",
    "# Instructions 11/18\n",
    "\n",
    "1. 定義一個名為list_extender的函數，它具有一個參數lst。\n",
    "2. 在函數內部，將數字9附加到lst。\n",
    "3. 然後返回修改後的列表。\n"
   ]
  },
  {
   "cell_type": "code",
   "execution_count": null,
   "metadata": {},
   "outputs": [],
   "source": [
    "n = [3, 5, 7]\n",
    "# Add your function here\n",
    "\n",
    "\n",
    "\n",
    "\n",
    "\n",
    "\n",
    "\n",
    "\n",
    "print (list_extender(n))"
   ]
  },
  {
   "cell_type": "markdown",
   "metadata": {},
   "source": [
    "    #### 試看看 不要直接看答案\n",
    "\n",
    "    n = [3, 5, 7]\n",
    "    # Add your function here\n",
    "    def list_extender(lst):\n",
    "      lst.append(9)\n",
    "      return lst\n",
    "\n",
    "\n",
    "    print (list_extender(n))"
   ]
  },
  {
   "cell_type": "markdown",
   "metadata": {},
   "source": [
    "# Learn 12/18\n",
    "\n",
    "## 列表(Lists)及函式(Functions)\n",
    "\n",
    "### 利用function逐項列出每個項目(注意到，跟在外面印有些不一樣，只是要你體會function也可以寫列印功能)\n",
    "\n",
    "本練習將介紹如何利用函數列表中的每個元素。 您可以使用現有的代碼來完成練習，並查看在函數內部運行此操作與在函數外部運行此操作沒有多大區別。\n",
    "\n",
    "不要擔心範圍函數 - 我們將在本節後面解釋它。\n",
    "\n",
    "\n",
    "# Instructions 12/18\n",
    "\n",
    "定義一個名為print_list的函數，它具有一個名為x的參數。\n",
    "\n",
    "在該功能中，逐個打印每個元素。 使用現有的代碼作為腳本架構。\n",
    "\n",
    "然後用參數n呼叫你的函數。"
   ]
  },
  {
   "cell_type": "code",
   "execution_count": 41,
   "metadata": {},
   "outputs": [
    {
     "name": "stdout",
     "output_type": "stream",
     "text": [
      "3\n",
      "5\n",
      "7\n"
     ]
    }
   ],
   "source": [
    "n = [3, 5, 7]\n",
    "\n",
    "for i in range(0, len(n)):\n",
    "  print (n[i])"
   ]
  },
  {
   "cell_type": "markdown",
   "metadata": {},
   "source": [
    "    #### 試看看 不要直接看答案\n",
    "    n = [3, 5, 7]\n",
    "\n",
    "    def print_list(x):\n",
    "      for i in range(0, len(x)):\n",
    "        print (x[i])\n",
    "\n",
    "    print_list(n)"
   ]
  },
  {
   "cell_type": "markdown",
   "metadata": {},
   "source": [
    "# Learn 13/18\n",
    "\n",
    "## 列表(Lists)及函式(Functions)\n",
    "\n",
    "### 修改在函數中的列表裡的每個元素\n",
    "\n",
    "本練習告訴你如何修改列表中的每個元素。 在函數中這樣做很有用，因為您可以輕鬆地放入任意長度的列表並獲得相同的功能。 正如你所看到的，len(n) 是列表的長度。\n",
    "\n",
    "\n",
    "# Instructions 13/18\n",
    "\n",
    "創建一個名為double_list的函數，它接受一個參數x（讓它是一個列表的型態），並將每個元素乘以2後返回該列表。 使用現有的代碼作為腳本架構。"
   ]
  },
  {
   "cell_type": "code",
   "execution_count": 43,
   "metadata": {},
   "outputs": [
    {
     "ename": "NameError",
     "evalue": "name 'double_list' is not defined",
     "output_type": "error",
     "traceback": [
      "\u001b[1;31m---------------------------------------------------------------------------\u001b[0m",
      "\u001b[1;31mNameError\u001b[0m                                 Traceback (most recent call last)",
      "\u001b[1;32m<ipython-input-43-865140cda869>\u001b[0m in \u001b[0;36m<module>\u001b[1;34m()\u001b[0m\n\u001b[0;32m      8\u001b[0m \u001b[1;33m\u001b[0m\u001b[0m\n\u001b[0;32m      9\u001b[0m \u001b[1;33m\u001b[0m\u001b[0m\n\u001b[1;32m---> 10\u001b[1;33m \u001b[0mprint\u001b[0m \u001b[1;33m(\u001b[0m\u001b[0mdouble_list\u001b[0m\u001b[1;33m(\u001b[0m\u001b[0mn\u001b[0m\u001b[1;33m)\u001b[0m\u001b[1;33m)\u001b[0m\u001b[1;33m\u001b[0m\u001b[0m\n\u001b[0m",
      "\u001b[1;31mNameError\u001b[0m: name 'double_list' is not defined"
     ]
    }
   ],
   "source": [
    "n = [3, 5, 7]\n",
    "\n",
    "for i in range(0, len(n)):\n",
    "  n[i] = n[i] * 2\n",
    "# Don't forget to return your new list!\n",
    "\n",
    "\n",
    "\n",
    "\n",
    "\n",
    "\n",
    "print (double_list(n))"
   ]
  },
  {
   "cell_type": "code",
   "execution_count": 45,
   "metadata": {},
   "outputs": [
    {
     "name": "stdout",
     "output_type": "stream",
     "text": [
      "[6, 10, 14]\n"
     ]
    }
   ],
   "source": [
    "#### 試看看 不要直接看答案\n",
    "n = [3, 5, 7]\n",
    "\n",
    "def double_list(x):\n",
    "  for i in range(0, len(x)):\n",
    "    x[i] = x[i] * 2\n",
    "  return x\n",
    "# Don't forget to return your new list!\n",
    "\n",
    "print (double_list(n))"
   ]
  },
  {
   "cell_type": "markdown",
   "metadata": {},
   "source": [
    "# Learn 14/18\n",
    "\n",
    "## 列表(Lists)及函式(Functions)\n",
    "\n",
    "### 將range傳遞給函數，range很重要\n",
    "\n",
    "好的！ 介紹Range的時間。 Python range() 函數是生成list的一個快捷方式，舉例如下:\n",
    "\n",
    "    range(6) # => [0, 1, 2, 3, 4, 5]\n",
    "    range(1, 6) # => [1, 2, 3, 4, 5]\n",
    "    range(1, 6, 3) # => [1, 4]\n",
    "\n",
    "range功能有三個不同的版本：\n",
    "\n",
    "1. range(stop)\n",
    "2. range(start, stop)\n",
    "3. range(start, stop, step)\n",
    "\n",
    "在所有情況下，range()函數返回從開始（包括）到停止（不包括）的數字列表。 每個項目都會根據你給定的step增加。\n",
    "如果省略start或step，則start默認為0開始，step默認為1。\n",
    "\n",
    "Python 3 range() 要轉list應該用list()做轉換。 --Jun\n",
    "\n",
    "# Instructions 14/18\n",
    "\n",
    "將____替換為 range() 或 list(range()) ，並讓功能返回包含[0，1，2]的列表。 --Jun\n"
   ]
  },
  {
   "cell_type": "code",
   "execution_count": null,
   "metadata": {},
   "outputs": [],
   "source": [
    "def my_function(x):\n",
    "  for i in range(0, len(x)):\n",
    "    x[i] = x[i] * 2\n",
    "  return x\n",
    "\n",
    "print (my_function(____)) # Add your range between the parentheses!在括號之間添加你的range！"
   ]
  },
  {
   "cell_type": "markdown",
   "metadata": {},
   "source": [
    "\n",
    "    # 先不要看參考答案，自己先試試看\n",
    "    def my_function(x):\n",
    "      for i in range(0, len(x)):\n",
    "        x[i] = x[i] * 2\n",
    "      return x\n",
    "\n",
    "    print (my_function(list(range(3)))) # Add your range between the parentheses!"
   ]
  },
  {
   "cell_type": "markdown",
   "metadata": {},
   "source": [
    "# Learn 15/18\n",
    "\n",
    "## 列表(Lists)及函式(Functions)\n",
    "\n",
    "### 迭代函數中的列表\n",
    "\n",
    "現在我們已經了解了range，我們有兩種遍歷列表內容的方法。\n",
    "\n",
    "方法1 - 對於列表中的項目：\n",
    "\n",
    "    for item in list:\n",
    "      print (item)\n",
    "  \n",
    "方法2 - 遍歷索引：\n",
    "\n",
    "    for i in range(len(list)):\n",
    "      print (list[i])\n",
    "  \n",
    "方法1對遍歷列表非常有用，但不可能用這種方式修改列表。\n",
    "方法2使用索引循環遍歷列表，如果需要也可以修改列表。 由於我們沒有修改列表，請在本課中隨便使用任何一個！\n",
    "\n",
    "# Instructions 15/18\n",
    "\n",
    "建一個返回數字列表numbers總和的函數。\n",
    "\n",
    "1.定義一個名為total的函數，接受一個名為numbers的參數。 這將是一個列表。\n",
    "2.在函數內部，建一個名為result的變量並將其設置為零。\n",
    "3.使用上述兩種方法之一，遍歷數字列表numbers。 對於每個數字，將其添加到結果中。\n",
    "4.最後，返回結果。"
   ]
  },
  {
   "cell_type": "code",
   "execution_count": 59,
   "metadata": {},
   "outputs": [
    {
     "name": "stdout",
     "output_type": "stream",
     "text": [
      "1\n",
      "3\n",
      "5\n",
      "7\n",
      "9\n",
      "11\n",
      "13\n",
      "15\n"
     ]
    }
   ],
   "source": [
    "# 練習中的範例\n",
    "#Method 1 - for item in list:\n",
    "list = [1,3,5,7,9,11,13,15]\n",
    "for item in list:\n",
    "    print (item)"
   ]
  },
  {
   "cell_type": "code",
   "execution_count": 60,
   "metadata": {},
   "outputs": [
    {
     "name": "stdout",
     "output_type": "stream",
     "text": [
      "1\n",
      "3\n",
      "5\n",
      "7\n",
      "9\n",
      "11\n",
      "13\n",
      "15\n"
     ]
    }
   ],
   "source": [
    "# 練習中的範例\n",
    "#Method 2 - iterate through indexes:\n",
    "list = [1,3,5,7,9,11,13,15]\n",
    "for i in range(len(list)):\n",
    "    print (list[i])"
   ]
  },
  {
   "cell_type": "code",
   "execution_count": null,
   "metadata": {},
   "outputs": [],
   "source": [
    "n = [3, 5, 7]\n",
    "\n",
    "#練習開始\n",
    "\n",
    "\n",
    "\n",
    "\n",
    "\n",
    "\n",
    "\n",
    "\n",
    "\n",
    "\n",
    "\n",
    "\n"
   ]
  },
  {
   "cell_type": "markdown",
   "metadata": {},
   "source": [
    "    # 先不要看參考答案，自己先試試看\n",
    "    \n",
    "    n = [3, 5, 7]\n",
    "\n",
    "    def total(numbers):\n",
    "      result = 0\n",
    "      for i in range(0,len(numbers)):\n",
    "        result += numbers[i]\n",
    "      return result\n",
    "\n",
    "    print(total(n))"
   ]
  },
  {
   "cell_type": "markdown",
   "metadata": {},
   "source": [
    "# Learn 16/18\n",
    "\n",
    "## 列表(Lists)及函式(Functions)\n",
    "\n",
    "### 在函數列表中使用字串\n",
    "\n",
    "現在讓我們嘗試使用字串！\n",
    "\n",
    "    for item in list:\n",
    "      print (item)\n",
    "\n",
    "    for i in range(len(list)):\n",
    "      print (list[i])\n",
    "      \n",
    "上面的例子只是提示了迭代列表的兩種方法。\n",
    "\n",
    "# Instructions 16/18\n",
    "\n",
    "創建一個連接字串的函數。\n",
    "\n",
    "1.定義一個名為join_strings的函數接受一個參數words。 這將是一個列表。\n",
    "2.在函數內部，創建一個名為result的變量並將其設置為\"\"，一個空字串。\n",
    "3.遍歷單詞列表words並附加每個單詞word。\n",
    "4.最後，返回結果。\n",
    "\n",
    "不要在連接的字串之間添加空格！"
   ]
  },
  {
   "cell_type": "code",
   "execution_count": null,
   "metadata": {},
   "outputs": [],
   "source": [
    "n = [\"Michael\", \"Lieberman\"]\n",
    "# Add your function here\n",
    "\n",
    "\n",
    "\n",
    "\n",
    "\n",
    "\n",
    "\n",
    "\n",
    "\n",
    "\n",
    "\n",
    "\n",
    "print (join_strings(n))"
   ]
  },
  {
   "cell_type": "markdown",
   "metadata": {},
   "source": [
    "    # 先不要看參考答案，自己先試試看\n",
    "    n = [\"Michael\", \"Lieberman\"]\n",
    "    # Add your function here\n",
    "\n",
    "    def join_strings(words):\n",
    "      result = \"\"\n",
    "      for word in words:\n",
    "        result += word\n",
    "      return result\n",
    "\n",
    "    print (join_strings(n))"
   ]
  },
  {
   "cell_type": "markdown",
   "metadata": {},
   "source": [
    "# Learn 17/18\n",
    "\n",
    "## 列表(Lists)及函式(Functions)\n",
    "\n",
    "### 在函數中使用兩個列表作為兩個參數\n",
    "\n",
    "在一個函數中使用多個列表與在一個函數中使用多個參數沒有區別！\n",
    "\n",
    "    a = [1, 2, 3]\n",
    "    b = [4, 5, 6]\n",
    "    print (a + b)\n",
    "    # prints [1, 2, 3, 4, 5, 6]\n",
    "\n",
    "上面的例子只是提醒如何連接兩個列表。\n",
    "\n",
    "# Instructions 17/18\n",
    " \n",
    "創建一個將兩個列表連接在一起的函數。\n",
    "\n",
    "1.定義一個名為join_lists的函數，它有兩個參數x和y。 他們都應該是list型態。\n",
    "2.在該函數內部，返回連接x和y的結果。"
   ]
  },
  {
   "cell_type": "code",
   "execution_count": 65,
   "metadata": {},
   "outputs": [
    {
     "ename": "NameError",
     "evalue": "name 'join_lists' is not defined",
     "output_type": "error",
     "traceback": [
      "\u001b[1;31m---------------------------------------------------------------------------\u001b[0m",
      "\u001b[1;31mNameError\u001b[0m                                 Traceback (most recent call last)",
      "\u001b[1;32m<ipython-input-65-deabf6a776ea>\u001b[0m in \u001b[0;36m<module>\u001b[1;34m()\u001b[0m\n\u001b[0;32m     10\u001b[0m \u001b[1;33m\u001b[0m\u001b[0m\n\u001b[0;32m     11\u001b[0m \u001b[1;33m\u001b[0m\u001b[0m\n\u001b[1;32m---> 12\u001b[1;33m \u001b[0mprint\u001b[0m \u001b[1;33m(\u001b[0m\u001b[0mjoin_lists\u001b[0m\u001b[1;33m(\u001b[0m\u001b[0mm\u001b[0m\u001b[1;33m,\u001b[0m \u001b[0mn\u001b[0m\u001b[1;33m)\u001b[0m\u001b[1;33m)\u001b[0m\u001b[1;33m\u001b[0m\u001b[0m\n\u001b[0m\u001b[0;32m     13\u001b[0m \u001b[1;31m# You want this to print [1, 2, 3, 4, 5, 6]\u001b[0m\u001b[1;33m\u001b[0m\u001b[1;33m\u001b[0m\u001b[0m\n",
      "\u001b[1;31mNameError\u001b[0m: name 'join_lists' is not defined"
     ]
    }
   ],
   "source": [
    "m = [1, 2, 3]\n",
    "n = [4, 5, 6]\n",
    "\n",
    "# Add your code here!\n",
    "\n",
    "\n",
    "\n",
    "\n",
    "\n",
    "\n",
    "\n",
    "print (join_lists(m, n))\n",
    "# You want this to print [1, 2, 3, 4, 5, 6]"
   ]
  },
  {
   "cell_type": "markdown",
   "metadata": {},
   "source": [
    "    # 先不要看參考答案，自己先試試看\n",
    "    m = [1, 2, 3]\n",
    "    n = [4, 5, 6]\n",
    "\n",
    "    # Add your code here!\n",
    "\n",
    "    def join_lists(x, y):\n",
    "        return x + y\n",
    "\n",
    "\n",
    "    print (join_lists(m, n))\n",
    "    # You want this to print [1, 2, 3, 4, 5, 6]\n"
   ]
  },
  {
   "cell_type": "markdown",
   "metadata": {},
   "source": [
    "# Learn 18/18\n",
    "\n",
    "## 列表(Lists)及函式(Functions)\n",
    "\n",
    "### 在函數中使用列表的列表\n",
    "\n",
    "最後，本練習示範如何使用包含多個列表的單列表，以及如何在函數中使用它們。\n",
    "\n",
    "    list_of_lists = [[1, 2, 3], [4, 5, 6]]\n",
    "\n",
    "    for lst in list_of_lists:\n",
    "      for item in lst:\n",
    "        print (item)    \n",
    "   \n",
    "1. 在上面的例子中，我們首先創建一個包含兩個列表的列表，每個列表中的項目都是數字。\n",
    "2. 然後，我們遍歷我們的外部列表。\n",
    "3. 對於兩個內部列表中的每一個（如lst），我們迭代numbers（用項目item的方式）並將其印出來。\n",
    "\n",
    "我們最終印出：\n",
    "1\n",
    "2\n",
    "3\n",
    "4\n",
    "5\n",
    "6\n",
    "\n",
    "\n",
    "# Instructions 18/18\n",
    "\n",
    "建一個名為flatten的函數，讓它接受一個列表，並將所有子列表都連接到一個列表中:\n",
    "\n",
    "1.定義一個名為flatten的函數，其中一個參數名為lists。\n",
    "2.創建一個名為results的新的空列表。\n",
    "3.遍歷列表。\n",
    "4.遍歷數字numbers。\n",
    "5.對於每個數字，使用.append()將結果附加到結果。\n",
    "6.最後，返回函數的結果。"
   ]
  },
  {
   "cell_type": "code",
   "execution_count": 69,
   "metadata": {},
   "outputs": [
    {
     "name": "stdout",
     "output_type": "stream",
     "text": [
      "1\n",
      "2\n",
      "3\n",
      "4\n",
      "5\n",
      "6\n"
     ]
    }
   ],
   "source": [
    "#練習中的範例\n",
    "list_of_lists = [[1, 2, 3], [4, 5, 6]]\n",
    "\n",
    "for lst in list_of_lists:\n",
    "    for item in lst:\n",
    "        print (item)"
   ]
  },
  {
   "cell_type": "code",
   "execution_count": null,
   "metadata": {},
   "outputs": [],
   "source": [
    "n = [[1, 2, 3], [4, 5, 6, 7, 8, 9]]\n",
    "# Add your function here\n",
    "\n",
    "\n",
    "\n",
    "\n",
    "\n",
    "\n",
    "\n",
    "\n",
    "\n",
    "\n",
    "\n",
    "\n",
    "print (flatten(n))"
   ]
  },
  {
   "cell_type": "markdown",
   "metadata": {},
   "source": [
    "    # 先不要看參考答案，自己先試試看\n",
    "    n = [[1, 2, 3], [4, 5, 6, 7, 8, 9]]\n",
    "    # Add your function here\n",
    "\n",
    "    def flatten(lists):\n",
    "      results = []\n",
    "      for numbers in lists:\n",
    "        for number in numbers:\n",
    "          results.append(number)\n",
    "      return results\n",
    "\n",
    "    print (flatten(n))"
   ]
  }
 ],
 "metadata": {
  "kernelspec": {
   "display_name": "Python 3",
   "language": "python",
   "name": "python3"
  },
  "language_info": {
   "codemirror_mode": {
    "name": "ipython",
    "version": 3
   },
   "file_extension": ".py",
   "mimetype": "text/x-python",
   "name": "python",
   "nbconvert_exporter": "python",
   "pygments_lexer": "ipython3",
   "version": "3.5.5"
  },
  "widgets": {
   "state": {},
   "version": "1.1.2"
  }
 },
 "nbformat": 4,
 "nbformat_minor": 2
}
