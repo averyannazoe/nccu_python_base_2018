{
 "cells": [
  {
   "cell_type": "markdown",
   "metadata": {},
   "source": [
    "# Python基礎練習\n",
    "\n",
    "本教材編撰來源系來自[Codecademy](https://www.codecademy.com/)，原設計為Python 2之語系，本練習系提供離線使用，並將之中文化且優化為python 3。2與3差異不大，同學可自行前往原始網站進行互動學習。若初學者，可以使用本教材，避免語言的隔閡後，再到原始網站練習，得到更深層的學習成果。\n",
    "\n",
    "## 練習目標單元part_1:\n",
    "\n",
    "1. Python基礎語法\n",
    "\n",
    "2. 字串(Strings)及輸出(Console Output)\n",
    "\n",
    "3. 條件式(Conditionals)及流程控制(Control Flow)\n",
    "\n",
    "4. 功能函式(Functions)\n",
    "\n",
    "## 練習目標單元part_2:\n",
    "\n",
    "5. 列表(Lists)及字典(Dictionaries)\n",
    "\n",
    "6. 由學生轉變為老師\n",
    "\n",
    "7. 列表(Lists)及功能函式(Functions)\n",
    "\n",
    "8. 循環(Loops)"
   ]
  },
  {
   "cell_type": "markdown",
   "metadata": {},
   "source": [
    "## 以下為part_2\n",
    "# 8.1 Loops 遞迴! 練習內容\n",
    "## ---------------------------------------------------------------------------------------------------"
   ]
  },
  {
   "cell_type": "markdown",
   "metadata": {},
   "source": [
    "# Learn 1/19\n",
    "\n",
    "## Loops 遞迴\n",
    "\n",
    "### While - 當我們同在一起\n",
    "\n",
    "while循環與if語句類似：如果某個條件成立，它會執行它所屬區塊的代碼。 區別在於只要條件成立，while循環就會繼續執行。\n",
    "\n",
    "# Instructions 1/19\n",
    "\n",
    "更改循環loop，使其從0到9（包括）計數。\n",
    "小心不要改變或刪除count += 1語句。 如果你的程序沒有辦法增加計數，你的循環可能會永遠持續下去，並成為一個無限循環，這可能會導致你的計算機/瀏覽器崩潰！"
   ]
  },
  {
   "cell_type": "code",
   "execution_count": null,
   "metadata": {},
   "outputs": [],
   "source": [
    "count = 0\n",
    "\n",
    "#變更以下內容 讓計算從0到9\n",
    "\n",
    "if count < 5:\n",
    "  print (\"Hello, I am an if statement and count is\", count)\n",
    "\n",
    "while count < 5:\n",
    "  print (\"Hello, I am a while and count is\", count)\n",
    "  count += 1\n",
    "    \n"
   ]
  },
  {
   "cell_type": "markdown",
   "metadata": {},
   "source": [
    "    # 先試看看自己寫的程式吧\n",
    "\n",
    "    count = 0\n",
    "\n",
    "    if count < 5:\n",
    "      print (\"Hello, I am an if statement and count is\", count)\n",
    "\n",
    "    while count < 10:\n",
    "      print (\"Hello, I am a while and count is\", count)\n",
    "      count += 1"
   ]
  },
  {
   "cell_type": "markdown",
   "metadata": {},
   "source": [
    "# Learn 2/19\n",
    "\n",
    "## Loops 遞迴\n",
    "\n",
    "### 條件\n",
    "\n",
    "條件是決定循環要繼續執行或停止的關鍵。這個程序有5個主要步驟：\n",
    "\n",
    "1. loop_condition變量設置為True\n",
    "2. while循環檢查loop_condition是否為True。 如果是，就進入循環。\n",
    "3. 印出語已被執行。\n",
    "4. 變量loop_condition被設置為False。\n",
    "5. while循環再次檢查loop_condition是否為True。 它不是，所以循環不會再執行一次。\n",
    "\n",
    "\n",
    "# Instructions 2/19\n",
    "\n",
    "了解循環如何檢查其條件以及何時停止執行？ 當你認為你已經掌握了它，運行底下程式繼續。"
   ]
  },
  {
   "cell_type": "code",
   "execution_count": null,
   "metadata": {},
   "outputs": [],
   "source": [
    "loop_condition = True\n",
    "\n",
    "while loop_condition:\n",
    "  print (\"I am a loop\")\n",
    "  loop_condition = False\n",
    "\n",
    "\n",
    "\n",
    "\n",
    "\n",
    "\n",
    "\n",
    "\n"
   ]
  },
  {
   "cell_type": "markdown",
   "metadata": {},
   "source": [
    "    #不要直接看答案 先練習看看\n",
    "\n",
    "    loop_condition = True\n",
    "\n",
    "    while loop_condition:\n",
    "      print (\"I am a loop\")\n",
    "      loop_condition = False"
   ]
  },
  {
   "cell_type": "markdown",
   "metadata": {},
   "source": [
    "# Learn 3/19\n",
    "\n",
    "## Loops 遞迴\n",
    "\n",
    "### While - 活在當下-盡情的燃燒你的熱情\n",
    "\n",
    "在while循環內，你可以做任何你可以在其他地方做的事情，包括算術運算。\n",
    "\n",
    "# Instructions 3/19\n",
    "\n",
    "創建一個while循環，印出1到10平方的所有數字（1,4,9,16，...，100），每個數字都在自己那一行。\n",
    "1. 填充空白區域，使while循環從1到10。\n",
    "2. 在循環中，輸出num的平方值。 平方數的語法是num ** 2。\n",
    "3. 增加數量。\n"
   ]
  },
  {
   "cell_type": "code",
   "execution_count": 2,
   "metadata": {},
   "outputs": [
    {
     "ename": "SyntaxError",
     "evalue": "unexpected EOF while parsing (<ipython-input-2-adb0ddd31634>, line 16)",
     "output_type": "error",
     "traceback": [
      "\u001b[1;36m  File \u001b[1;32m\"<ipython-input-2-adb0ddd31634>\"\u001b[1;36m, line \u001b[1;32m16\u001b[0m\n\u001b[1;33m    \u001b[0m\n\u001b[1;37m    ^\u001b[0m\n\u001b[1;31mSyntaxError\u001b[0m\u001b[1;31m:\u001b[0m unexpected EOF while parsing\n"
     ]
    }
   ],
   "source": [
    "num = 1\n",
    "\n",
    "while _______:  # Fill in the condition\n",
    "  # Print num squared\n",
    "  # Increment num (make sure to do this!)\n",
    "\n",
    "\n",
    "\n",
    "\n",
    "\n",
    "\n",
    "\n",
    "\n",
    "\n",
    "\n"
   ]
  },
  {
   "cell_type": "markdown",
   "metadata": {},
   "source": [
    "    # 忍耐一下 不要直接看答案\n",
    "    num = 1\n",
    "\n",
    "    while num <= 10:  # Fill in the condition\n",
    "      # Print num squared\n",
    "      print (num ** 2)\n",
    "      # Increment num (make sure to do this!)\n",
    "      num += 1"
   ]
  },
  {
   "cell_type": "markdown",
   "metadata": {},
   "source": [
    "# Learn 4/19\n",
    "\n",
    "## Loops 遞迴\n",
    "\n",
    "### 一般錯誤控制\n",
    "\n",
    "while循環的一個常見應用是檢查用戶輸入是否有效。 例如，如果您要求用戶輸入y或n，而他們輸入7，則應該重新提示他們輸入。\n",
    "\n",
    "\n",
    "# Instructions 4/19\n",
    "\n",
    "填寫循環條件，以便選擇不等於'y'並且選擇不等於'n'時，將提示用戶繼續輸入到對為止。"
   ]
  },
  {
   "cell_type": "code",
   "execution_count": 5,
   "metadata": {},
   "outputs": [],
   "source": [
    "choice = input('喜歡這個課程嗎? 輸入(y/n)來表達')\n",
    "\n",
    "while ________:  # Fill in the condition (before the colon)\n",
    "  choice = input(\"抱歉，我沒有聽到你說甚麼。請再說一遍: \")\n",
    "\n",
    "\n",
    "\n",
    "\n",
    "\n",
    "\n",
    "\n",
    "\n",
    "\n",
    "\n",
    "\n"
   ]
  },
  {
   "cell_type": "markdown",
   "metadata": {},
   "source": [
    "    # 忍耐一下 不要直接看答案\n",
    "    choice = input('喜歡這個課程嗎? 輸入(y/n)來表達')\n",
    "\n",
    "    while choice != 'y' and choice != 'n':  # Fill in the condition (before the colon)\n",
    "      choice = input(\"抱歉，我沒有聽到你說甚麼。請再說一遍: \")"
   ]
  },
  {
   "cell_type": "markdown",
   "metadata": {},
   "source": [
    "# Learn 5/19\n",
    "\n",
    "## Loops 遞迴\n",
    "\n",
    "### 無限大決\n",
    "\n",
    "無限循環是永遠不會退出的循環。 這可能有幾個原因：\n",
    "\n",
    "1. 循環條件永遠不會出現False（例如，當1！= 2時）\n",
    "2. 循環的邏輯可防止循環條件變為false。\n",
    "\n",
    "例：\n",
    "\n",
    "    count = 10\n",
    "    while count > 0:\n",
    "      count += 1 # Instead of count -= 1\n",
    "      \n",
    "\n",
    "# Instructions 5/19\n",
    "\n",
    "編輯器中的循環有兩個問題：它缺少一個冒號（一個語法錯誤）並且count永遠不會增加（邏輯錯誤）。 後者會導致無限循環，所以一定要在運行前解決這兩個問題！加油!!!!!!!!!!!!!!!!!!!!!!!!!!!!!!!!!!!!!!!!!!!"
   ]
  },
  {
   "cell_type": "code",
   "execution_count": 23,
   "metadata": {},
   "outputs": [],
   "source": [
    "count = 0\n",
    "\n",
    "while count < 10 # Add a colon\n",
    "  print (count)\n",
    "  # Increment count\n",
    "\n",
    "\n",
    "\n",
    "\n",
    "\n",
    "\n"
   ]
  },
  {
   "cell_type": "markdown",
   "metadata": {},
   "source": [
    "    #### 試看看 不要直接看答案\n",
    "    count = 0\n",
    "\n",
    "    while count < 10: # Add a colon\n",
    "      print (count)\n",
    "      # Increment count\n",
    "      count += 1"
   ]
  },
  {
   "cell_type": "markdown",
   "metadata": {},
   "source": [
    "# Learn 6/19\n",
    "\n",
    "## Loops 遞迴\n",
    "\n",
    "### Break\n",
    "  \n",
    "Break指令的意思是“退出目前循環”。 除了前面的條件滿足退出遞迴之外，使計數循環退出並停止執行的另一種方法是使用break語句。\n",
    "\n",
    "1. 首先，創造一個總是為真(true)的條件。可以參考上面舉過的例子。\n",
    "2. 使用if語句，可以定義停止條件。 在if裡面，寫下break，意思是“退出循環”。\n",
    "\n",
    "這裡的區別是這個循環保證至少運行一次。\n",
    "\n",
    "\n",
    "# Instructions 6/19\n",
    "\n",
    "看看break是什麼？ 隨意弄亂它（但要確保你不會造成無限循環）！ 當您準備好繼續時，運行下面程式。"
   ]
  },
  {
   "cell_type": "code",
   "execution_count": 4,
   "metadata": {},
   "outputs": [
    {
     "name": "stdout",
     "output_type": "stream",
     "text": [
      "0\n",
      "1\n",
      "2\n",
      "3\n",
      "4\n",
      "5\n",
      "6\n",
      "7\n",
      "8\n",
      "9\n"
     ]
    }
   ],
   "source": [
    "count = 0\n",
    "\n",
    "while True:\n",
    "  print (count)\n",
    "  count += 1\n",
    "  if count >= 10:\n",
    "    break"
   ]
  },
  {
   "cell_type": "markdown",
   "metadata": {},
   "source": [
    "# Learn 7/19\n",
    "\n",
    "## Loops 遞迴\n",
    "\n",
    "### While / else\n",
    "\n",
    "與Python完全不同的是while/else結構。while/else類似於if/else，但有一個區別：只要循環條件評估為False，else區塊就一定會執行。 這意味著如果循環從未輸入或循環正常退出，它將執行。 如果循環由於中斷而退出，那麼else將不會被執行。\n",
    "在這個例子中，如果生成了5，循環將會中斷，否則不會執行。 否則，在生成3個數字後，循環條件將變為false，其他條件將執行。\n",
    "\n",
    "# Instructions 7/19\n",
    "\n",
    "執行程式，觀察while/else的執行邏輯。"
   ]
  },
  {
   "cell_type": "code",
   "execution_count": 8,
   "metadata": {},
   "outputs": [
    {
     "name": "stdout",
     "output_type": "stream",
     "text": [
      "Lucky Numbers! 3 numbers will be generated.\n",
      "If one of them is a '5', you lose!\n",
      "2\n",
      "2\n",
      "3\n",
      "You win!\n"
     ]
    }
   ],
   "source": [
    "import random\n",
    "\n",
    "print (\"Lucky Numbers! 3 numbers will be generated.\")\n",
    "print (\"If one of them is a '5', you lose!\")\n",
    "\n",
    "count = 0\n",
    "while count < 3:\n",
    "  num = random.randint(1, 6)\n",
    "  print (num)\n",
    "  if num == 5:\n",
    "    print (\"Sorry, you lose!\")\n",
    "    break\n",
    "  count += 1\n",
    "else:\n",
    "  print (\"You win!\")\n",
    "\n",
    "\n",
    "\n",
    "\n",
    "\n",
    "\n",
    "\n",
    "\n"
   ]
  },
  {
   "cell_type": "markdown",
   "metadata": {},
   "source": [
    "#### 試看看 不要直接看答案\n",
    "\n",
    "    from random import randint \n",
    "\n",
    "    board = []\n",
    "\n",
    "    for x in range(0, 5):\n",
    "      board.append([\"O\"] * 5)\n",
    "\n",
    "    def print_board(board):\n",
    "      for row in board:\n",
    "        print (\" \".join(row))\n",
    "\n",
    "    # Add your code below!\n",
    "\n",
    "    def random_row(board):\n",
    "      return randint(0, len(board) - 1)\n",
    "\n",
    "    def random_col(board):\n",
    "      return randint(0, len(board) - 1)\n",
    "\n",
    "    random_row(board)\n",
    "    random_col(board)\n"
   ]
  },
  {
   "cell_type": "markdown",
   "metadata": {},
   "source": [
    "# Learn 8/19\n",
    "\n",
    "## Loops 遞迴\n",
    "\n",
    "### 試著做一個你自己的while / else\n",
    "\n",
    "現在你應該可以製作一個類似於上面練習的遊戲。 上一個練習的代碼如下：\n",
    "\n",
    "    count = 0\n",
    "    while count < 3:\n",
    "      num = random.randint(1, 6)\n",
    "      print (num)\n",
    "      if num == 5:\n",
    "        print (\"Sorry, you lose!\")\n",
    "        break\n",
    "      count += 1\n",
    "    else:\n",
    "      print (\"You win!\")\n",
    "  \n",
    "在這個練習中，讓用戶猜測3次數字。\n",
    "\n",
    "guess = int（input（“Your guess：”））\n",
    "\n",
    "請記住，輸入將用戶輸入轉換為一個字串，因此我們使用int()將其重新轉型態為一個數字。\n",
    "\n",
    "# Instructions 8/19\n",
    "\n",
    "只要guesses_left大於0，使用while循環讓用戶不斷猜測。\n",
    "\n",
    "1. 請用戶輸入他們的猜測，就像上面的第二個例子。\n",
    "2. 如果他們猜對了，印出\"You win!\" 並打破。\n",
    "3. 將guesses_left減1。\n",
    "4. 在while循環後使用else：來印出\"You lose.\"。"
   ]
  },
  {
   "cell_type": "code",
   "execution_count": 13,
   "metadata": {},
   "outputs": [],
   "source": [
    "from random import randint\n",
    "\n",
    "# Generates a number from 1 through 10 inclusive\n",
    "random_number = randint(1, 10)\n",
    "\n",
    "guesses_left = 3\n",
    "# Start your game!\n",
    "\n",
    "# Add your code below!\n",
    "\n",
    "\n",
    "\n",
    "\n",
    "\n",
    "\n",
    "\n"
   ]
  },
  {
   "cell_type": "code",
   "execution_count": 10,
   "metadata": {},
   "outputs": [
    {
     "name": "stdout",
     "output_type": "stream",
     "text": [
      "Your guess: 2\n",
      "Your guess: 2\n",
      "Your guess: 2\n",
      "You lose.\n"
     ]
    }
   ],
   "source": [
    "#### 試看看 不要直接看答案\n",
    "from random import randint\n",
    "\n",
    "# Generates a number from 1 through 10 inclusive\n",
    "random_number = randint(1, 10)\n",
    "\n",
    "guesses_left = 3\n",
    "# Start your game!\n",
    "while guesses_left > 0:\n",
    "  guess = int(input(\"Your guess: \"))\n",
    "  if guess == random_number:\n",
    "    print (\"You win!\")\n",
    "    break\n",
    "  guesses_left -= 1\n",
    "else:\n",
    "  print (\"You lose.\")"
   ]
  },
  {
   "cell_type": "markdown",
   "metadata": {},
   "source": [
    "# Learn 9/19\n",
    "\n",
    "## Loops 遞迴\n",
    "\n",
    "### 為了您的健康\n",
    "\n",
    "循環的另一種方式是for循環。 語法如代碼編輯器中所示。 這個例子的意思是“對於範圍為0 - 9的每個數字i，印出i”-\"for each number i in the range 0 - 9, print i\"。\n",
    "\n",
    "# Instructions 9/19\n",
    "\n",
    "變更一下程式，讓遞迴印出從0印到19而不是0到9的數字。"
   ]
  },
  {
   "cell_type": "code",
   "execution_count": 12,
   "metadata": {},
   "outputs": [
    {
     "name": "stdout",
     "output_type": "stream",
     "text": [
      "Counting...\n",
      "0\n",
      "1\n",
      "2\n",
      "3\n",
      "4\n",
      "5\n",
      "6\n",
      "7\n",
      "8\n",
      "9\n"
     ]
    }
   ],
   "source": [
    "print (\"Counting...\")\n",
    "\n",
    "for i in range(10):\n",
    "  print (i)\n",
    "  \n",
    "  "
   ]
  },
  {
   "cell_type": "markdown",
   "metadata": {},
   "source": [
    "    #### 試看看 不要直接看答案\n",
    "    print (\"Counting...\")\n",
    "\n",
    "    for i in range(20):\n",
    "      print (i)\n",
    "  "
   ]
  },
  {
   "cell_type": "markdown",
   "metadata": {},
   "source": [
    "# Learn 10/19\n",
    "\n",
    "## Loops 遞迴\n",
    "\n",
    "### 你的喜好是........\n",
    "\n",
    "當你想要做某些事情時，這種循環很有用，比如將一些東西附加到列表list的末尾。\n",
    "\n",
    "\n",
    "# Instructions 10/19\n",
    "\n",
    "創建一個for循環，提示用戶3次興趣愛好。\n",
    "\n",
    "1. 將每個提示的結果保存在變量hobby中\n",
    "2. 追加(append)每一個愛好。\n",
    "3. 在你的for循環之後印出hobby\n",
    "\n",
    "測試代碼時，請務必在終端中回答提示！"
   ]
  },
  {
   "cell_type": "code",
   "execution_count": 13,
   "metadata": {},
   "outputs": [],
   "source": [
    "hobbies = []\n",
    "\n",
    "# Add your code below!\n",
    "\n",
    "\n",
    "\n",
    "\n",
    "\n",
    "\n",
    "\n",
    "\n"
   ]
  },
  {
   "cell_type": "code",
   "execution_count": 14,
   "metadata": {},
   "outputs": [
    {
     "name": "stdout",
     "output_type": "stream",
     "text": [
      "Tell me one of your favorite hobbies: GG\n",
      "Tell me one of your favorite hobbies: RR\n",
      "Tell me one of your favorite hobbies: HH\n",
      "['GG', 'RR', 'HH']\n"
     ]
    }
   ],
   "source": [
    "#### 參考作法\n",
    "\n",
    "hobbies = []\n",
    "\n",
    "# Add your code below!\n",
    "\n",
    "for num in range(3):\n",
    "  hobby =  input(\"Tell me one of your favorite hobbies: \")\n",
    "  hobbies.append(hobby)\n",
    "\n",
    "print (hobbies)"
   ]
  },
  {
   "cell_type": "markdown",
   "metadata": {},
   "source": [
    "\n",
    "# Learn 11/19\n",
    "\n",
    "## Loops 遞迴\n",
    "\n",
    "### 字串\n",
    "\n",
    "使用for循環，您可以印出字串中的每個單獨的字元。\n",
    "編輯器中的例子幾乎是簡單的英語：\"for each character c in thing, print c\".\n",
    "\n",
    "# Instructions 11/19\n",
    "\n",
    "下面程式為你示範一個fot迴圈，你應該自己增加一個新的for迴圈，試看看功能跟你想的差多少?\n"
   ]
  },
  {
   "cell_type": "code",
   "execution_count": 15,
   "metadata": {},
   "outputs": [
    {
     "name": "stdout",
     "output_type": "stream",
     "text": [
      "s\n",
      "p\n",
      "a\n",
      "m\n",
      "!\n"
     ]
    }
   ],
   "source": [
    "thing = \"spam!\"\n",
    "\n",
    "for c in thing:\n",
    "  print (c)\n",
    "\n",
    "word = \"eggs!\"\n",
    "\n",
    "# Your code here!\n",
    "\n",
    "\n",
    "\n",
    "\n",
    "\n",
    "\n"
   ]
  },
  {
   "cell_type": "markdown",
   "metadata": {},
   "source": [
    "    #### 試看看 不要直接看答案\n",
    "\n",
    "    thing = \"spam!\"\n",
    "\n",
    "    for c in thing:\n",
    "      print (c)\n",
    "\n",
    "    word = \"eggs!\"\n",
    "\n",
    "    # Your code here!\n",
    "    for character in word:\n",
    "      print (character)"
   ]
  },
  {
   "cell_type": "markdown",
   "metadata": {},
   "source": [
    "\n",
    "# Learn 12/19\n",
    "\n",
    "## Loops 遞迴\n",
    "\n",
    "### 你的天龍特攻隊(The A Team- 要把A隱藏好的任務)\n",
    "\n",
    "如果要修改字串中的某些內容，for循環在字串操作中很有用。\n",
    "\n",
    "    word = \"Marble\"\n",
    "    for char in word:\n",
    "      print (char,)\n",
    "  \n",
    "上面的例子遍歷字中的每個字符，最後打印出數字。\n",
    "逗號(,)可以確保我們下一個要打印的語句將保持打印在同一行上。(只有在2有用, 3的版本我們之前有示範過， 底下有不同例子可以參考)\n",
    "\n",
    "\n",
    "# Instructions 12/19\n",
    "\n",
    "我們從字串中過濾掉字母“A”。\n",
    "\n",
    "1.對短語中的每個字符執行以下操作。\n",
    "2.如果char是“A”或char是“a”，則用“X”取代它。\n",
    "3.否則（else:)，請用逗號打印char。(只有2有用，3應該用另一種方式來做出空格)"
   ]
  },
  {
   "cell_type": "markdown",
   "metadata": {},
   "source": [
    "#python 2\n",
    "#[參考](https://stackoverflow.com/questions/21542694/difference-between-using-commas-concatenation-and-string-formatters-in-python)\n",
    "\n",
    "    x = \"Hello\"\n",
    "    y = \"World\"\n",
    "\n",
    "    print \"I am printing\",\n",
    "    print x,\n",
    "    print y \n",
    "    #I am printing Hello World\n",
    "\n"
   ]
  },
  {
   "cell_type": "markdown",
   "metadata": {},
   "source": [
    "#python 3\n",
    "#[參考](https://stackoverflow.com/questions/21542694/difference-between-using-commas-concatenation-and-string-formatters-in-python)\n",
    "\n",
    "    x = \"Hello\"\n",
    "    y = \"World\"\n",
    "\n",
    "    print('I am printing {} {}'.format(x, y))"
   ]
  },
  {
   "cell_type": "code",
   "execution_count": 29,
   "metadata": {},
   "outputs": [
    {
     "data": {
      "text/plain": [
       "<function print>"
      ]
     },
     "execution_count": 29,
     "metadata": {},
     "output_type": "execute_result"
    }
   ],
   "source": [
    "phrase = \"A bird in the hand...\"\n",
    "\n",
    "# Add your for loop\n",
    "\n",
    "\n",
    "\n",
    "\n",
    "\n",
    "\n",
    "\n",
    "\n",
    "\n",
    "#Don't delete this print statement!\n",
    "print"
   ]
  },
  {
   "cell_type": "markdown",
   "metadata": {},
   "source": [
    "    #### 試看看 不要直接看答案\n",
    "    phrase = \"A bird in the hand...\"\n",
    "\n",
    "    # Add your for loop\n",
    "    for char in phrase:\n",
    "      if char == \"A\" or char == 'a':\n",
    "        print('X', end=' ')    \n",
    "      else:\n",
    "        print(char,end=' ') \n",
    "    #Don't delete this print statement!\n",
    "    print"
   ]
  },
  {
   "cell_type": "markdown",
   "metadata": {},
   "source": [
    "\n",
    "# Learn 13/19\n",
    "\n",
    "## Loops 遞迴\n",
    "\n",
    "### 你的list\n",
    "\n",
    "也許最有用（也是最常見的）的for迴圈是遍歷一個list。\n",
    "在每次迭代中，變量num將成為列表中的下一個值。 所以，第一次它將是7，第二次是9，然後是12，54，99，然後當列表中沒有更多值時，循環將退出。\n",
    "\n",
    "# Instructions 13/19\n",
    "\n",
    "寫第二個for循環，透過數字列表numbers list並印出裡面每個元素的平方。(請讓內容跟\"This list contains:\"在同一行出現)\n"
   ]
  },
  {
   "cell_type": "code",
   "execution_count": 1,
   "metadata": {},
   "outputs": [
    {
     "name": "stdout",
     "output_type": "stream",
     "text": [
      "This list contains: \n",
      "7\n",
      "9\n",
      "12\n",
      "54\n",
      "99\n"
     ]
    }
   ],
   "source": [
    "numbers  = [7, 9, 12, 54, 99]\n",
    "\n",
    "print (\"This list contains: \")\n",
    "\n",
    "# Modify your loop below!\n",
    "for num in numbers:\n",
    "  print (num)\n",
    "\n",
    "\n",
    "\n",
    "\n",
    "\n",
    "\n",
    "\n",
    "\n",
    "\n",
    "\n",
    "\n",
    "\n",
    "\n"
   ]
  },
  {
   "cell_type": "code",
   "execution_count": 10,
   "metadata": {},
   "outputs": [
    {
     "name": "stdout",
     "output_type": "stream",
     "text": [
      "This list contains: 7^2=49; 9^2=81; 12^2=144; 54^2=2916; 99^2=9801; "
     ]
    }
   ],
   "source": [
    "#### 試看看 不要直接看答案\n",
    "numbers  = [7, 9, 12, 54, 99]\n",
    "\n",
    "print (\"This list contains: \", end='')\n",
    "\n",
    "for num in numbers:\n",
    "  print ('%s^2=%s' % (num, num ** 2), end='; ')\n"
   ]
  },
  {
   "cell_type": "markdown",
   "metadata": {},
   "source": [
    "\n",
    "# Learn 14/19\n",
    "\n",
    "## Loops 遞迴\n",
    "\n",
    "### 從字典上踩過去的遞迴\n",
    "\n",
    "您可能想知道如何循環使用字典。 你會得到Key還是Value？\n",
    "簡短的答案是：你得到可以用來獲得Value的Key。\n",
    "\n",
    "    d = {'x': 9, 'y': 10, 'z': 20}\n",
    "    for key in d:\n",
    "      if d[key] == 10:\n",
    "        print (\"This dictionary has the value 10!\")\n",
    "    \n",
    "1. 首先，我們創建一個以字串作為Key和以數字做為Value的字典。\n",
    "2. 然後，我們遍歷字典，每次將Key 存在Key 中。\n",
    "3. 接下來，我們檢查一下該Key 的Value 是否等於10。\n",
    "\n",
    "如果是這樣，我們印出“This dictionary has the value 10!”\n",
    "\n",
    "\n",
    "# Instructions 14/19\n",
    "\n",
    "印出該key，後面接著一個空格，最後再接著該Key的Value。"
   ]
  },
  {
   "cell_type": "code",
   "execution_count": 12,
   "metadata": {},
   "outputs": [
    {
     "ename": "SyntaxError",
     "evalue": "unexpected EOF while parsing (<ipython-input-12-62d2e1106722>, line 11)",
     "output_type": "error",
     "traceback": [
      "\u001b[1;36m  File \u001b[1;32m\"<ipython-input-12-62d2e1106722>\"\u001b[1;36m, line \u001b[1;32m11\u001b[0m\n\u001b[1;33m    \u001b[0m\n\u001b[1;37m    ^\u001b[0m\n\u001b[1;31mSyntaxError\u001b[0m\u001b[1;31m:\u001b[0m unexpected EOF while parsing\n"
     ]
    }
   ],
   "source": [
    "d = {'a': 'apple', 'b': 'berry', 'c': 'cherry'}\n",
    "\n",
    "for key in d:\n",
    "  # Your code here!\n",
    "  \n",
    "    \n",
    "    \n",
    "    \n",
    "    \n",
    "    \n",
    "    "
   ]
  },
  {
   "cell_type": "code",
   "execution_count": 13,
   "metadata": {},
   "outputs": [
    {
     "name": "stdout",
     "output_type": "stream",
     "text": [
      "a apple\n",
      "b berry\n",
      "c cherry\n"
     ]
    }
   ],
   "source": [
    "#### 試看看 不要直接看答案\n",
    "d = {'a': 'apple', 'b': 'berry', 'c': 'cherry'}\n",
    "\n",
    "for key in d:\n",
    "  # Your code here!\n",
    "  print (key, d[key])"
   ]
  },
  {
   "cell_type": "markdown",
   "metadata": {},
   "source": [
    "# Learn 15/19\n",
    "\n",
    "## Loops 遞迴\n",
    "\n",
    "### 如你所願的數數\n",
    "\n",
    "使用for-each這種迭代方式的一個弱點(膝蓋-中箭的地方)是你不知道你正在查找的東西的索引。通常這不是一個問題，但有時候知道你再list裡的那個地方是很有用的。值得慶幸的是內建的enumerate(列舉)函數有助於此。\n",
    "\n",
    "列舉透過列表中的每個元素提供的相應索引來傳遞它。 每次循環時，索引將會更大，並且項目將成為序列中的下一個項目。 這與使用帶有列表的普通循環非常相似，這給我們一個簡單的方法來計算迄今為止我們已經在列表中看到了多少項目。\n",
    "\n",
    "# Instructions 15/19\n",
    "\n",
    "有時我們不希望用戶看到東西是從索引(index)0開始，因為這看起來不自然，跟人類習慣不同。現在，我們試試把讓這些項目索引1開始。請修改列印語句以反映此行為。"
   ]
  },
  {
   "cell_type": "code",
   "execution_count": 14,
   "metadata": {},
   "outputs": [
    {
     "name": "stdout",
     "output_type": "stream",
     "text": [
      "Your choices are:\n",
      "0 pizza\n",
      "1 pasta\n",
      "2 salad\n",
      "3 nachos\n"
     ]
    }
   ],
   "source": [
    "choices = ['pizza', 'pasta', 'salad', 'nachos']\n",
    "\n",
    "print ('Your choices are:')\n",
    "for index, item in enumerate(choices):\n",
    "  print (index, item)"
   ]
  },
  {
   "cell_type": "markdown",
   "metadata": {},
   "source": [
    "    # 先不要看參考答案，自己先試試看\n",
    "    choices = ['pizza', 'pasta', 'salad', 'nachos']\n",
    "\n",
    "    print ('Your choices are:')\n",
    "    for index, item in enumerate(choices):\n",
    "      print (index+1, item)"
   ]
  },
  {
   "cell_type": "markdown",
   "metadata": {},
   "source": [
    "# Learn 16/19\n",
    "\n",
    "## Loops 遞迴\n",
    "\n",
    "### 多個列表\n",
    "\n",
    "同時需要一次迭代兩個列表也很常見。 這是內建zip功能派上用場的地方。\n",
    "zip將在兩個列表傳遞時創建成對的元素，並且將在較短列表的末尾停止(這樣兩個列表會一樣長)。\n",
    "zip也可以處理三個或更多列表！\n",
    "\n",
    "# Instructions 16/19\n",
    "\n",
    "比較每一對元素並印出兩者中較大的一個。\n"
   ]
  },
  {
   "cell_type": "code",
   "execution_count": 16,
   "metadata": {},
   "outputs": [
    {
     "ename": "SyntaxError",
     "evalue": "unexpected EOF while parsing (<ipython-input-16-8296bcbc2612>, line 15)",
     "output_type": "error",
     "traceback": [
      "\u001b[1;36m  File \u001b[1;32m\"<ipython-input-16-8296bcbc2612>\"\u001b[1;36m, line \u001b[1;32m15\u001b[0m\n\u001b[1;33m    \u001b[0m\n\u001b[1;37m    ^\u001b[0m\n\u001b[1;31mSyntaxError\u001b[0m\u001b[1;31m:\u001b[0m unexpected EOF while parsing\n"
     ]
    }
   ],
   "source": [
    "list_a = [3, 9, 17, 15, 19]\n",
    "list_b = [2, 4, 8, 10, 30, 40, 50, 60, 70, 80, 90]\n",
    "\n",
    "for a, b in zip(list_a, list_b):\n",
    "  # Add your code here!\n",
    "  \n",
    "    \n",
    "    \n",
    "    \n",
    "    \n",
    "    \n",
    "    \n",
    "    \n",
    "    \n",
    "    "
   ]
  },
  {
   "cell_type": "code",
   "execution_count": 20,
   "metadata": {},
   "outputs": [
    {
     "name": "stdout",
     "output_type": "stream",
     "text": [
      "3, 9, 17, 15, 30, "
     ]
    }
   ],
   "source": [
    "# 先不要看參考答案，自己先試試看\n",
    "\n",
    "list_a = [3, 9, 17, 15, 19]\n",
    "list_b = [2, 4, 8, 10, 30, 40, 50, 60, 70, 80, 90]\n",
    "\n",
    "for a, b in zip(list_a, list_b):\n",
    "  # Add your code here!\n",
    "    print (max(a, b), end=\", \")"
   ]
  },
  {
   "cell_type": "markdown",
   "metadata": {},
   "source": [
    "# Learn 17/19\n",
    "\n",
    "## Loops 遞迴\n",
    "\n",
    "### For / else\n",
    "\n",
    "就像while一樣，for循環還有els可以搭配使用。\n",
    "else語句在for之後執行，但前提是for正常結束 - 即沒有中斷。 底下代碼在碰到'tomato'時會中斷，所以else區塊不會被執行。\n",
    "\n",
    "# Instructions 17/19\n",
    "\n",
    "來看看else的運作邏輯吧。\n"
   ]
  },
  {
   "cell_type": "code",
   "execution_count": 21,
   "metadata": {},
   "outputs": [
    {
     "name": "stdout",
     "output_type": "stream",
     "text": [
      "You have...\n",
      "A banana\n",
      "A apple\n",
      "A orange\n",
      "A tomato is not a fruit!\n"
     ]
    }
   ],
   "source": [
    "fruits = ['banana', 'apple', 'orange', 'tomato', 'pear', 'grape']\n",
    "\n",
    "print ('You have...')\n",
    "for f in fruits:\n",
    "  if f == 'tomato':\n",
    "    print ('A tomato is not a fruit!') # (It actually is.)\n",
    "    break\n",
    "  print ('A', f)\n",
    "else:\n",
    "  print ('A fine selection of fruits!')"
   ]
  },
  {
   "cell_type": "markdown",
   "metadata": {},
   "source": [
    "# Learn 18/19\n",
    "\n",
    "## Loops 遞迴\n",
    "\n",
    "### 改變它\n",
    "\n",
    "如前所述，在這種情況下，else塊不會運行，因為break在碰到'tomato'時執行。\n",
    "\n",
    "\n",
    "# Instructions 18/19\n",
    "\n",
    "修改編輯器中的代碼，以便執行for循環的else語句。"
   ]
  },
  {
   "cell_type": "code",
   "execution_count": null,
   "metadata": {},
   "outputs": [],
   "source": [
    "fruits = ['banana', 'apple', 'orange', 'tomato', 'pear', 'grape']\n",
    "\n",
    "print ('You have...')\n",
    "\n",
    "\n",
    "#改變你的程式 讓ELSE執行到\n",
    "\n",
    "for f in fruits:\n",
    "  if f == 'tomato':\n",
    "    print ('A tomato is not a fruit!') # (It actually is.)\n",
    "    break\n",
    "  print ('A', f)\n",
    "else:\n",
    "  print ('A fine selection of fruits!')\n",
    "\n",
    "\n"
   ]
  },
  {
   "cell_type": "markdown",
   "metadata": {},
   "source": [
    "    # 先不要看參考答案，自己先試試看\n",
    "\n",
    "\n",
    "    fruits = ['banana', 'apple', 'orange', 'tomato', 'pear', 'grape']\n",
    "\n",
    "    print ('You have...')\n",
    "\n",
    "\n",
    "    #改變你的程式 讓ELSE執行到\n",
    "\n",
    "    for f in fruits:\n",
    "      if f == 'tomato':\n",
    "        print ('A tomato is not a fruit!') # (It actually is.)\n",
    "        #break\n",
    "      else:\n",
    "        print ('A', f)\n",
    "    else:\n",
    "      print ('A fine selection of fruits!')\n",
    "\n"
   ]
  },
  {
   "cell_type": "markdown",
   "metadata": {},
   "source": [
    "# Learn 19/19\n",
    "\n",
    "## Loops 遞迴\n",
    "\n",
    "### 舉頭三尺有神明，請摸著自己的良心，自己弄一個屬於你自己的for/else迴圈。\n",
    "\n",
    "為了總結本課，我們從頭開始創建自己的for / else語句。"
   ]
  },
  {
   "cell_type": "code",
   "execution_count": null,
   "metadata": {},
   "outputs": [],
   "source": [
    "#開始吧\n",
    "\n",
    "\n",
    "\n",
    "\n",
    "\n",
    "\n",
    "\n",
    "\n",
    "\n",
    "\n",
    "\n",
    "\n",
    "\n",
    "\n",
    "\n",
    "\n"
   ]
  },
  {
   "cell_type": "markdown",
   "metadata": {},
   "source": [
    "#真的還是不會，可以參考前一個例子。"
   ]
  },
  {
   "cell_type": "code",
   "execution_count": null,
   "metadata": {},
   "outputs": [],
   "source": []
  }
 ],
 "metadata": {
  "kernelspec": {
   "display_name": "Python 3",
   "language": "python",
   "name": "python3"
  },
  "language_info": {
   "codemirror_mode": {
    "name": "ipython",
    "version": 3
   },
   "file_extension": ".py",
   "mimetype": "text/x-python",
   "name": "python",
   "nbconvert_exporter": "python",
   "pygments_lexer": "ipython3",
   "version": "3.5.5"
  },
  "widgets": {
   "state": {},
   "version": "1.1.2"
  }
 },
 "nbformat": 4,
 "nbformat_minor": 2
}
