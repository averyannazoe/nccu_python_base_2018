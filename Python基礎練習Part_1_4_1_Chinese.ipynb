{
 "cells": [
  {
   "cell_type": "markdown",
   "metadata": {},
   "source": [
    "# Python基礎練習\n",
    "\n",
    "本教材編撰來源系來自[Codecademy](https://www.codecademy.com/)，原設計為Python 2之語系，本練習系提供離線使用，並將之中文化且優化為python 3。2與3差異不大，同學可自行前往原始網站進行互動學習。若初學者，可以使用本教材，避免語言的隔閡後，再到原始網站練習，得到更深層的學習成果。\n",
    "\n",
    "## 練習目標單元part_1:\n",
    "\n",
    "1. Python基礎語法\n",
    "\n",
    "2. 字串(Strings)及輸出(Console Output)\n",
    "\n",
    "3. 條件式(Conditionals)及流程控制(Control Flow)\n",
    "\n",
    "4. 功能函式(Functions)\n",
    "\n",
    "## 練習目標單元part_2:\n",
    "\n",
    "5. 列表(Lists)及字典(Dictionaries)\n",
    "\n",
    "6. 由學生轉變為老師\n",
    "\n",
    "7. 列表(Lists)及功能函式(Functions)\n",
    "\n",
    "8. 循環(Loops)"
   ]
  },
  {
   "cell_type": "markdown",
   "metadata": {},
   "source": [
    "# 以下為part_1\n",
    "# 4.1 函數(Function)宣告及使用- 練習內容\n",
    "## ---------------------------------------------------------------------------------------------------"
   ]
  },
  {
   "cell_type": "markdown",
   "metadata": {},
   "source": [
    "# 學習 1/19\n",
    "\n",
    "## 函數(Function)\n",
    "\n",
    "### 使用函數(Function)有什麼好處？\n",
    "\n",
    "你可能已經考慮過你想重複使用一段代碼的情況。如果只要傳入一些不同的值，而不是重寫整個程式，這時候定義一個函數會更清爽，然後你可以不斷重複使用它。\n",
    "\n",
    "# 導引 1/19\n",
    "\n",
    "查看底下的程式。您可以看到我們已經定義了兩個函數：計算稅和計算小費的函數。\n",
    "乍看之下，好像很複雜，隨後我們將盡快解釋。先試看看函數如何運作，準備就緒後，按“Shift + Enter”執行，並觀察其結果。"
   ]
  },
  {
   "cell_type": "code",
   "execution_count": 1,
   "metadata": {},
   "outputs": [
    {
     "name": "stdout",
     "output_type": "stream",
     "text": [
      "With tax: 108.000000\n",
      "With tip: 124.200000\n"
     ]
    }
   ],
   "source": [
    "def tax(bill):\n",
    "  \"\"\"賬單計算8％的稅\"\"\"\n",
    "  bill *= 1.08\n",
    "  print (\"With tax: %f\" % bill)\n",
    "  return bill\n",
    "\n",
    "def tip(bill):\n",
    "  \"\"\"給15%的小費\"\"\"\n",
    "  bill *= 1.15\n",
    "  print (\"With tip: %f\" % bill)\n",
    "  return bill\n",
    "  \n",
    "meal_cost = 100\n",
    "meal_with_tax = tax(meal_cost)\n",
    "meal_with_tip = tip(meal_with_tax)"
   ]
  },
  {
   "cell_type": "markdown",
   "metadata": {},
   "source": [
    "# 學習 2/19\n",
    "\n",
    "## Functions\n",
    "\n",
    "### 函數三劍客\n",
    "\n",
    "函數主要由三個部分定義：\n",
    "\n",
    "1.標題，其中包括def關鍵字，函數的名稱和函數需要的參數。 舉一個例子：\n",
    "\n",
    "* def hello_world(): #這是沒有參數的例子\n",
    "\n",
    "2.一個註釋(這是選項，你可以忽略，但我們希望你養成好習慣幫程式做好註解)，解釋了函數的功能。\n",
    "\n",
    "* \"\"\"印出'Hello World！'\"\"\"\n",
    "\n",
    "3.描述主要功能執行的主體。記得要把主要的區塊縮排，就像條件語句一樣。\n",
    "\n",
    "* print (\"Hello World!\")\n",
    "\n",
    "以下是拼湊起來的全部功能：\n",
    "\n",
    "def hello_world():\n",
    "  \"\"\"印出'Hello World！'\"\"\"\n",
    "  print (\"Hello World!\")\n",
    "  \n",
    "  \n",
    "# 導引 2/19\n",
    "\n",
    "練習建一個函數，命名為spam，功能是把字串“Eggs!”印出來。不要忘記幫程式做些註解（用三個引號括起來！）。"
   ]
  },
  {
   "cell_type": "code",
   "execution_count": 2,
   "metadata": {},
   "outputs": [
    {
     "name": "stdout",
     "output_type": "stream",
     "text": [
      "Eggs!\n"
     ]
    }
   ],
   "source": [
    "def spam(): #這是沒有參數的例子\n",
    "  \"\"\"Prints 'Eggs'.\"\"\"\n",
    "  print (\"Eggs!\")\n",
    "spam()"
   ]
  },
  {
   "cell_type": "markdown",
   "metadata": {},
   "source": [
    "# 學習 3/19\n",
    "\n",
    "## Functions\n",
    "\n",
    "### 呼叫(Call)和回應(Response)\n",
    "定義一個函數後，必須呼叫(Call)它來實際執行。在前面的練習中，最後一行的spam()就是告訴程式說，請找到spam()這個韓數並執行其中的程式。\n",
    "  \n",
    "# 導引 3/19\n",
    "我們已經建立了一個函數，名為square。請執行(call it)他，並且把10放在()中，再觀察他的結果，試著看懂程式的邏輯。"
   ]
  },
  {
   "cell_type": "code",
   "execution_count": 3,
   "metadata": {},
   "outputs": [
    {
     "name": "stdout",
     "output_type": "stream",
     "text": [
      "10 的平方是 100.\n",
      "100\n",
      "20 的平方是 400.\n",
      "400\n"
     ]
    }
   ],
   "source": [
    "def square(n):\n",
    "  \"\"\"回傳一個數字的平方.\"\"\"\n",
    "  squared = n ** 2\n",
    "  print (\"%d 的平方是 %d.\" % (n, squared))\n",
    "  return squared\n",
    "\n",
    "int_input = 10\n",
    "print(square(int_input))\n",
    "\n",
    "print(square(20))"
   ]
  },
  {
   "cell_type": "markdown",
   "metadata": {},
   "source": [
    "# 學習 4/19\n",
    "\n",
    "## Functions\n",
    "\n",
    "### 參數 (Parameter)與引數 (Argument)\n",
    "\n",
    "引數 (Argument) 是用於呼叫函式，參數 (Parameter) 是方法簽章 (方法的宣告)。\n",
    "\n",
    "我們再看一次前面的平方的範例:\n",
    "\n",
    "def square(n):\n",
    "  \"\"\"回傳一個數字的平方.\"\"\"\n",
    "  squared = n ** 2\n",
    "  print (\"%d 的平方是 %d.\" % (n, squared))\n",
    "  return squared\n",
    "\n",
    "int_input = 10\n",
    "print(square(int_input))\n",
    "\n",
    "print(square(20))\n",
    "\n",
    "\n",
    "#### 其中n稱為參數 (Parameter)，而int_input及20都稱為引數(Argument)\n",
    "\n",
    "#### 這在後面的練習會經常遇到，希望同學能弄清楚這兩個名詞的意義。\n",
    "\n",
    "若細看的分解:\n",
    "\n",
    "* def square(n):\n",
    "\n",
    "n是square變數的參數。參數本身是一個函數的輸入變量。它的意思是當你要使用square這個函式時，你可以輸入任何的數字，但因為寫函式的時候，我們不知道到底你會輸入甚麼，所以我們先用一個變數來替代他，他代表萬用的輸入，可以是任何數字。\n",
    "\n",
    "注意到，n是參數 (Parameter)，我們已經知道這件事，一個函式可以有多個參數\n",
    "\n",
    "如上面所說的例子說明，傳遞給函式(function)的參數 (Parameter)的值(value)，我們稱為引數(Argument)。你可以想像成，參數 (Parameter)是一種概念的變數，而引數(Argument)把它實體化了。\n",
    "\n",
    "這裡的例子說明了函式(function)-square被實體使用了，其過程中參數(parameter) n被設定成10的值，這個10，我們知道是引數(Argument)。\n",
    "\n",
    "* 通常，當你使用一個函式(function)時，你應該傳入與參數(Parameter)相同數量的引數(Argument)，這樣你的函式才可以被實體化(有些例外狀況是你的參數(Parameter)中已經給定了某些預設值，使的引數(Argument)<=參數(Parameter)。\n",
    "\n",
    "總結：\n",
    "\n",
    "* 定義函式(function)時，概念化設計的變數，我們稱為參數(Parameter)。\n",
    "* 當你要實體化一個函式(function)時，其輸入稱為函式(function)的引數(Argument)。\n",
    "\n",
    "  \n",
    "# 導引 4/19\n",
    "檢查底下的程式，函式(function)power被定義兩個參數(Parameter)。我們希望你把____補充起來，讓程式正常運作。\n",
    "\n",
    "1. 參數(Parameter)1 應該是一個基底。\n",
    "2. 參數(Parameter)2 是參數1基底的指數。\n",
    "\n",
    "你要執行應用power(參數(Parameter)1, 參數(Parameter)2)來啟用它。當你輸入兩個引數(arguments)-37,4的時候，你應該得到37的4次方為 1874161。"
   ]
  },
  {
   "cell_type": "code",
   "execution_count": null,
   "metadata": {},
   "outputs": [],
   "source": [
    "學習def power(__,__):  # Add your parameters here!\n",
    "  result = ___ ** ___\n",
    "  print (\"%d to the power of %d is %d.\" % (___, ___, result))\n",
    "\n",
    "power(__,__)  # Add your arguments here!"
   ]
  },
  {
   "cell_type": "markdown",
   "metadata": {},
   "source": [
    "#先不要看答案，自己練習看看\n",
    "def power(base,exponent):  # Add your parameters here!\n",
    "  result = base ** exponent\n",
    "  print (\"%d to the power of %d is %d.\" % (base, exponent, result))\n",
    "\n",
    "power(37,4)  # Add your arguments here!"
   ]
  },
  {
   "cell_type": "markdown",
   "metadata": {},
   "source": [
    "# 學習 5/19\n",
    "\n",
    "## Functions\n",
    "\n",
    "### 函式(Functions) 呼叫(Calling) 函式(Functions)\n",
    "\n",
    "我們已經看到了可以進行簡單算術並印出內容的函式。猜猜看，這個函式數可以更強大嗎? 例如，一個函式可以去叫用另一個函式：\n",
    "\n",
    "* def fun_one(n):\n",
    "*   return n * 5\n",
    "\n",
    "* def fun_two(m):\n",
    "*   return fun_one(m) + 7\n",
    "\n",
    "答案是肯定的，我們來試試看吧。\n",
    "\n",
    "  \n",
    "# 導引 5/19\n",
    "\n",
    "1. 讓我們來練習函式叫用函式的例子吧。我們讓函式deserves_another(這個函式的功能是把輸入加上2)來呼叫one_good_turn(這個函式的功能是把輸入加上1) 。\n",
    "\n",
    "2. 試看看輸入2到deserves_another，會得到甚麼結果?\n",
    "\n",
    "3. 如果你看到輸出是5，那我們就繼續下一個練習吧。"
   ]
  },
  {
   "cell_type": "code",
   "execution_count": 5,
   "metadata": {},
   "outputs": [],
   "source": [
    "def one_good_turn(n):\n",
    "  return n + 1\n",
    "    \n",
    "def deserves_another(n):\n",
    "  #想看看要怎麼呼叫one_good_turn來使用\n",
    "print (???????????)"
   ]
  },
  {
   "cell_type": "markdown",
   "metadata": {},
   "source": [
    "#別急著看答案，自己練習看看\n",
    "\n",
    "def one_good_turn(n):\n",
    "  return n + 1\n",
    "    \n",
    "def deserves_another(n):\n",
    "  return one_good_turn(n) + 2\n",
    "print (deserves_another(2))"
   ]
  },
  {
   "cell_type": "markdown",
   "metadata": {},
   "source": [
    "# 學習 6/19\n",
    "\n",
    "## Functions\n",
    "\n",
    "### 熟能生巧\n",
    "\n",
    "讓我們多一些練習。\n",
    "-------------------------------------\n",
    "def shout(phrase):\n",
    "  if phrase == phrase.upper():\n",
    "    return \"你在咆嘯!\"\n",
    "  else:\n",
    "    return \"你可以放聲?\"\n",
    "\n",
    "shout(\"UPPER\")\n",
    "-------------------------------------\n",
    "上面的例子只是為了幫助你記住函式的結構。不要忘記在你的函式定義的結尾加上冒號(:)！\n",
    "  \n",
    "# 導引 6/19\n",
    "\n",
    "1. 首先，定義一個名為cube的函式，它接受一個名為number的引數(argument)。 不要忘記括號和冒號！\n",
    "\n",
    "2. 使該函式返回該數字(number)的立方(三次方-即該數字乘以自身並再次乘以自己）。\n",
    "\n",
    "3. 定義另一個名為by_three的函式，它接受一個名為number的引數(argument)。\n",
    "\n",
    "4. 如果該數字(number)可以被3整除，則by_three應該呼叫cube(number)並返回其結果。 否則，by_three應返回False。\n",
    "\n",
    "5. 不要忘記，if and else語句需要在該行的末尾加上冒號(:)！"
   ]
  },
  {
   "cell_type": "code",
   "execution_count": 8,
   "metadata": {},
   "outputs": [
    {
     "name": "stdout",
     "output_type": "stream",
     "text": [
      "False\n"
     ]
    }
   ],
   "source": [
    "def cube(number):\n",
    "    return number**3\n",
    "  \n",
    "def by_three(number):\n",
    "    if number%3 == 0:\n",
    "      return cube(number)\n",
    "    else:\n",
    "      return False\n",
    "print (by_three(5))"
   ]
  },
  {
   "cell_type": "code",
   "execution_count": 7,
   "metadata": {},
   "outputs": [
    {
     "name": "stdout",
     "output_type": "stream",
     "text": [
      "你在咆嘯!\n",
      "你可以放聲?\n"
     ]
    }
   ],
   "source": [
    "#說明的例子\n",
    "def shout(phrase):\n",
    "  if phrase == phrase.upper():\n",
    "    return \"你在咆嘯!\"\n",
    "  else:\n",
    "    return \"你可以放聲?\"\n",
    "\n",
    "print(shout(\"UPPER\"))\n",
    "print(shout(\"upper\"))"
   ]
  },
  {
   "cell_type": "markdown",
   "metadata": {},
   "source": [
    "# 學習 7/19\n",
    "\n",
    "## Functions\n",
    "\n",
    "### 我會武功\n",
    "\n",
    "還記得以前的練習中提過import嗎?import 一個模組(module)後，你可以使用模組中的一些功能，通常module中會包含一些已經定義好的變數(variables)和函式(functions)提供大家使用，這些建立好的模組，可以讓你不用從一顆輪胎造起，就可以選到你理想中的零件。\n",
    "\n",
    "練武功不用扎馬步，我們直接打出昇龍拳K.O.敵人吧。\n",
    "\n",
    "# 導引 7/19\n",
    "\n",
    "1. 在我們開始練習import之前，讓我們看看Python內建的模組(module)中，其實已經知道平方根的含義，我們並不需要自己寫一個平方根的函式。 例如:\n",
    "\n",
    "* print（sqrt（25））\n",
    "\n",
    "2. 我們這樣使用後會希望得到5這個數字，但事與願違，它會引發錯誤。\n",
    "3. 沒關係，讓錯誤發生吧，我們等一下會看到怎麼樣解決。\n"
   ]
  },
  {
   "cell_type": "code",
   "execution_count": 10,
   "metadata": {},
   "outputs": [
    {
     "ename": "NameError",
     "evalue": "name 'sqrt' is not defined",
     "output_type": "error",
     "traceback": [
      "\u001b[1;31m---------------------------------------------------------------------------\u001b[0m",
      "\u001b[1;31mNameError\u001b[0m                                 Traceback (most recent call last)",
      "\u001b[1;32m<ipython-input-10-1d2bce8ba3ae>\u001b[0m in \u001b[0;36m<module>\u001b[1;34m()\u001b[0m\n\u001b[1;32m----> 1\u001b[1;33m \u001b[0mprint\u001b[0m \u001b[1;33m(\u001b[0m\u001b[0msqrt\u001b[0m\u001b[1;33m(\u001b[0m\u001b[1;36m25\u001b[0m\u001b[1;33m)\u001b[0m\u001b[1;33m)\u001b[0m\u001b[1;33m\u001b[0m\u001b[0m\n\u001b[0m",
      "\u001b[1;31mNameError\u001b[0m: name 'sqrt' is not defined"
     ]
    }
   ],
   "source": [
    "print (sqrt(25))"
   ]
  },
  {
   "cell_type": "markdown",
   "metadata": {},
   "source": [
    "# 學習 8/19\n",
    "\n",
    "## Functions\n",
    "\n",
    "### 一般泛用的Imports\n",
    "\n",
    "上面例子的錯誤中，你看到了嗎? Python告訴你:\n",
    "\n",
    "* NameError: name 'sqrt' is not defined\n",
    "\n",
    "這說明了python缺少一些名字為\"sqrt\"的定義。目前它並不懂srqt是甚麼東西。\n",
    "\n",
    "pyhton中有一個名為math的模組，其中包含許多有用的變數(variables)和函式(function)，而sqrt()就是其中的一個。 為了使用math這個模組，你需要import這個關鍵字，使用這種簡單的方式導入一個模組，我們稱它為一般導入(generic import)。\n",
    "\n",
    "\n",
    "# 導引 8/19\n",
    "\n",
    "你需要在這裡做兩件事修正上面的程式：\n",
    "\n",
    "1. 在底下的程式導入math這個模組，用法會像是import math這樣的作法。\n",
    "2. 在sqrt()前，插入math來當作引導，它會長得像這樣: math.sqrt()。這告訴Python不僅要導入數學，還要從數學中取出sqrt()函式來使用。\n",
    "3. 然後執行程式來看Python現在知不知道surt()的內容。"
   ]
  },
  {
   "cell_type": "code",
   "execution_count": 12,
   "metadata": {},
   "outputs": [
    {
     "name": "stdout",
     "output_type": "stream",
     "text": [
      "5.0\n"
     ]
    }
   ],
   "source": [
    "import ?????\n",
    "print (?????.sqrt(25))"
   ]
  },
  {
   "cell_type": "markdown",
   "metadata": {},
   "source": [
    "# 先別急著看答案，自己先練習看看\n",
    "import math \n",
    "print (math.sqrt(25))\n",
    "\n",
    "import math as mh\n",
    "print (mh.sqrt(25))"
   ]
  },
  {
   "cell_type": "markdown",
   "metadata": {},
   "source": [
    "# 學習 9/19\n",
    "\n",
    "## Functions\n",
    "\n",
    "### 函式引用(Function Imports)\n",
    "\n",
    "幹得不錯！ 現在Python知道如何獲取數字的平方根。\n",
    "但是，我們只需要sqrt函數，不想要全部的math功能都跑進來，並且我們不想一直打math.sqrt()，這樣多煩人，可以做得到嗎?\n",
    "\n",
    "我們也可以從模組裡挑出我們需要的某些變量或函數(variables or functions)。 這得要依賴from這個關鍵字來達到這樣的效果：\n",
    "\n",
    "* from module import function\n",
    "\n",
    "現在你可以只打sqrt()，而不用打math.sqrt()!\n",
    "\n",
    "\n",
    "# 導引 9/19\n",
    "我們練習一下上面的例子，只需要打入sqrt()就可以工作的方式。"
   ]
  },
  {
   "cell_type": "code",
   "execution_count": 1,
   "metadata": {},
   "outputs": [
    {
     "ename": "NameError",
     "evalue": "name 'sqrt' is not defined",
     "output_type": "error",
     "traceback": [
      "\u001b[1;31m---------------------------------------------------------------------------\u001b[0m",
      "\u001b[1;31mNameError\u001b[0m                                 Traceback (most recent call last)",
      "\u001b[1;32m<ipython-input-1-0dc5f5cee35a>\u001b[0m in \u001b[0;36m<module>\u001b[1;34m()\u001b[0m\n\u001b[0;32m      2\u001b[0m \u001b[1;33m\u001b[0m\u001b[0m\n\u001b[0;32m      3\u001b[0m \u001b[1;33m\u001b[0m\u001b[0m\n\u001b[1;32m----> 4\u001b[1;33m \u001b[0mprint\u001b[0m \u001b[1;33m(\u001b[0m\u001b[0msqrt\u001b[0m\u001b[1;33m(\u001b[0m\u001b[1;36m25\u001b[0m\u001b[1;33m)\u001b[0m\u001b[1;33m)\u001b[0m\u001b[1;33m\u001b[0m\u001b[0m\n\u001b[0m",
      "\u001b[1;31mNameError\u001b[0m: name 'sqrt' is not defined"
     ]
    }
   ],
   "source": [
    "# 別急著看答案，自己練習看看\n",
    "\n",
    "from math #練習在這後面加上東西??????????\n",
    "\n",
    "print (sqrt(25))"
   ]
  },
  {
   "cell_type": "markdown",
   "metadata": {},
   "source": [
    "# 別急著看答案，自己練習看看\n",
    "from math import sqrt\n",
    "\n",
    "print (sqrt(25))"
   ]
  },
  {
   "cell_type": "markdown",
   "metadata": {},
   "source": [
    "# 學習 10/19\n",
    "\n",
    "## Functions\n",
    "\n",
    "### 萬能引用(Universal Imports)\n",
    "\n",
    "很棒！我們已經找到了一種方法來從模組中挑選我們想要的變量和函數(variables and functions)。\n",
    "現在有種情況式，如果我們仍然想要一個模組中的所有變量和函數，但又不想經常鍵入math這個字，該怎麼辦？\n",
    "萬能引用(Universal Imports)可以為您處理。 這個語法是：\n",
    "\n",
    "* from module import *\n",
    "\n",
    "# 導引 10/19\n",
    "\n",
    "使用超強的萬能導入來把math模組全部導入，試試看吧!"
   ]
  },
  {
   "cell_type": "code",
   "execution_count": 4,
   "metadata": {},
   "outputs": [
    {
     "ename": "SyntaxError",
     "evalue": "invalid syntax (<ipython-input-4-32508e76dd44>, line 1)",
     "output_type": "error",
     "traceback": [
      "\u001b[1;36m  File \u001b[1;32m\"<ipython-input-4-32508e76dd44>\"\u001b[1;36m, line \u001b[1;32m1\u001b[0m\n\u001b[1;33m    from math #練習在這後面加上東西??????????\u001b[0m\n\u001b[1;37m                                   ^\u001b[0m\n\u001b[1;31mSyntaxError\u001b[0m\u001b[1;31m:\u001b[0m invalid syntax\n"
     ]
    }
   ],
   "source": [
    "from math #練習在這後面加上東西??????????\n",
    "\n",
    "print (sqrt(25))"
   ]
  },
  {
   "cell_type": "markdown",
   "metadata": {},
   "source": [
    "# 別急著看答案，自己練習看看\n",
    "\n",
    "from math import *\n",
    "\n",
    "print (sqrt(25))"
   ]
  },
  {
   "cell_type": "markdown",
   "metadata": {},
   "source": [
    "# 學習 11/19\n",
    "\n",
    "## Functions\n",
    "\n",
    "### 小心膝蓋，不要輕易中箭\n",
    "\n",
    "從表面上看，萬能引用可能看起來很好，但其實這並不是一個好主意，其中一個非常重要的原因是：它們在會在你的程式中充滿大量變數(variable)和函式(function)，管你有沒有使用到它，它為無時無刻的在你的程式你，這導致一個問題: 變量和函數名稱，沒有在你的允許下存在，會有機會存在一些危機，例如如果你命了一個自己的函式sqrt()，可能會和math中的sqrt()相衝突。倘若你同時引用更多的模組進來，恐怕會讓情況更加複雜。出於這些原因，最好堅持引用你真的用的到的模組進來就好。\n",
    "\n",
    "\n",
    "# 導引 11/19\n",
    "1. 底下例子將顯示math模組中所有可用內容。\n",
    "2. 你應該可以看到很多好用的功能，像是: sqrt, pi, factorial, and trigonometric ..."
   ]
  },
  {
   "cell_type": "code",
   "execution_count": 1,
   "metadata": {},
   "outputs": [
    {
     "name": "stdout",
     "output_type": "stream",
     "text": [
      "['__doc__', '__loader__', '__name__', '__package__', '__spec__', 'acos', 'acosh', 'asin', 'asinh', 'atan', 'atan2', 'atanh', 'ceil', 'copysign', 'cos', 'cosh', 'degrees', 'e', 'erf', 'erfc', 'exp', 'expm1', 'fabs', 'factorial', 'floor', 'fmod', 'frexp', 'fsum', 'gamma', 'gcd', 'hypot', 'inf', 'isclose', 'isfinite', 'isinf', 'isnan', 'ldexp', 'lgamma', 'log', 'log10', 'log1p', 'log2', 'modf', 'nan', 'pi', 'pow', 'radians', 'sin', 'sinh', 'sqrt', 'tan', 'tanh', 'tau', 'trunc']\n"
     ]
    }
   ],
   "source": [
    "import math # Imports the math module\n",
    "everything = dir(math)\n",
    "print (everything)"
   ]
  },
  {
   "cell_type": "markdown",
   "metadata": {},
   "source": [
    "# 學習 12/19\n",
    "\n",
    "## Functions\n",
    "\n",
    "### 更深入敵區\n",
    "\n",
    "* 現在您已經了解了函數功能以及如何導入模組進行你的工作。現在我們來看看Python中內建的一些函數（無需導入任何模組！）。\n",
    "* 你已經知道一些我們用過的字串函數，比如.upper()，.lower()，str()和len()。這些對於使用字串的工作來說非常棒，但有沒有其他的東西呢？\n",
    "\n",
    "# 導引 12/19\n",
    "看底下例子，你想想會出現甚麼結果，如果你有想法，就執行看看，確認結果跟想像差多少。"
   ]
  },
  {
   "cell_type": "code",
   "execution_count": 2,
   "metadata": {},
   "outputs": [
    {
     "name": "stdout",
     "output_type": "stream",
     "text": [
      "10\n",
      "-10\n",
      "10\n"
     ]
    },
    {
     "data": {
      "text/plain": [
       "10"
      ]
     },
     "execution_count": 2,
     "metadata": {},
     "output_type": "execute_result"
    }
   ],
   "source": [
    "def biggest_number(*args):\n",
    "  print (max(args))\n",
    "  return max(args)\n",
    "    \n",
    "def smallest_number(*args):\n",
    "  print (min(args))\n",
    "  return min(args)\n",
    "\n",
    "def distance_from_zero(arg):\n",
    "  print (abs(arg))\n",
    "  return abs(arg)\n",
    "\n",
    "biggest_number(-10, -5, 5, 10)\n",
    "smallest_number(-10, -5, 5, 10)\n",
    "distance_from_zero(-10)"
   ]
  },
  {
   "cell_type": "markdown",
   "metadata": {},
   "source": [
    "# 學習 13/19\n",
    "\n",
    "## Functions\n",
    "\n",
    "### max()\n",
    "\n",
    "* max()函數接受任意數量的輸入，並返回最大的數字。\n",
    "* 例如，max（1,2,3）將返回3。\n",
    "\n",
    "\n",
    "# 導引 13/19\n",
    "試看看底下的程式，改變一下輸入的數字，觀察結果。"
   ]
  },
  {
   "cell_type": "code",
   "execution_count": 20,
   "metadata": {},
   "outputs": [
    {
     "name": "stdout",
     "output_type": "stream",
     "text": [
      "3\n"
     ]
    }
   ],
   "source": [
    "maximum = max(1,2,3)\n",
    "\n",
    "print (maximum)"
   ]
  },
  {
   "cell_type": "markdown",
   "metadata": {},
   "source": [
    "# 學習 14/19\n",
    "\n",
    "## Functions\n",
    "\n",
    "### min()\n",
    "* min() 函數接受任意數量的輸入，並返回最小的數字。\n",
    "* 例如，min（1,2,3）將返回1。\n",
    "\n",
    "# 導引 14/19\n",
    "試看看底下的程式，改變一下輸入的數字，觀察結果。"
   ]
  },
  {
   "cell_type": "code",
   "execution_count": 3,
   "metadata": {},
   "outputs": [
    {
     "name": "stdout",
     "output_type": "stream",
     "text": [
      "1\n"
     ]
    }
   ],
   "source": [
    "minimum = min(1,2,3)\n",
    "\n",
    "print (minimum)"
   ]
  },
  {
   "cell_type": "markdown",
   "metadata": {},
   "source": [
    "# 學習 15/19\n",
    "\n",
    "## Functions\n",
    "\n",
    "### abs()\n",
    "abs（）函數返回數字的絕對值 - 也就是說，該數字與0的距離有多遠。 例如，3和-3都具有相同的絕對值：3。\n",
    "abs（）函數總是返回一個正值，而不像max（）和min（），這函數只能輸入一個數字。\n",
    "\n",
    "# 導引 15/19\n",
    "試看看底下的程式，改變一下輸入的數字，觀察結果。"
   ]
  },
  {
   "cell_type": "code",
   "execution_count": 22,
   "metadata": {},
   "outputs": [
    {
     "name": "stdout",
     "output_type": "stream",
     "text": [
      "42\n"
     ]
    }
   ],
   "source": [
    "absolute = abs(-42)\n",
    "\n",
    "print (absolute)"
   ]
  },
  {
   "cell_type": "markdown",
   "metadata": {},
   "source": [
    "# 學習 16/19\n",
    "\n",
    "## Functions\n",
    "\n",
    "### type()\n",
    "\n",
    "最後，type()函數返回你輸入資料的型態。當你需要確認輸入資料的型態時，這很重要，試一下底下的指令，你會看的輸出經列在底下給你參考：\n",
    "\n",
    "* print type(42)\n",
    "* print type(4.2)\n",
    "* print type('spam')\n",
    "\n",
    "輸出:\n",
    "\n",
    "-----2.7\n",
    "* <type 'int'>\n",
    "* <type 'float'>\n",
    "* <type 'str'>\n",
    "\n",
    "-----3.6\n",
    "* <class 'int'>\n",
    "* <class 'float'>\n",
    "* <class 'str'>\n",
    "\n",
    "# 導引 16/19\n",
    "試一下底下程式，如果可以，改變一下輸入，看看得到的結果是甚麼?跟你想的一不一樣?\n"
   ]
  },
  {
   "cell_type": "code",
   "execution_count": 23,
   "metadata": {},
   "outputs": [
    {
     "name": "stdout",
     "output_type": "stream",
     "text": [
      "<class 'int'>\n",
      "<class 'float'>\n",
      "<class 'str'>\n"
     ]
    }
   ],
   "source": [
    "print (type(42))\n",
    "print (type(4.2))\n",
    "print (type('spam'))"
   ]
  },
  {
   "cell_type": "markdown",
   "metadata": {},
   "source": [
    "# 學習 17/19\n",
    "\n",
    "## Functions\n",
    "\n",
    "### 函數( Functions) 回顧\n",
    "\n",
    "Okay! 讓我們回顧一下函數(functions)\n",
    "\n",
    "-------------------------------\n",
    "def speak(message):\n",
    "  return message\n",
    "\n",
    "if happy():\n",
    "  speak(\"I'm happy!\")\n",
    "elif sad():\n",
    "  speak(\"I'm sad.\")\n",
    "else:\n",
    "  speak(\"I don't know what I'm feeling.\")\n",
    "-------------------------------\n",
    "\n",
    "如果你忘記甚麼是函數，參考一下上面的例子，回憶一下!\n",
    "\n",
    "# 導引 17/19\n",
    "\n",
    "試看看，動手做一遍:\n",
    "\n",
    "1. 首先，定義一個函數(function)，命名為shut_down，讓它接受一個輸入值，不要忘記括號或冒號這些基本的東西！\n",
    "\n",
    "2. 如果shut_down函數收到s = \"yes\"，它應該返回\"Shutting down\"\n",
    "\n",
    "3. 如果shut_down函數收到s = \"no\"，它應該返回\"Shutdown aborted\"\n",
    "\n",
    "4. 如果shut_down函數收到s不再1或2的條件內的輸入，它應該返回\"Sorry\""
   ]
  },
  {
   "cell_type": "code",
   "execution_count": 5,
   "metadata": {},
   "outputs": [
    {
     "data": {
      "text/plain": [
       "'Sorry'"
      ]
     },
     "execution_count": 5,
     "metadata": {},
     "output_type": "execute_result"
    }
   ],
   "source": [
    "def shut_down(s):\n",
    "  if s ==\"yes\":\n",
    "    return \"Shutting down\"\n",
    "  elif s == \"no\":\n",
    "  \treturn \"Shutdown aborted\"\n",
    "  else:\n",
    "    return \"Sorry\"\n",
    "shut_down(\"Yes\")"
   ]
  },
  {
   "cell_type": "markdown",
   "metadata": {},
   "source": [
    "# 學習 18/19\n",
    "\n",
    "## Functions\n",
    "\n",
    "### ) 回顧模組(Modules)\n",
    "幹得好！ 現在我們來看看你記得關於導入模組(Modules)的內容還記得多少，特別是數學模組中可用的內容。\n",
    "\n",
    "# 導引 18/19\n",
    "\n",
    "以您喜歡的任何方式導入math模組(Modules)。 在數字13689上呼叫sqrt函數，並將該值輸出。"
   ]
  },
  {
   "cell_type": "code",
   "execution_count": 27,
   "metadata": {},
   "outputs": [
    {
     "name": "stdout",
     "output_type": "stream",
     "text": [
      "117.0\n",
      "117.0\n"
     ]
    }
   ],
   "source": [
    "import ???\n",
    "print (.sqrt(13689))"
   ]
  },
  {
   "cell_type": "markdown",
   "metadata": {},
   "source": [
    "#練習看看 不要輕易看答案\n",
    "import math as abc\n",
    "print (math.sqrt(13689))\n",
    "print (abc.sqrt(13689))"
   ]
  },
  {
   "cell_type": "markdown",
   "metadata": {},
   "source": [
    "# 學習 19/19\n",
    "\n",
    "## Functions\n",
    "\n",
    "###  回顧內建函數( Built-In Functions)\n",
    "\n",
    "很棒，最後讓我們看一下幾個內建函數。\n",
    "\n",
    "-------------------------------\n",
    "def is_numeric(num):\n",
    "  return type(num) == int or type(num) == float:\n",
    "\n",
    "max(2, 3, 4) # 4\n",
    "min(2, 3, 4) # 2\n",
    "\n",
    "abs(2) # 2\n",
    "abs(-2) # 2\n",
    "-------------------------------\n",
    "\n",
    "\n",
    "# 導引 19/19\n",
    "1. 寫一個名為distance_from_zero的函數，允許一個輸入。\n",
    "\n",
    "2. 如果輸入的型態是 int 或 float，該函數應返回輸入的絕對值。\n",
    "\n",
    "3. 否則，應該返回\"Nope\"\n"
   ]
  },
  {
   "cell_type": "code",
   "execution_count": null,
   "metadata": {},
   "outputs": [],
   "source": [
    "#試著自己動手做做看"
   ]
  },
  {
   "cell_type": "markdown",
   "metadata": {},
   "source": [
    "#試著自己動手做做看\n",
    "\n",
    "def distance_from_zero(AAA):\n",
    "  if type(AAA) == int or type(AAA) == float:\n",
    "    return abs(AAA)\n",
    "  else:\n",
    "    return \"Nope\"\n",
    "print (distance_from_zero(123))"
   ]
  }
 ],
 "metadata": {
  "kernelspec": {
   "display_name": "Python 3",
   "language": "python",
   "name": "python3"
  },
  "language_info": {
   "codemirror_mode": {
    "name": "ipython",
    "version": 3
   },
   "file_extension": ".py",
   "mimetype": "text/x-python",
   "name": "python",
   "nbconvert_exporter": "python",
   "pygments_lexer": "ipython3",
   "version": "3.6.4"
  }
 },
 "nbformat": 4,
 "nbformat_minor": 2
}
