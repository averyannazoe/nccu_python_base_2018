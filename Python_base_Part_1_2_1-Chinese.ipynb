{
 "cells": [
  {
   "cell_type": "markdown",
   "metadata": {},
   "source": [
    "# Python基礎練習\n",
    "\n",
    "本教材編撰來源系來自[Codecademy](https://www.codecademy.com/)，原設計為Python 2之語系，本練習系提供離線使用，並將之中文化且優化為python 3。2與3差異不大，同學可自行前往原始網站進行互動學習。若初學者，可以使用本教材，避免語言的隔閡後，再到原始網站練習，得到更深層的學習成果。\n",
    "\n",
    "## 練習目標單元part_1:\n",
    "\n",
    "1. Python基礎語法\n",
    "\n",
    "2. 字串(Strings)及輸出(Console Output)\n",
    "\n",
    "3. 條件式(Conditionals)及流程控制(Control Flow)\n",
    "\n",
    "4. 功能函式(Functions)\n",
    "\n",
    "## 練習目標單元part_2:\n",
    "\n",
    "5. 列表(Lists)及字典(Dictionaries)\n",
    "\n",
    "6. 由學生轉變為老師\n",
    "\n",
    "7. 列表(Lists)及功能函式(Functions)\n",
    "\n",
    "8. 循環(Loops)"
   ]
  },
  {
   "cell_type": "markdown",
   "metadata": {},
   "source": [
    "# 以下為part_1\n",
    "# 2.1 字串(Strings)及輸出(Console Output) 練習內容\n",
    "## ---------------------------------------------------------------------------------------------------"
   ]
  },
  {
   "cell_type": "markdown",
   "metadata": {},
   "source": [
    "# 進度 1/16\n",
    "\n",
    "## 字串(Strings)及輸出(Console Output)\n",
    "\n",
    "### 字串(Strings)\n",
    "字串是非常有用的資料型態。字串可以包含字母，數字和符號等。舉例:\n",
    "\n",
    "* name = \"Ryan\"\n",
    "* age = \"19\"\n",
    "* food = \"cheese\"\n",
    "\n",
    "1. 在上面的例子中，我們創建一個變量名為name，並將其指定為字串值“Ryan”。\n",
    "2. 我們還將年齡(age)設為“19”，將食物(food)設置為“cheese(奶酪)”。\n",
    "\n",
    "字串需要在引號內。\n",
    "\n",
    "\n",
    "# 導引 1/16\n",
    "創立一個新變數brian並為其指定為字串型態，值為“Hello life！”。"
   ]
  },
  {
   "cell_type": "code",
   "execution_count": 1,
   "metadata": {},
   "outputs": [
    {
     "ename": "SyntaxError",
     "evalue": "invalid syntax (<ipython-input-1-75b1a8a50ab8>, line 2)",
     "output_type": "error",
     "traceback": [
      "\u001b[1;36m  File \u001b[1;32m\"<ipython-input-1-75b1a8a50ab8>\"\u001b[1;36m, line \u001b[1;32m2\u001b[0m\n\u001b[1;33m    brian = #\"Hello life!\"\u001b[0m\n\u001b[1;37m                          ^\u001b[0m\n\u001b[1;31mSyntaxError\u001b[0m\u001b[1;31m:\u001b[0m invalid syntax\n"
     ]
    }
   ],
   "source": [
    "# 創立一個新變數brian並為其指定為字串型態，值為“Hello life！”。\n",
    "brian = #\"Hello life!\""
   ]
  },
  {
   "cell_type": "markdown",
   "metadata": {},
   "source": [
    "# 進度 2/16\n",
    "\n",
    "## 字串(Strings)及輸出(Console Output)\n",
    "\n",
    "### 練習\n",
    "太棒了，我們來做一些字串的練習。\n",
    "\n",
    "# 導引 2/16\n",
    "設定以下變數到他們指定的值:\n",
    "  1. Set caesar to \"Graham\"\n",
    "  2. Set praline to \"John\"\n",
    "  3. Set viking to \"Teresa\""
   ]
  },
  {
   "cell_type": "code",
   "execution_count": 2,
   "metadata": {},
   "outputs": [
    {
     "ename": "SyntaxError",
     "evalue": "invalid syntax (<ipython-input-2-3d817b06ec6f>, line 2)",
     "output_type": "error",
     "traceback": [
      "\u001b[1;36m  File \u001b[1;32m\"<ipython-input-2-3d817b06ec6f>\"\u001b[1;36m, line \u001b[1;32m2\u001b[0m\n\u001b[1;33m    caesar = #\"Graham\"\u001b[0m\n\u001b[1;37m                      ^\u001b[0m\n\u001b[1;31mSyntaxError\u001b[0m\u001b[1;31m:\u001b[0m invalid syntax\n"
     ]
    }
   ],
   "source": [
    "# 設定以下變數到他們指定的值\n",
    "caesar = #\"Graham\"\n",
    "praline = #\"John\"\n",
    "viking = #\"Teresa\"\n",
    "\n",
    "# 印出來看看!\n",
    "print (caesar)\n",
    "print (praline)\n",
    "print (viking)"
   ]
  },
  {
   "cell_type": "markdown",
   "metadata": {},
   "source": [
    "# 進度 3/16\n",
    "\n",
    "## 字串(Strings)及輸出(Console Output)\n",
    "\n",
    "### 轉義字元\n",
    "有些字元會導致問題。 例如：\n",
    "\n",
    "* 'There's a snake in my boot!'\n",
    "* '我的靴子裡有一條蛇！'\n",
    "\n",
    "這段代碼因為Python認為'There's'中的撇號結束了字串而中斷了。 我們可以使用反斜線來解決問題，如下所示：\n",
    "\n",
    "* 'There\\'s a snake in my boot!'\n",
    "\n",
    "# 導引 3/16\n",
    "在底下的程式中進行修正，使其正確執行。"
   ]
  },
  {
   "cell_type": "code",
   "execution_count": 11,
   "metadata": {},
   "outputs": [
    {
     "ename": "SyntaxError",
     "evalue": "invalid syntax (<ipython-input-11-4d68b866dd01>, line 4)",
     "output_type": "error",
     "traceback": [
      "\u001b[1;36m  File \u001b[1;32m\"<ipython-input-11-4d68b866dd01>\"\u001b[1;36m, line \u001b[1;32m4\u001b[0m\n\u001b[1;33m    'This isn't flying, this is falling with style!'\u001b[0m\n\u001b[1;37m              ^\u001b[0m\n\u001b[1;31mSyntaxError\u001b[0m\u001b[1;31m:\u001b[0m invalid syntax\n"
     ]
    }
   ],
   "source": [
    "# 底下的字串將會中斷。使用反斜線修正錯誤。\n",
    "#'This isn\\'t flying, this is falling with style!'\n",
    "\n",
    "'This isn't flying, this is falling with style!'"
   ]
  },
  {
   "cell_type": "markdown",
   "metadata": {},
   "source": [
    "# 進度 4/16\n",
    "\n",
    "## 字串(Strings)及輸出(Console Output)\n",
    "\n",
    "### 按索引(Index)檢索(Access)\n",
    "做得好！\n",
    "在python的世界裡，字串中的每個字元都會被分配一個數字。這個數字被稱為索引。查看下面練習編輯器中的圖表來瞭解這件事。\n",
    "\n",
    "例子：\n",
    "* c = \"cats\"[0]\n",
    "* n = \"Ryan\"[3]\n",
    "\n",
    "1. 在上面的例子中，我們建一個名為c的新變數，並將其指定為\"c\"(仔細看，字串“cats”的索引0的字元是不是\"c\"。\n",
    "2. 接下來，我們建一個名為n的新變數並將其指定為\"n\"(仔細看，字串Ryan的索引3的字元是不是\"n\"。\n",
    "\n",
    "#### 注意: 在Python中，索引從0開始計數。因此，在字串\"cats\"中，第一個字母\"c\"位於第0個索引處，最後一個字母\"s\"位於第3個索引處。\n",
    "\n",
    "# 導引 4/16\n",
    "1. 將變數fifth_letter指定為等於字符串\"MONTY\"的第五個字母。\n",
    "2. 請記住第五個字母不在索引5處。從0開始計算您的索引。"
   ]
  },
  {
   "cell_type": "code",
   "execution_count": 12,
   "metadata": {},
   "outputs": [
    {
     "name": "stdout",
     "output_type": "stream",
     "text": [
      "Y\n"
     ]
    }
   ],
   "source": [
    "\"\"\"\n",
    "字串 \"PYTHON\" 有6個字元,\n",
    "其索引分別從0 到 5, 如下表所示:\n",
    "\n",
    "+---+---+---+---+---+---+\n",
    "| P | Y | T | H | O | N |\n",
    "+---+---+---+---+---+---+\n",
    "  0   1   2   3   4   5\n",
    "\n",
    "如果你希望取出\"Y\", 你只要鍵入\"PYTHON\"[1] (記住，永遠從0開始數起索引!)\n",
    "\n",
    "例子.\n",
    "fifth_letter = \"MONTY\"[4] = \"Y\"\n",
    "\n",
    "做這個練習的目的是讓你熟習索引，請不要直接打Y這個字母進去系統，這不會幫助你學習到這個課程。\n",
    "\"\"\"\n",
    "fifth_letter = \"MONTY\"[?]\n",
    "\n",
    "print (fifth_letter)"
   ]
  },
  {
   "cell_type": "markdown",
   "metadata": {},
   "source": [
    "# 進度 5/16\n",
    "\n",
    "## 字串(Strings)及輸出(Console Output)\n",
    "\n",
    "### 字串的一些內建功能\n",
    "做得好！ 現在我們知道如何存儲字串，讓我們看看我們如何使用字串內建的方法來做些有趣的事情。\n",
    "\n",
    "字串內建功能讓您可以執行字串的一些特定任務。\n",
    "我們將重點介紹四種字串內建的功能方法：\n",
    "\n",
    "* len()\n",
    "* lower()\n",
    "* upper()\n",
    "* str()\n",
    "\n",
    "讓我們從len()開始, 這個功能將會取得字串長度!\n",
    "\n",
    "# 導引 5/16\n",
    "1. 創建一個名為parrot的變數，並將其設置為字串“Norwegian Blue”。\n",
    "2. 用print輸出變數parrot的長度，像這樣：print (len(parrot))。 輸出將是“Norwegian Blue”中的字元數量！"
   ]
  },
  {
   "cell_type": "code",
   "execution_count": 3,
   "metadata": {},
   "outputs": [
    {
     "name": "stdout",
     "output_type": "stream",
     "text": [
      "14\n"
     ]
    }
   ],
   "source": [
    "parrot = \"Norwegian Blue\"\n",
    "print (#len(parrot))"
   ]
  },
  {
   "cell_type": "markdown",
   "metadata": {},
   "source": [
    "# 進度 6/16\n",
    "\n",
    "## 字串(Strings)及輸出(Console Output)\n",
    "\n",
    "### lower()\n",
    "做得好！\n",
    "您可以使用lower()方法將字串中所有字元都轉為小寫喔，使用方法如下:\n",
    "\n",
    "* \"Ryan\".lower()\n",
    "\n",
    "你將會得到\"ryan\".\n",
    "\n",
    "\n",
    "# 導引 6/16\n",
    "使用lower()將變數parrot的內容轉為小寫的輸出，你應該得到這樣的結果\"norwegian blue\"。"
   ]
  },
  {
   "cell_type": "code",
   "execution_count": 13,
   "metadata": {},
   "outputs": [
    {
     "name": "stdout",
     "output_type": "stream",
     "text": [
      "norwegian blue\n"
     ]
    }
   ],
   "source": [
    "parrot = \"Norwegian Blue\"\n",
    "\n",
    "print (parrot #.lower())"
   ]
  },
  {
   "cell_type": "markdown",
   "metadata": {},
   "source": [
    "# 進度 7/16\n",
    "\n",
    "## 字串(Strings)及輸出(Console Output)\n",
    "\n",
    "### upper()\n",
    "類似lower()，upper()全部轉為大寫，試試看吧。\n",
    "\n",
    "# 導引 7/16\n",
    "使用upper()將變數parrot的內容轉為大寫的輸出，你應該得到這樣的結果\"NORWEGIAN BLUE\"。"
   ]
  },
  {
   "cell_type": "code",
   "execution_count": 14,
   "metadata": {},
   "outputs": [
    {
     "name": "stdout",
     "output_type": "stream",
     "text": [
      "NORWEGIAN BLUE\n"
     ]
    }
   ],
   "source": [
    "parrot = \"norwegian blue\"\n",
    "\n",
    "print (parrot #.upper())"
   ]
  },
  {
   "cell_type": "markdown",
   "metadata": {},
   "source": [
    "# 進度 8/16\n",
    "\n",
    "## 字串(Strings)及輸出(Console Output)\n",
    "\n",
    "### str()\n",
    "現在來看看str(), 這個功能是把所有非字串的部分轉為字串，例如:\n",
    "\n",
    "* str(2)\n",
    "\n",
    "這將會把2轉為\"2\".\n",
    "\n",
    "# 導引 8/16\n",
    "1. 建立一個變數pi，設定其值為3.14\n",
    "2. 將pi轉為字串列出在螢幕上"
   ]
  },
  {
   "cell_type": "code",
   "execution_count": 8,
   "metadata": {},
   "outputs": [
    {
     "name": "stdout",
     "output_type": "stream",
     "text": [
      "3.14\n",
      "<class 'float'>\n",
      "3.14\n",
      "<class 'str'>\n"
     ]
    }
   ],
   "source": [
    "pi = 3.14\n",
    "print (pi)\n",
    "print (type (pi))\n",
    "strpi = str(pi)\n",
    "print (strpi)\n",
    "print (type (strpi))"
   ]
  },
  {
   "cell_type": "markdown",
   "metadata": {},
   "source": [
    "# 進度 9/16\n",
    "\n",
    "## 字串(Strings)及輸出(Console Output)\n",
    "\n",
    "### 點符號\n",
    "讓我們仔細看看為什麼你使用len(string)和str(object)，但有一些功能需要使用點符號(.)來啟用這個功能(比如\"String\".upper())。\n",
    "\n",
    "* lion = \"roar\"\n",
    "* len(lion)\n",
    "* lion.upper()\n",
    "\n",
    "有些方法須使用點符號來啟動它，並且被限制只有在字串型態才能使用。\n",
    "另一方面，len()、str()可以用在其他類型的形態上。\n",
    "\n",
    "# 導引 9/16\n",
    "1. 使用len()功能來看變數ministry的長度。\n",
    "2. 試看看.upper()功能，作用在變數ministry會得到甚麼。\n",
    "3. 你被搞混了嗎?多練習，像是學習一種異國語言一樣，你需要記住一些用法才能講出一整句話的意思一樣。"
   ]
  },
  {
   "cell_type": "code",
   "execution_count": 16,
   "metadata": {},
   "outputs": [
    {
     "name": "stdout",
     "output_type": "stream",
     "text": [
      "27\n",
      "THE MINISTRY OF SILLY WALKS\n"
     ]
    }
   ],
   "source": [
    "ministry = \"The Ministry of Silly Walks\"\n",
    "\n",
    "print ( #len(ministry))\n",
    "print ( #ministry.upper())"
   ]
  },
  {
   "cell_type": "markdown",
   "metadata": {},
   "source": [
    "# 進度 10/16\n",
    "\n",
    "## 字串(Strings)及輸出(Console Output)\n",
    "\n",
    "### 印出字串(print)\n",
    "* 我們編寫代碼的區域有In[]的符號。\n",
    "* Out[]或是底下空白處，顯示了代碼的結果。\n",
    "* print功能將會在空白處顯示您的代碼結果。\n",
    "\n",
    "# 導引 10/16\n",
    "用Print功能，印出\"Monty Python\"到底下結果列。"
   ]
  },
  {
   "cell_type": "code",
   "execution_count": 17,
   "metadata": {},
   "outputs": [
    {
     "name": "stdout",
     "output_type": "stream",
     "text": [
      "Monty Python\n"
     ]
    }
   ],
   "source": [
    "\"\"\"Tell Python to print \"Monty Python\"\n",
    "to the console on line 4!\"\"\"\n",
    "\n",
    "print ( #\"Monty Python\")"
   ]
  },
  {
   "cell_type": "markdown",
   "metadata": {},
   "source": [
    "# 進度 11/16\n",
    "\n",
    "## 字串(Strings)及輸出(Console Output)\n",
    "\n",
    "### 印出變數內容\n",
    "除了字串外，print可以印出變數喔。\n",
    "\n",
    "# 導引 11/16\n",
    "1. 宣告一個名為the_machine_goes的變數，並為其分配字串值\"Ping！\"。\n",
    "2. 用print印出the_machine_goes這個變數。\n",
    "3. 觀察螢幕出現甚麼?為什麼?"
   ]
  },
  {
   "cell_type": "code",
   "execution_count": 18,
   "metadata": {},
   "outputs": [
    {
     "name": "stdout",
     "output_type": "stream",
     "text": [
      "Ping!\n"
     ]
    }
   ],
   "source": [
    "the_machine_goes=\"Ping!\"\n",
    "print ( #the_machine_goes)"
   ]
  },
  {
   "cell_type": "markdown",
   "metadata": {},
   "source": [
    "# 進度 12/16\n",
    "\n",
    "## 字串(Strings)及輸出(Console Output)\n",
    "\n",
    "### 連接字串\n",
    "你知道字串，並且你知道算術運算號。現在讓我們結合這兩個物件！\n",
    "\n",
    "* print (\"Life \" + \"of \" + \"Brian\")\n",
    "\n",
    "這將會印出Life of Brian。\n",
    "* \"+\" 的運算符號將會把他們\"加\"在一起，這很直觀，我們練習看看吧。\n",
    "\n",
    "# 導引 12/16\n",
    "我們把字串\"Spam \", \"and \", \"eggs\" 加在一起，看看結果吧。"
   ]
  },
  {
   "cell_type": "code",
   "execution_count": 19,
   "metadata": {},
   "outputs": [
    {
     "name": "stdout",
     "output_type": "stream",
     "text": [
      "Spam and eggs\n"
     ]
    }
   ],
   "source": [
    "print (#\"Spam \" + \"and \" + \"eggs\")"
   ]
  },
  {
   "cell_type": "markdown",
   "metadata": {},
   "source": [
    "# 進度 13/16\n",
    "\n",
    "## 字串(Strings)及輸出(Console Output)\n",
    "\n",
    "### 強制轉換型態為字串\n",
    "有時候你需要把一個字串和一些不是字串的東西結合起來。為了做到這一點，你必須將非字串轉換為字串。\n",
    "\n",
    "* print \"I have \" + str(2) + \" coconuts!\"\n",
    "\n",
    "這將會印出\"I have 2 coconuts!\".\n",
    "\n",
    "str()會強制把任何非字串型態轉換為字串型態。\n",
    "\n",
    "# 導引 13/16\n",
    "1. 執行程式，將會出現問題!\n",
    "2. 使用str()去修正這個問題。"
   ]
  },
  {
   "cell_type": "code",
   "execution_count": 22,
   "metadata": {},
   "outputs": [
    {
     "ename": "TypeError",
     "evalue": "must be str, not float",
     "output_type": "error",
     "traceback": [
      "\u001b[1;31m---------------------------------------------------------------------------\u001b[0m",
      "\u001b[1;31mTypeError\u001b[0m                                 Traceback (most recent call last)",
      "\u001b[1;32m<ipython-input-22-11b7a8d149e0>\u001b[0m in \u001b[0;36m<module>\u001b[1;34m()\u001b[0m\n\u001b[0;32m      2\u001b[0m \u001b[1;33m\u001b[0m\u001b[0m\n\u001b[0;32m      3\u001b[0m \u001b[1;31m#print (\"The value of pi is around \" + str(3.14))\u001b[0m\u001b[1;33m\u001b[0m\u001b[1;33m\u001b[0m\u001b[0m\n\u001b[1;32m----> 4\u001b[1;33m \u001b[0mprint\u001b[0m \u001b[1;33m(\u001b[0m\u001b[1;34m\"The value of pi is around \"\u001b[0m \u001b[1;33m+\u001b[0m \u001b[1;36m3.14\u001b[0m\u001b[1;33m)\u001b[0m\u001b[1;33m\u001b[0m\u001b[0m\n\u001b[0m",
      "\u001b[1;31mTypeError\u001b[0m: must be str, not float"
     ]
    }
   ],
   "source": [
    "#print (\"The value of pi is around \" + str(3.14))\n",
    "print (\"The value of pi is around \" + 3.14)"
   ]
  },
  {
   "cell_type": "markdown",
   "metadata": {},
   "source": [
    "# 進度 14/16\n",
    "\n",
    "## 字串(Strings)及輸出(Console Output)\n",
    "\n",
    "### 帶有 %的字串型態, 第一部分\n",
    "當你想要印出變數時，有比將字串加在一起更好的方法。\n",
    "\n",
    "* name = \"Mike\"\n",
    "* print (\"Hello %s\" % name) -- Jun\n",
    "\n",
    "這個 % 運算是要把字串跟變數加在一起，每個%s都會在%之後出現的每個變數做對應，然後順序的出現在%s。\n",
    "\n",
    "如果你要印出一個整數變數，你可以用%02d。0表示用0填充的意思，2代表長度為2，d表示有正負符號的整數數字（意思是可以是正數或負數）。\n",
    "\n",
    "* day = 6\n",
    "* print (\"03 - %s - 2019\" %  day)\n",
    "* # 03 - 6 - 2019\n",
    "* print (\"03 - %02d - 2019\" % day)\n",
    "* # 03 - 06 - 2019\n",
    "\n",
    "\n",
    "# 導引 14/16\n",
    "看看編輯器中的代碼。你認為它會做什麼？當你已經在腦袋裡面想好答案的時候在運行程式，看答案有沒有跟你想的一樣。第三個練習會出現錯誤，請嘗試修正它。"
   ]
  },
  {
   "cell_type": "code",
   "execution_count": 31,
   "metadata": {},
   "outputs": [
    {
     "name": "stdout",
     "output_type": "stream",
     "text": [
      "Hello Mike\n"
     ]
    }
   ],
   "source": [
    "name = \"Mike\"\n",
    "print (\"Hello %s\" % name) "
   ]
  },
  {
   "cell_type": "code",
   "execution_count": 32,
   "metadata": {},
   "outputs": [
    {
     "name": "stdout",
     "output_type": "stream",
     "text": [
      "03 - 6 - 2019\n",
      "03 - 06 - 2019\n"
     ]
    }
   ],
   "source": [
    "day = 6\n",
    "print (\"03 - %s - 2019\" %  day)\n",
    "# 03 - 6 - 2019\n",
    "print (\"03 - %02d - 2019\" % day)\n",
    "# 03 - 06 - 2019"
   ]
  },
  {
   "cell_type": "code",
   "execution_count": 9,
   "metadata": {},
   "outputs": [
    {
     "ename": "TypeError",
     "evalue": "'str' object is not callable",
     "output_type": "error",
     "traceback": [
      "\u001b[1;31m---------------------------------------------------------------------------\u001b[0m",
      "\u001b[1;31mTypeError\u001b[0m                                 Traceback (most recent call last)",
      "\u001b[1;32m<ipython-input-9-e8974f14a728>\u001b[0m in \u001b[0;36m<module>\u001b[1;34m()\u001b[0m\n\u001b[0;32m      4\u001b[0m \u001b[0mstring_2\u001b[0m \u001b[1;33m=\u001b[0m \u001b[1;34m\"place\"\u001b[0m\u001b[1;33m\u001b[0m\u001b[0m\n\u001b[0;32m      5\u001b[0m \u001b[1;33m\u001b[0m\u001b[0m\n\u001b[1;32m----> 6\u001b[1;33m \u001b[0mprint\u001b[0m \u001b[1;33m(\u001b[0m\u001b[1;34m\"Let's not go to %s. 'Tis a silly %s.  Haha %s\"\u001b[0m  \u001b[1;33m(\u001b[0m\u001b[0mstring_1\u001b[0m\u001b[1;33m,\u001b[0m \u001b[0mstring_2\u001b[0m\u001b[1;33m,\u001b[0m\u001b[0mstring_2\u001b[0m\u001b[1;33m)\u001b[0m\u001b[1;33m)\u001b[0m\u001b[1;33m\u001b[0m\u001b[0m\n\u001b[0m",
      "\u001b[1;31mTypeError\u001b[0m: 'str' object is not callable"
     ]
    }
   ],
   "source": [
    "#print (\"Let's not go to %s. 'Tis a silly %s.  Haha %s\" % (string_1, string_2,string_2))\n",
    "\n",
    "string_1 = \"Camelot\"\n",
    "string_2 = \"place\"\n",
    "\n",
    "print (\"Let's not go to %s. 'Tis a silly %s.  Haha %s\"  (string_1, string_2,string_2))"
   ]
  },
  {
   "cell_type": "markdown",
   "metadata": {},
   "source": [
    "# 進度 15/16\n",
    "\n",
    "## 字串(Strings)及輸出(Console Output)\n",
    "\n",
    "### 帶有 %的字串型態, 第二部分\n",
    "記住，我們用%運算來取代%s裡面的值，再看一次底下的例子:\n",
    "\n",
    "* name = \"Mike\"\n",
    "* print (\"Hello %s\" % (name))\n",
    "\n",
    "你需要在意的是，%s的數量應該跟%後面的變數數量一致。看一下例子:\n",
    "\n",
    "* print (\"The %s who %s %s!\" % (\"Knights\", \"say\", \"Ni\"))\n",
    "* # This will print \"The Knights who say Ni!\"\n",
    "\n",
    "\n",
    "# 導引 15/16\n",
    "在底下的第三個例子中填好___裡面的東西，讓程式正常運算，加油。"
   ]
  },
  {
   "cell_type": "code",
   "execution_count": 30,
   "metadata": {},
   "outputs": [
    {
     "name": "stdout",
     "output_type": "stream",
     "text": [
      "Hello Mike\n"
     ]
    }
   ],
   "source": [
    "name = \"Mike\"\n",
    "print (\"Hello %s\" % (name))"
   ]
  },
  {
   "cell_type": "code",
   "execution_count": 34,
   "metadata": {},
   "outputs": [
    {
     "name": "stdout",
     "output_type": "stream",
     "text": [
      "The Knights who say Ni!\n"
     ]
    }
   ],
   "source": [
    "print (\"The %s who %s %s!\" % (\"Knights\", \"say\", \"Ni\"))\n",
    "# This will print \"The Knights who say Ni!\""
   ]
  },
  {
   "cell_type": "code",
   "execution_count": 38,
   "metadata": {},
   "outputs": [
    {
     "name": "stdout",
     "output_type": "stream",
     "text": [
      "What is your name?Alice\n",
      "What is your quest?><\n",
      "What is your favorite color?OHOH\n",
      "Ah, so your name is Alice, your quest is ><, and your favorite color is OHOH.\n"
     ]
    }
   ],
   "source": [
    "# https://docs.python.org/3/whatsnew/3.0.html -- Jun\n",
    "# 2 => raw_input\n",
    "\n",
    "name = input(\"What is your name?\")\n",
    "quest = input(\"What is your quest?\")\n",
    "color = input(\"What is your favorite color?\")\n",
    "\n",
    "# print (\"Ah, so your name is %s, your quest is %s, \" \\\n",
    "# \"and your favorite color is %s.\" % (name, quest, color))\n",
    "\n",
    "print (\"Ah, so your name is ____, your quest is ____, \" \\\n",
    "\"and your favorite color is ____.\" ____ (name, quest, color))"
   ]
  },
  {
   "cell_type": "markdown",
   "metadata": {},
   "source": [
    "# 進度 16/16\n",
    "\n",
    "## 字串(Strings)及輸出(Console Output)\n",
    "幹的好，這個單元你學習到很多觀念，看一下有哪些?\n",
    "\n",
    "### 三種建立字串的方法\n",
    "* 'Alpha'\n",
    "* \"Bravo\"\n",
    "* str(3)\n",
    "\n",
    "### 一些字串內建的功能\n",
    "* len(\"Charlie\")\n",
    "* \"Delta\".upper()\n",
    "* \"Echo\".lower()\n",
    "\n",
    "### 印出字串\n",
    "* print (\"Foxtrot\")\n",
    "\n",
    "### 進階的字串組合技巧--Jun\n",
    "* name = 'Jun'\n",
    "* number = 666\n",
    "* print('%s %d' % (name, number))\n",
    "\n",
    "#### %s 扮演字串的角色，而%d負責數字。他們都是透過%這個符號才能把變數傳遞給%s或%d喔。\n",
    "\n",
    "\n",
    "# 導引 16/16\n",
    "再多做兩個練習吧。"
   ]
  },
  {
   "cell_type": "code",
   "execution_count": null,
   "metadata": {},
   "outputs": [],
   "source": [
    "name = 'Jun'\n",
    "number = 666\n",
    "print('%s %d' % (name, number))"
   ]
  },
  {
   "cell_type": "code",
   "execution_count": 7,
   "metadata": {},
   "outputs": [
    {
     "name": "stdout",
     "output_type": "stream",
     "text": [
      "18\n",
      "AAAAAAAAAAAAAAAAAA\n"
     ]
    }
   ],
   "source": [
    "# Write your code below, starting on line 3!\n",
    "\n",
    "my_string=\"AAAAAAAAAAAAAAAAAA\"\n",
    "print (len(my_string))\n",
    "print (my_string.upper())"
   ]
  }
 ],
 "metadata": {
  "kernelspec": {
   "display_name": "Python 3",
   "language": "python",
   "name": "python3"
  },
  "language_info": {
   "codemirror_mode": {
    "name": "ipython",
    "version": 3
   },
   "file_extension": ".py",
   "mimetype": "text/x-python",
   "name": "python",
   "nbconvert_exporter": "python",
   "pygments_lexer": "ipython3",
   "version": "3.6.4"
  }
 },
 "nbformat": 4,
 "nbformat_minor": 2
}
