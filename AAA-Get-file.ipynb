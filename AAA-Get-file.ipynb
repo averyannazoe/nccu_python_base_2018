{
 "cells": [
  {
   "cell_type": "code",
   "execution_count": 1,
   "metadata": {},
   "outputs": [],
   "source": [
    "import os\n",
    "import requests\n",
    "os.chdir(\"E:\\\\pywork\\\\crawler\\\\demo\")\n",
    "\n",
    "url = 'http://cloud.culture.tw/frontsite/trans/emapOpenDataAction.do?method=exportEmapExcel&typeId=M'\n",
    "response = requests.get(url, stream=True) #請求方法-Get\n",
    "with open('emap_M.xls','wb') as f:\n",
    "    for chunk in response.iter_content(chunk_size=10240):\n",
    "        f.write(chunk)"
   ]
  },
  {
   "cell_type": "code",
   "execution_count": null,
   "metadata": {},
   "outputs": [],
   "source": []
  }
 ],
 "metadata": {
  "kernelspec": {
   "display_name": "Python [conda env:AAA]",
   "language": "python",
   "name": "conda-env-AAA-py"
  },
  "language_info": {
   "codemirror_mode": {
    "name": "ipython",
    "version": 3
   },
   "file_extension": ".py",
   "mimetype": "text/x-python",
   "name": "python",
   "nbconvert_exporter": "python",
   "pygments_lexer": "ipython3",
   "version": "3.6.5"
  }
 },
 "nbformat": 4,
 "nbformat_minor": 2
}
