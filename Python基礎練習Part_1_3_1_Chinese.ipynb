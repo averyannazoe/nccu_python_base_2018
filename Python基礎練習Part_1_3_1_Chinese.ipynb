{
 "cells": [
  {
   "cell_type": "markdown",
   "metadata": {},
   "source": [
    "# Python基礎練習\n",
    "\n",
    "本教材編撰來源系來自[Codecademy](https://www.codecademy.com/)，原設計為Python 2之語系，本練習系提供離線使用，並將之中文化且優化為python 3。2與3差異不大，同學可自行前往原始網站進行互動學習。若初學者，可以使用本教材，避免語言的隔閡後，再到原始網站練習，得到更深層的學習成果。\n",
    "\n",
    "## 練習目標單元part_1:\n",
    "\n",
    "1. Python基礎語法\n",
    "\n",
    "2. 字串(Strings)及輸出(Console Output)\n",
    "\n",
    "3. 條件式(Conditionals)及流程控制(Control Flow)\n",
    "\n",
    "4. 功能函式(Functions)\n",
    "\n",
    "## 練習目標單元part_2:\n",
    "\n",
    "5. 列表(Lists)及字典(Dictionaries)\n",
    "\n",
    "6. 由學生轉變為老師\n",
    "\n",
    "7. 列表(Lists)及功能函式(Functions)\n",
    "\n",
    "8. 循環(Loops)"
   ]
  },
  {
   "cell_type": "markdown",
   "metadata": {},
   "source": [
    "# 以下為part_1\n",
    "# 3.1 條件(Conditionals) 和流程控制 (Control Flow)-練習內容\n",
    "## ---------------------------------------------------------------------------------------------------"
   ]
  },
  {
   "cell_type": "markdown",
   "metadata": {},
   "source": [
    "# 學習 1/15\n",
    "\n",
    "## 條件(Conditionals) 和流程控制 (Control Flow)\n",
    "\n",
    "### 順其自然\n",
    "就像在現實生活中一樣，有時我們希望我們的程式碼能夠做出決定。\n",
    "\n",
    "到目前為止，我們練習編寫的Python程序都是直線思維：他們做些運算或印出一些結果，但他們沒有能力選擇其中一種流程來得到不同結果。\n",
    "\n",
    "流程控制使我們有能力根據程序中發生的其他事情來選擇結果喔。\n",
    "\n",
    "\n",
    "# 目標 1/15\n",
    "1. 查看底下的程式。 一旦掌握了如何控制流程，您將看到您可以編寫不同之前練習的程式類型。\n",
    "2. 按“Shift + Enter”查看會發生什麼！"
   ]
  },
  {
   "cell_type": "code",
   "execution_count": 4,
   "metadata": {},
   "outputs": [
    {
     "name": "stdout",
     "output_type": "stream",
     "text": [
      "你剛剛進入一間精神病院！\n",
      "請你選擇左邊(l)或右邊(r)的門，來就診!\n",
      "輸入左或右，然後按Enter\n",
      "你沒有做出任何選擇，請選擇!\n",
      "你剛剛進入一間精神病院！\n",
      "請你選擇左邊(l)或右邊(r)的門，來就診!\n",
      "輸入左或右，然後按Enterl\n",
      "你知道的太多了!\n"
     ]
    }
   ],
   "source": [
    "def clinic():\n",
    "    print (\"你剛剛進入一間精神病院！\")\n",
    "    print (r\"請你選擇左邊(l)或右邊(r)的門，來就診!\")\n",
    "    \n",
    "    answer = input(\"輸入左或右，然後按Enter\").lower() # -- Jun\n",
    "    \n",
    "    if answer == \"左\" or answer == \"l\":\n",
    "        print (\"你知道的太多了!\")\n",
    "    elif answer == \"右\" or answer == \"r\":\n",
    "        print (\"這不是你該來的地方!\")\n",
    "    else:\n",
    "        print (\"你沒有做出任何選擇，請選擇!\")\n",
    "        clinic()\n",
    "\n",
    "clinic()"
   ]
  },
  {
   "cell_type": "markdown",
   "metadata": {},
   "source": [
    "# 學習 2/15\n",
    "\n",
    "## 條件(Conditionals) 和流程控制 (Control Flow)\n",
    "\n",
    "### 請仔細的觀察\n",
    "讓我們從最簡單的開始吧，一般而言，流程控制需要邏輯運算(我們稱它comparators)，主要有六種:\n",
    "\n",
    "#### Equal to 等於 (==) \n",
    ">>> 2 == 2\n",
    "True\n",
    ">>> 2 == 5\n",
    "False\n",
    "\n",
    "#### Not equal to 不等於 (!=)\n",
    ">>> 2 != 5\n",
    "True\n",
    ">>> 2 != 2\n",
    "False\n",
    "\n",
    "#### Less than 前比後小 (<)\n",
    ">>> 2 < 5\n",
    "True\n",
    ">>> 5 < 2\n",
    "False\n",
    "\n",
    "#### Less than or equal to 前比後小或前後等於 (<=)\n",
    ">>> 2 <= 2\n",
    "True\n",
    ">>> 5 <= 2\n",
    "False\n",
    "\n",
    "#### Greater than 前比後大 (>)\n",
    ">>> 5 > 2\n",
    "True\n",
    ">>> 2 > 5\n",
    "False\n",
    "\n",
    "#### Greater than or equal to 前比後大或前後等於 (>=)\n",
    ">>> 5 >= 5\n",
    "True\n",
    ">>> 2 >= 5\n",
    "False\n",
    "\n",
    "邏輯運算(Comparators)將檢查前面的值(值1)是否等於(或不等於), 大於(或等於), 小於 (或等於) 其他的值(值2).\n",
    "\n",
    "* 請注意: \n",
    " ** ==比較兩個事物是否相等\n",
    " ** =將一個值指定給一個變數\n",
    "\n",
    "# 目標 2/15\n",
    "1. 試看看把底下變數設定為True 或 False。\n",
    "2. True 或 False取決於你認為式子的結果為何去做判斷。\n",
    "3. 舉例來看，1 < 2 結果將為 True, 因為 1 \"真的\"小於2。 "
   ]
  },
  {
   "cell_type": "code",
   "execution_count": 6,
   "metadata": {},
   "outputs": [],
   "source": [
    "# 17 < 328\n",
    "bool_one = True   # 這是範例\n",
    "\n",
    "# 100 == (2 * 50) \n",
    "bool_two = #True \n",
    "\n",
    "# 19 <= 19\n",
    "bool_three = #True \n",
    "\n",
    "# -22 >= -18\n",
    "bool_four = #False \n",
    "\n",
    "# 99 != (98 + 1)\n",
    "bool_five = #False "
   ]
  },
  {
   "cell_type": "markdown",
   "metadata": {},
   "source": [
    "# 學習 3/15\n",
    "\n",
    "## 條件(Conditionals) 和流程控制 (Control Flow)\n",
    "\n",
    "### 再更仔細觀察\n",
    "很棒，你對比較器應該比較熟悉了。我們來看看一些更進階的做法。\n",
    "\n",
    "# 目標 3/15\n",
    "1. 試看看把底下變數設定為True 或 False。\n",
    "2. True 或 False取決於你認為式子的結果為何去做判斷。"
   ]
  },
  {
   "cell_type": "code",
   "execution_count": 7,
   "metadata": {},
   "outputs": [],
   "source": [
    "# (20 - 10) > 15\n",
    "bool_one = False   # 這是範例\n",
    "\n",
    "# (10 + 17) == 3**16\n",
    "# 記住**不是乘法，是指數喔，3的16次方應該很大吧?\n",
    "bool_two = #False\n",
    "\n",
    "# 1**2 <= -1\n",
    "bool_three = #False\n",
    "\n",
    "# 40 * 4 >= -4\n",
    "bool_four = #True\n",
    "\n",
    "# 100 != 10**2\n",
    "bool_five = #False"
   ]
  },
  {
   "cell_type": "markdown",
   "metadata": {},
   "source": [
    "# 學習 4/15\n",
    "\n",
    "## 條件(Conditionals) 和流程控制 (Control Flow)\n",
    "\n",
    "### 式子如何轉換為布林值?\n",
    "將比較結果設定為True或False，這是我們之前在練習中學到的布林值。\n",
    "\n",
    "* # 讓我為 true!\n",
    "* bool_one = 3 < 5\n",
    "\n",
    "我們給布林值，你寫下表示如上面範例的式子來滿足我們給的布林值。\n",
    "\n",
    "# 目標 4/15\n",
    "1. 用下列比較(==, !=, >, >=, <, and <=)來滿足我們給的布林值，讓他真的如他表現的True 或 Flase。\n",
    "2. 試著列印出結果看看你寫的式子成立不成立\n",
    "3. 不要直接指定True 或 Flase，這樣算作弊喔。\n"
   ]
  },
  {
   "cell_type": "code",
   "execution_count": 6,
   "metadata": {},
   "outputs": [
    {
     "name": "stdout",
     "output_type": "stream",
     "text": [
      "True\n"
     ]
    }
   ],
   "source": [
    "# Make me true!\n",
    "bool_one = 3 < 5  #這是範例\n",
    "print (bool_one)\n",
    "\n",
    "# Make me false!\n",
    "bool_two = #8 != 8\n",
    "\n",
    "# Make me true!\n",
    "bool_three = #5 == 5\n",
    "\n",
    "# Make me false!\n",
    "bool_four = #10 <= 1\n",
    "\n",
    "# Make me true!\n",
    "bool_five = #3 >= 1"
   ]
  },
  {
   "cell_type": "markdown",
   "metadata": {},
   "source": [
    "# 學習 5/15\n",
    "\n",
    "## 條件(Conditionals) 和流程控制 (Control Flow)\n",
    "\n",
    "\n",
    "### 是和/或不是\n",
    "利用布林邏輯運算符號比較語法句讓結果為一個布林值。 有三個布林運算符號：\n",
    "  \n",
    "   1.and，它檢查兩者是否都是真;\n",
    "   2.or，它檢查至少有一個陳述是真的;\n",
    "   3.not，與陳述相反。\n",
    "  \n",
    "我們來看這幾個運算。\n",
    "\n",
    "\n",
    "# 目標 5/15\n",
    "查看下面的真值表。 它們顯示了在給定布林值A和B的布林運算結果。"
   ]
  },
  {
   "cell_type": "markdown",
   "metadata": {},
   "source": [
    "![drawing](BooleanOperators.png)\n",
    "<!--img src=\"BooleanOperators.png\" alt=\"Drawing\" style=\"width: 200px;\"/-->"
   ]
  },
  {
   "cell_type": "markdown",
   "metadata": {},
   "source": [
    "# 學習 6/15\n",
    "\n",
    "## 條件(Conditionals) 和流程控制 (Control Flow)\n",
    "\n",
    "### And\n",
    "當符號的兩邊都為真(true)時返回True。 例如：\n",
    "\n",
    "* 1 < 2 and 2 < 3 is True;\n",
    "* 1 < 2 and 2 > 3 is False.\n",
    "\n",
    "# 目標 6/15\n",
    "1. 練習一下，指定適當的布林值給變數。\n",
    "2. 你要依據式子運算的結果給定變數True 或 False\n",
    "3. 試著印出答案，看看是不是跟你心算一樣"
   ]
  },
  {
   "cell_type": "code",
   "execution_count": 11,
   "metadata": {},
   "outputs": [],
   "source": [
    "bool_one = False and False\n",
    "\n",
    "bool_two = -(-(-(-2))) == -2 and 4 >= 16 ** 0.5\n",
    "\n",
    "bool_three = 19 % 4 != 300 / 10 / 10 and False\n",
    "\n",
    "bool_four = -(1 ** 2) < 2 ** 0 and 10 % 10 <= 20 - 10 * 2\n",
    "\n",
    "bool_five = True and True"
   ]
  },
  {
   "cell_type": "code",
   "execution_count": null,
   "metadata": {},
   "outputs": [],
   "source": [
    "# 6/15 答案參考\n",
    "## 不要偷看喔，自己做做看\n",
    "* bool_one 等於False\n",
    "* bool_two 等於False\n",
    "* bool_three 等於False\n",
    "* bool_four 等於True\n",
    "* bool_five 等於True"
   ]
  },
  {
   "cell_type": "markdown",
   "metadata": {},
   "source": [
    "# 學習 7/15\n",
    "\n",
    "## 條件(Conditionals) 和流程控制 (Control Flow)\n",
    "\n",
    "### Or\n",
    "or運算的兩邊有一邊為真，則回傳True\n",
    "\n",
    "* 1 < 2 or 2 > 3 為真;\n",
    "* 1 > 2 or 2 > 3 為假.\n",
    "\n",
    "# 目標 7/15\n",
    "or的練習\n",
    "\n",
    "1. 練習一下，指定適當的布林值給變數。\n",
    "2. 你要依據式子運算的結果給定變數True 或 False\n",
    "3. 試著印出答案，看看是不是跟你心算一樣"
   ]
  },
  {
   "cell_type": "code",
   "execution_count": 14,
   "metadata": {},
   "outputs": [],
   "source": [
    "bool_one = 2 ** 3 == 108 % 100 or 'Cleese' == 'King Arthur'\n",
    "\n",
    "bool_two = True or False\n",
    "\n",
    "bool_three = 100 ** 0.5 >= 50 or False\n",
    "\n",
    "bool_four = True or True\n",
    "\n",
    "bool_five = 1 ** 100 == 100 ** 1 or 3 * 2 * 1 != 3 + 2 + 1"
   ]
  },
  {
   "cell_type": "markdown",
   "metadata": {},
   "source": [
    "# 7/15 答案參考\n",
    "## 不要偷看喔，自己做做看\n",
    "\n",
    "print(bool_one)\n",
    "\n",
    "print(bool_two)\n",
    "\n",
    "print(bool_three)\n",
    "\n",
    "print(bool_four)\n",
    "\n",
    "print(bool_five)"
   ]
  },
  {
   "cell_type": "markdown",
   "metadata": {},
   "source": [
    "# 學習 8/15\n",
    "\n",
    "## 條件(Conditionals) 和流程控制 (Control Flow)\n",
    "\n",
    "\n",
    "### Not\n",
    "Not運算對於錯誤語句不會返回True，對於真實語句不會返回False。\n",
    "\n",
    "* not False將返回True, 而not 41 > 40 將返回 False.\n",
    "\n",
    "# 目標 8/15\n",
    "讓我們做些 not 的練習\n",
    "\n",
    "1. 練習一下，指定適當的布林值給變數。\n",
    "2. 你要依據式子運算的結果給定變數True 或 False\n",
    "3. 試著印出答案，看看是不是跟你心算一樣"
   ]
  },
  {
   "cell_type": "markdown",
   "metadata": {},
   "source": [
    "bool_one = not True\n",
    "\n",
    "bool_two = not 3 ** 4 < 4 ** 3\n",
    "\n",
    "bool_three = not 10 % 3 <= 10 % 2\n",
    "\n",
    "bool_four = not 3 ** 2 + 4 ** 2 != 5 ** 2\n",
    "\n",
    "bool_five = not not False"
   ]
  },
  {
   "cell_type": "markdown",
   "metadata": {},
   "source": [
    "# 8/15 答案參考\n",
    "## 不要偷看喔，自己做做看\n",
    "\n",
    "print(bool_one)\n",
    "\n",
    "print(bool_two)\n",
    "\n",
    "print(bool_three)\n",
    "\n",
    "print(bool_four)\n",
    "\n",
    "print(bool_five)\n"
   ]
  },
  {
   "cell_type": "markdown",
   "metadata": {},
   "source": [
    "# 學習 9/15\n",
    "\n",
    "## 條件(Conditionals) 和流程控制 (Control Flow)\n",
    "\n",
    "### This and That (or This, But Not That!)\n",
    "布林邏輯運算基本上跟數學式子一樣要先遵從先乘除後加減這樣的邏輯，並且由左邊算到右邊。他的邏輯如下:\n",
    "\n",
    "1. not 優先運算;\n",
    "2. and 次之;\n",
    "3. or 最後.\n",
    "\n",
    "例如，True or not False and False 將返回True。 如果不清楚，請查看提示。\n",
    "\n",
    "括號（）確保您的表達式可以按您想要的順序進行運算。 括號內的任何內容都以自己為單位進行運算後再跟外面運算。\n",
    "\n",
    "\n",
    "# 目標 9/15\n",
    "\n",
    "1. 練習一下，指定適當的布林值給變數。\n",
    "2. 你要依據式子運算的結果給定變數True 或 False\n",
    "3. 試著印出答案，看看是不是跟你心算一樣"
   ]
  },
  {
   "cell_type": "code",
   "execution_count": 12,
   "metadata": {},
   "outputs": [],
   "source": [
    "bool_one = False or not True and True\n",
    "\n",
    "bool_two = False and not True or True\n",
    "\n",
    "bool_three = True and not (False or False)\n",
    "\n",
    "bool_four = not not True or False and not True\n",
    "\n",
    "bool_five = False or not (True and True)\n"
   ]
  },
  {
   "cell_type": "markdown",
   "metadata": {},
   "source": [
    "# 9/15 答案參考\n",
    "## 不要偷看喔，自己做做看\n",
    "\n",
    "print(bool_one)\n",
    "\n",
    "print(bool_two)\n",
    "\n",
    "print(bool_three)\n",
    "\n",
    "print(bool_four)\n",
    "\n",
    "print(bool_five)"
   ]
  },
  {
   "cell_type": "markdown",
   "metadata": {},
   "source": [
    "# 學習 10/15\n",
    "\n",
    "## 條件(Conditionals) 和流程控制 (Control Flow)\n",
    "\n",
    "### 混和運算 Mix 'n' Match\n",
    "很棒，我們快要完成布林邏輯運算了。\n",
    "\n",
    "* # Make me false\n",
    "* bool_one = (2 <= 2) and \"Alpha\" == \"Bravo\"\n",
    "\n",
    "# 目標 10/15\n",
    "1. 這次我們會給出希望預期出現的結果，請您使用布林運算符號的組合來實現該結果。\n",
    "2. 布林邏輯運算符號: and, or, and not\n",
    "3. 希望上面的符號至少在每個算式中都能被用到一次"
   ]
  },
  {
   "cell_type": "code",
   "execution_count": 21,
   "metadata": {},
   "outputs": [],
   "source": [
    "# 預期出現false!\n",
    "bool_one = (2 <= 2) and \"Alpha\" == \"Bravo\"  # We did this one for you!\n",
    "\n",
    "# 預期出現true!\n",
    "bool_two = not (2 < 2) #and \"Alpha\" == \"Alpha\"\n",
    "\n",
    "# 預期出現false!\n",
    "bool_three = \"a\" == \"b\" #or \"c\" == \"d\"\n",
    "\n",
    "# 預期出現true!\n",
    "bool_four = #not \"a\" == \"b\" or not \"c\" == \"f\"\n",
    "\n",
    "# 預期出現true!\n",
    "bool_five = #not \"a\" == \"b\" or \"a\" == \"a\""
   ]
  },
  {
   "cell_type": "markdown",
   "metadata": {},
   "source": [
    "# 學習 11/15\n",
    "\n",
    "## 條件(Conditionals) 和流程控制 (Control Flow)\n",
    "\n",
    "### 條件式語法(Conditional Statement Syntax) \n",
    "\n",
    "if是一個條件語句，在檢查其表達式是否為True後執行某些指定的代碼。\n",
    "以下是if語法的一個例子：\n",
    "\n",
    "* if 8 < 9:\n",
    "*   print (\"八比九小!\")\n",
    "\n",
    "例子中可以看到, 8 < 9 是一個條件檢查，當滿足這個條件(True)時，就把結果印出來。\n",
    "\n",
    "注意到，在列印的指令之前要縮排。 這個空白的空間是Python知道我們正在進入一個新的區塊的方式。 Python接受許多不同類型的縮進來表示塊。我們經常使用四個空格，兩個空格或Tab的縮排方式，都可以達到同樣的目的。\n",
    "\n",
    "如果縮排方式錯誤，有時會引發IndentationError。\n",
    "#### 但更嚴重的是，有時沒有錯誤的情形，你將得到錯誤的預期結果，這點要特別注意縮排的重要性喔。\n",
    "\n",
    "# 目標 11/15\n",
    "玩玩看，把response設定為'Y';跟設定為'N'。將得到不同結果"
   ]
  },
  {
   "cell_type": "code",
   "execution_count": 4,
   "metadata": {},
   "outputs": [
    {
     "name": "stdout",
     "output_type": "stream",
     "text": [
      "輸入Y或N，然後按EnterK\n",
      "你知道的還不夠多，上課要豬心啊!\n",
      "輸入Y或N，然後按EnterJ\n",
      "你知道的還不夠多，上課要豬心啊!\n",
      "輸入Y或N，然後按EnterY\n",
      "你知道的太多了!\n"
     ]
    }
   ],
   "source": [
    "def clinic():\n",
    "    answer = input(\"輸入Y或N，然後按Enter\").lower() # -- Jun\n",
    "    \n",
    "    if answer == \"y\":\n",
    "        print (\"你知道的太多了!\")\n",
    "    else:\n",
    "        print (\"你知道的還不夠多，上課要豬心啊!\")\n",
    "        clinic()\n",
    "clinic()"
   ]
  },
  {
   "cell_type": "markdown",
   "metadata": {},
   "source": [
    "# 學習 12/15\n",
    "\n",
    "## 條件(Conditionals) 和流程控制 (Control Flow)\n",
    "\n",
    "### 如果你有...\n",
    "讓我們用if語句做一些練習。 請記住，語法如下所示：\n",
    "\n",
    "* if some_function():\n",
    "*   # block line one\n",
    "*   # block line two\n",
    "*   # et cetera\n",
    "\n",
    "* 看一下上面的例子，如果some_function()返回True，那麼它後面的代碼將被執行。 如果它返回False，則將被跳過。\n",
    "* 另外，請確保您注意到if語句末尾的冒號。 我們已經為你添加了它們，它們很重要。\n",
    "\n",
    "# 目標 12/15\n",
    "在底下會看到兩個功能。 不要擔心任何不熟悉的事情。 我們會盡快解釋。\n",
    "\n",
    "* 置換___，讓if條件返回True後執行它所在的區塊.\n",
    "\n",
    "如果你做對了，你將看到\"Success #1\" 和 \"Success #2\" 的結果被印在底下。"
   ]
  },
  {
   "cell_type": "code",
   "execution_count": 5,
   "metadata": {},
   "outputs": [
    {
     "ename": "SyntaxError",
     "evalue": "invalid syntax (<ipython-input-5-cb0abe5687a2>, line 2)",
     "output_type": "error",
     "traceback": [
      "\u001b[1;36m  File \u001b[1;32m\"<ipython-input-5-cb0abe5687a2>\"\u001b[1;36m, line \u001b[1;32m2\u001b[0m\n\u001b[1;33m    if 1 == :\u001b[0m\n\u001b[1;37m            ^\u001b[0m\n\u001b[1;31mSyntaxError\u001b[0m\u001b[1;31m:\u001b[0m invalid syntax\n"
     ]
    }
   ],
   "source": [
    "def using_control_once():\n",
    "    if 1 == :\n",
    "        return \"Success #1\"\n",
    "\n",
    "def using_control_again():\n",
    "    if \"\" == \"w\":\n",
    "        return \"Success #2\"\n",
    "\n",
    "print (using_control_once())\n",
    "print (using_control_again())"
   ]
  },
  {
   "cell_type": "markdown",
   "metadata": {},
   "source": [
    "# 學習 13/15\n",
    "\n",
    "## 條件(Conditionals) 和流程控制 (Control Flow)\n",
    "\n",
    "### Else 的問題，我想要除了條件外，多個條件.....\n",
    "else 語法將讓if 語法擴充，一段if/else的組合表示: \"如果符合這個條件就執行這個區塊; 否則就執行下面的區塊吧\"\n",
    "\n",
    "與if不同，else不需要條件式。 例如：\n",
    "\n",
    "* if 8 > 9:\n",
    "*   print (\"I don't printed!\")\n",
    "* else:\n",
    "*   print (\"I get printed!\")\n",
    "\n",
    "這說明了else不用條件判斷，他依據if的false條件來決定執行或不執行。\n",
    "\n",
    "# 目標 13/15\n",
    "練習使用 else。"
   ]
  },
  {
   "cell_type": "code",
   "execution_count": 7,
   "metadata": {},
   "outputs": [
    {
     "name": "stdout",
     "output_type": "stream",
     "text": [
      "True\n",
      "False\n"
     ]
    }
   ],
   "source": [
    "answer = \"'Tis but a scratch!\"\n",
    "\n",
    "def black_knight():\n",
    "    if answer == \"'Tis but a scratch!\":\n",
    "        return True\n",
    "    ese:             \n",
    "        return False\n",
    "\n",
    "def french_soldier():\n",
    "    if answer == \"Go away, or I shall taunt you a second time!\":\n",
    "        return True\n",
    "    ele:             \n",
    "        return False      \n",
    "\n",
    "print (black_knight())\n",
    "print (french_soldier())"
   ]
  },
  {
   "cell_type": "markdown",
   "metadata": {},
   "source": [
    "# 學習 14/15\n",
    "\n",
    "## 條件(Conditionals) 和流程控制 (Control Flow)\n",
    "\n",
    "### 我有問題，當我需要很多條件的時候，怎麼辦?\n",
    "elif 是解答! 他是\"else if.\"的縮寫，意思是當if無法滿足時，可以選擇另一個判斷條件來判斷。一樣的，滿足這個條件的時候就執行這個所在區塊吧。\n",
    "\n",
    "* if 8 > 9:\n",
    "*   print \"I don't get printed!\"\n",
    "* elif 8 < 9:\n",
    "*   print \"I get printed!\"\n",
    "* else:\n",
    "*   print \"I also don't get printed!\"\n",
    "\n",
    "在上面例子中，elif只有在if的條件不滿足時才會被執行.\n",
    "\n",
    "\n",
    "# 目標 14/15\n",
    "* 練習elif的用法"
   ]
  },
  {
   "cell_type": "code",
   "execution_count": 20,
   "metadata": {},
   "outputs": [
    {
     "name": "stdout",
     "output_type": "stream",
     "text": [
      "-1\n",
      "0\n",
      "1\n"
     ]
    }
   ],
   "source": [
    "def greater_less_equal_5(answer):\n",
    "    if answer > 5:\n",
    "        return 1\n",
    "    elif answer < 5:          \n",
    "        return -1\n",
    "    else:\n",
    "        return 0\n",
    "        \n",
    "print (greater_less_equal_5())\n",
    "print (greater_less_equal_5())\n",
    "print (greater_less_equal_5())"
   ]
  },
  {
   "cell_type": "markdown",
   "metadata": {},
   "source": [
    "# 學習 15/15\n",
    "\n",
    "## 條件(Conditionals) 和流程控制 (Control Flow)\n",
    "\n",
    "### 超棒\n",
    "在這單元，你學到了\n",
    "\n",
    "#### 邏輯運算(Comparators)\n",
    "3 < 4\n",
    "5 >= 5\n",
    "10 == 10\n",
    "12 != 13\n",
    "\n",
    "#### 布林邏輯運算(Boolean operators)\n",
    "True or False \n",
    "(3 < 4) and (5 >= 5)\n",
    "this() and not that()\n",
    "\n",
    "#### 條件式(Conditional statements)\n",
    "if this_might_be_true():\n",
    "  print (\"This really is true.\")\n",
    "elif that_might_be_true():\n",
    "  print (\"That is true.\")\n",
    "else:\n",
    "  print (\"None of the above.\")\n",
    "  \n",
    "Let's get to the grand finale.\n",
    "\n",
    "\n",
    "# 目標 15/15\n",
    "底下有個功能定義為grade_converter(). \n",
    "\n",
    "我們希望把分數(1-100)定義為(A, B, C, D, or F).\n",
    "\n",
    "你的工作是完成他。讓他可以輸入數字後返回字母的分數，我們先定義好每個分數該返回的字母:\n",
    "\n",
    "比90分高，得到\"A\"\n",
    "80 - 89，得到\"B\"\n",
    "70 - 79，得到\"C\"\n",
    "65 - 69，得到\"D\"\n",
    "低於65，得到\"F\""
   ]
  },
  {
   "cell_type": "code",
   "execution_count": null,
   "metadata": {},
   "outputs": [],
   "source": [
    "# Complete the if and elif statements!\n",
    "def grade_converter(grade):\n",
    "    if _____:\n",
    "        return \"A\"\n",
    "    elif _____:\n",
    "        return \"B\"\n",
    "    elif _____:\n",
    "        return \"C\"\n",
    "    elif _____:\n",
    "        return \"D\"\n",
    "    else:\n",
    "        return \"F\"\n",
    "      \n",
    "# This should print an \"A\"      \n",
    "print (grade_converter(92))\n",
    "\n",
    "# This should print a \"C\"\n",
    "print (grade_converter(70))\n",
    "\n",
    "# This should print an \"F\"\n",
    "print (grade_converter(61))\n",
    "\n"
   ]
  },
  {
   "cell_type": "code",
   "execution_count": 22,
   "metadata": {},
   "outputs": [
    {
     "name": "stdout",
     "output_type": "stream",
     "text": [
      "A\n",
      "C\n",
      "F\n"
     ]
    }
   ],
   "source": [
    "# 自己試試看，不要偷看答案\n",
    "def grade_converter(grade):\n",
    "    if grade >= 90:\n",
    "        return \"A\"\n",
    "    elif grade >= 80 and grade < 90:\n",
    "        return \"B\"\n",
    "    elif grade >= 70 and grade < 80:\n",
    "        return \"C\"\n",
    "    elif grade >= 65 and grade < 70:\n",
    "        return \"D\"\n",
    "    else:\n",
    "        return \"F\"\n",
    "      \n",
    "# This should print an \"A\"      \n",
    "print (grade_converter(92))\n",
    "\n",
    "# This should print a \"C\"\n",
    "print (grade_converter(70))\n",
    "\n",
    "# This should print an \"F\"\n",
    "print (grade_converter(61))"
   ]
  }
 ],
 "metadata": {
  "kernelspec": {
   "display_name": "Python 3",
   "language": "python",
   "name": "python3"
  },
  "language_info": {
   "codemirror_mode": {
    "name": "ipython",
    "version": 3
   },
   "file_extension": ".py",
   "mimetype": "text/x-python",
   "name": "python",
   "nbconvert_exporter": "python",
   "pygments_lexer": "ipython3",
   "version": "3.6.4"
  }
 },
 "nbformat": 4,
 "nbformat_minor": 2
}
