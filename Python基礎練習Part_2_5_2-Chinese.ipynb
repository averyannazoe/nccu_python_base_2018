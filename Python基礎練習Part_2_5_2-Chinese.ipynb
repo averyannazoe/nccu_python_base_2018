{
 "cells": [
  {
   "cell_type": "markdown",
   "metadata": {},
   "source": [
    "# Python基礎練習\n",
    "\n",
    "本教材編撰來源系來自[Codecademy](https://www.codecademy.com/)，原設計為Python 2之語系，本練習系提供離線使用，並將之中文化且優化為python 3。2與3差異不大，同學可自行前往原始網站進行互動學習。若初學者，可以使用本教材，避免語言的隔閡後，再到原始網站練習，得到更深層的學習成果。\n",
    "\n",
    "## 練習目標單元part_1:\n",
    "\n",
    "1. Python基礎語法\n",
    "\n",
    "2. 字串(Strings)及輸出(Console Output)\n",
    "\n",
    "3. 條件式(Conditionals)及流程控制(Control Flow)\n",
    "\n",
    "4. 功能函式(Functions)\n",
    "\n",
    "## 練習目標單元part_2:\n",
    "\n",
    "5. 列表(Lists)及字典(Dictionaries)\n",
    "\n",
    "6. 由學生轉變為老師\n",
    "\n",
    "7. 列表(Lists)及功能函式(Functions)\n",
    "\n",
    "8. 循環(Loops)"
   ]
  },
  {
   "cell_type": "markdown",
   "metadata": {},
   "source": [
    "# 以下為part_2\n",
    "# 5.1 Python 列表(Lists)及字典(Dictionaries) 練習內容\n",
    "## ---------------------------------------------------------------------------------------------------"
   ]
  },
  {
   "cell_type": "markdown",
   "metadata": {},
   "source": [
    "# Learn 1/13\n",
    "\n",
    "\n",
    "## 超級市場的範例練習\n",
    "\n",
    "### 用For來作為開場白吧\n",
    "\n",
    "\n",
    "\n",
    "在我們開始練習之前，我們應該再次看一下Python的for迴圈。就目前而言，我們將僅就其與列表和詞典的關係進行說明。我們將在稍後的課程中會解釋更多loop的用法。\n",
    "\n",
    "for循環允許我們遍歷列表中所有從最左邊（或第零個元素）到最右邊元素的元素。循環的範例結構如下：\n",
    "\n",
    "    a = [\"List\", \"of\", \"some\", \"sort\"]\n",
    "    for x in a: \n",
    "      # 為每個x做些甚麼事情\n",
    "      \n",
    "這個語句中的for 會把[1, 3, 21]的值一個接一個丟給變數item，然後印出item的內容:\n",
    "\n",
    "    for item in [1, 3, 21]: \n",
    "      print (item)\n",
    "      \n",
    "結果會印出1，然後是3，然後是21。 變數item應該放在for和in之間，你可以隨意命名，但是應該小心避免用到內建的保留字(稍後我們會做說明)。\n",
    "\n",
    "\n",
    "\n",
    "# Instructions 1/13\n",
    "\n",
    "使用for迴圈把list中的所有項目印出來。\n"
   ]
  },
  {
   "cell_type": "code",
   "execution_count": 2,
   "metadata": {},
   "outputs": [],
   "source": [
    "names = [\"Adam\",\"Alex\",\"Mariah\",\"Martine\",\"Columbus\"]\n",
    "\n",
    "#開始你的程式\n",
    "\n",
    "\n",
    "\n",
    "\n",
    "\n",
    "\n",
    "\n"
   ]
  },
  {
   "cell_type": "markdown",
   "metadata": {},
   "source": [
    "    #不要直接看答案 先練習看看\n",
    "\n",
    "    names = [\"Adam\",\"Alex\",\"Mariah\",\"Martine\",\"Columbus\"]\n",
    "\n",
    "    for name in names:\n",
    "      print (name)"
   ]
  },
  {
   "cell_type": "markdown",
   "metadata": {},
   "source": [
    "# Learn 2/13\n",
    "\n",
    "\n",
    "## 超級市場的範例練習\n",
    "\n",
    "### 用for迴圈取出鍵值內容\n",
    "\n",
    "\n",
    "\n",
    "這是關鍵！\n",
    "您也可以在詞典(dictionary)上使用for迴圈來取出你想要的鍵值內容：\n",
    "\n",
    "    # A simple dictionary\n",
    "    d = {\"foo\" : \"bar\"}\n",
    "\n",
    "    for key in d: \n",
    "      print (d[key])  # prints \"bar\"\n",
    "      \n",
    "請注意，字典是非排序的，這意味著任何時候循環訪問字典時，都會檢查每個鑰值，但不能保證以任何特定順序得到它們。\n",
    "\n",
    "\n",
    "# Instructions 2/13\n",
    "\n",
    "使用for迴圈遍歷webster字典並印出所有的內容(鍵值跟內容不一樣，只要印出內容即可，當然你可以印出鍵值跟內容來一起對照)。"
   ]
  },
  {
   "cell_type": "code",
   "execution_count": null,
   "metadata": {},
   "outputs": [],
   "source": [
    "# 練習看看 \n",
    "webster = {\n",
    "  \"Aardvark\" : \"A star of a popular children's cartoon show.\",\n",
    "  \"Baa\" : \"The sound a goat makes.\",\n",
    "  \"Carpet\": \"Goes on the floor.\",\n",
    "  \"Dab\": \"A small amount.\"\n",
    "}\n",
    "\n",
    "# Add your code below!\n",
    "\n",
    "\n",
    "\n",
    "\n",
    "\n",
    "\n",
    "\n",
    "\n",
    "\n",
    "\n",
    "\n",
    "\n",
    "\n",
    "\n"
   ]
  },
  {
   "cell_type": "markdown",
   "metadata": {},
   "source": [
    "    # 忍耐一下 不要直接看答案\n",
    "\n",
    "    webster = {\n",
    "      \"Aardvark\" : \"A star of a popular children's cartoon show.\",\n",
    "      \"Baa\" : \"The sound a goat makes.\",\n",
    "      \"Carpet\": \"Goes on the floor.\",\n",
    "      \"Dab\": \"A small amount.\"\n",
    "    }\n",
    "\n",
    "    # Add your code below!\n",
    "    for word in webster:\n",
    "      print (word + \": \" + webster[word])"
   ]
  },
  {
   "cell_type": "markdown",
   "metadata": {},
   "source": [
    "# Learn 3/13\n",
    "\n",
    "\n",
    "## 超級市場的範例練習\n",
    "\n",
    "### 在for迴圈中加上條件控制你需要的流程\n",
    "\n",
    "for迴圈中的程式區塊可以依據需求決定它的大小。\n",
    "在迴圈時，您可能需要執行不同的操作，你可以任意的操作，來得到你想要的內容項目。\n",
    "\n",
    "    numbers = [1, 20, 4, 7, 11]\n",
    "    for number in numbers: \n",
    "      if number > 4:\n",
    "        print (number)\n",
    "    print (\"We printed 20, 7, 11.\")\n",
    "\n",
    "1. 在上面的例子中，我們建了一個包含4個數字的列表numbers。\n",
    "2. 然後，我們遍歷列表numbers並將每個項目存儲在變量number中。\n",
    "3. 在每個循環中，如果數字大於4，我們就將其印出來。 所以，例子中我們印出20, 7, 11。\n",
    "4. 最後，我們印出一句話\"We printed 20, 7, 11.\"。\n",
    "\n",
    "確保縮排的正確性，否則您可能會感到困惑！\n",
    "\n",
    "\n",
    "# Instructions 3/13\n",
    "\n",
    "1. 像上面的第2步，遍歷列表中的每個項目，稱為a。\n",
    "2. 像上面的步驟3一樣，如果數字是偶數，則印出來。 您可以應用(mod 2) => %2 == 0幫助您達到目的，當然有其他方式你也可以嘗試。"
   ]
  },
  {
   "cell_type": "code",
   "execution_count": 10,
   "metadata": {},
   "outputs": [
    {
     "name": "stdout",
     "output_type": "stream",
     "text": [
      "20\n",
      "7\n",
      "11\n",
      "We printed 7, 11.\n"
     ]
    }
   ],
   "source": [
    "# 學習中的範例\n",
    "numbers = [1, 20, 4, 7, 11]\n",
    "for number in numbers: \n",
    "  if number > 4:\n",
    "    print (number)\n",
    "print (\"We printed 20, 7, 11.\")"
   ]
  },
  {
   "cell_type": "code",
   "execution_count": null,
   "metadata": {},
   "outputs": [],
   "source": [
    "a = [0, 1, 2, 3, 4, 5, 6, 7, 8, 9, 10, 11, 12, 13]\n",
    "\n",
    "#這裡開始你的程式內容\n",
    "\n",
    "\n",
    "\n",
    "\n",
    "\n",
    "\n",
    "\n",
    "\n",
    "\n",
    "\n"
   ]
  },
  {
   "cell_type": "markdown",
   "metadata": {},
   "source": [
    "    #### 試看看 不要直接看答案\n",
    "    a = [0, 1, 2, 3, 4, 5, 6, 7, 8, 9, 10, 11, 12, 13]\n",
    "\n",
    "    for number in a:\n",
    "      if number % 2 == 0:\n",
    "        print (number)"
   ]
  },
  {
   "cell_type": "markdown",
   "metadata": {},
   "source": [
    "# Learn 4/13\n",
    "\n",
    "\n",
    "## 超級市場的範例練習\n",
    "\n",
    "### 列表跟函式的結合\n",
    "\n",
    "\n",
    "函數還可以將列表作為輸入並對這些列表執行各種操作。\n",
    "\n",
    "    def count_small(numbers):\n",
    "      total = 0\n",
    "      for n in numbers:\n",
    "        if n < 10:\n",
    "          total = total + 1\n",
    "      return total\n",
    "\n",
    "    lotto = [4, 8, 15, 16, 23, 42]\n",
    "    small = count_small(lotto)\n",
    "    print (small)\n",
    "\n",
    "1.在上面的例子中，我們定義了一個函數count_small，它有一個參數(parameter)，numbers。\n",
    "2.我們初始化一個我們可以在for循環中使用的變數total。\n",
    "3.對於數字中的每個項目n，如果n小於10，我們會對total進行加1的動作。\n",
    "4.在for循環之後，我們返回total。\n",
    "5.在函數定義之後，我們創建了一個名為lotto的數字組和列表。\n",
    "6.我們呼叫count_small函數，把lotto的數字組和列表作為輸入，並將返回的結果存儲為small。\n",
    "7.最後，我們印出返回的結果，答案是2，因為只有4和8小於10。\n",
    "\n",
    "# Instructions 4/13\n",
    "\n",
    "1.編寫一個函數來計算字串“fizz”出現在列表中的次數。\n",
    "2.編寫一個名為fizz_count的函數，它將列表x作為輸入。\n",
    "3.創建一個變量count來保存正在進行的計數。 將其初始化為0。\n",
    "4.對於x中的每個項目，如果該項目等於字串“fizz”，則遞增計數變量。\n",
    "5.循環結束後，請返回count變量。\n",
    "\n",
    "例如，fizz_count（[“fizz”，“cat”，“fizz”]）應該返回2。"
   ]
  },
  {
   "cell_type": "code",
   "execution_count": 14,
   "metadata": {},
   "outputs": [
    {
     "name": "stdout",
     "output_type": "stream",
     "text": [
      "2\n"
     ]
    }
   ],
   "source": [
    "#學習的例子\n",
    "\n",
    "def count_small(numbers):\n",
    "  total = 0\n",
    "  for n in numbers:\n",
    "    if n < 10:\n",
    "      total = total + 1\n",
    "  return total\n",
    "\n",
    "lotto = [4, 8, 15, 16, 23, 42]\n",
    "small = count_small(lotto)\n",
    "print (small)"
   ]
  },
  {
   "cell_type": "code",
   "execution_count": 15,
   "metadata": {},
   "outputs": [
    {
     "name": "stdout",
     "output_type": "stream",
     "text": [
      "2\n"
     ]
    }
   ],
   "source": [
    "# Write your function below!\n",
    "\n",
    "\n",
    "\n",
    "\n"
   ]
  },
  {
   "cell_type": "markdown",
   "metadata": {},
   "source": [
    "    #### 試看看 不要直接看答案\n",
    "\n",
    "\n",
    "    def fizz_count(x):\n",
    "      count = 0\n",
    "      for item in x:\n",
    "        if item == \"fizz\":\n",
    "          count = count + 1\n",
    "      return count\n",
    "\n",
    "    print(fizz_count([\"fizz\",\"cat\",\"fizz\"]))"
   ]
  },
  {
   "cell_type": "markdown",
   "metadata": {},
   "source": [
    "# Learn 5/13\n",
    "\n",
    "## 超級市場的範例練習\n",
    "\n",
    "### 字串的迴圈\n",
    "\n",
    "正如我們所提到的，字串就像列表中一樣。 您可以按照循環列表的方式循環字串！ 雖然我們不會在這一部分要求你這樣做，但底下舉了一個例子來說明如何在字串中循環，你要看一下比較好。\n",
    "\n",
    "# Instructions 5/13\n",
    "\n",
    "運行代碼以查看行為中的字串迭代！\n"
   ]
  },
  {
   "cell_type": "code",
   "execution_count": null,
   "metadata": {},
   "outputs": [],
   "source": [
    "for letter in \"Codecademy\":\n",
    "  print (letter)\n",
    "    \n",
    "# Empty lines to make the output pretty\n",
    "print()\n",
    "print()\n",
    "\n",
    "word = \"Programming is fun!\"\n",
    "\n",
    "for letter in word:\n",
    "  # Only print out the letter i\n",
    "  if letter == \"i\":\n",
    "    print (letter)"
   ]
  },
  {
   "cell_type": "markdown",
   "metadata": {},
   "source": [
    "# Learn 6/13\n",
    "\n",
    "\n",
    "## 超級市場的範例練習\n",
    "\n",
    "### 開始創建你的商店，先設計一些商品吧\n",
    "\n",
    "\n",
    "好吧，我們要進入這個實習項目的核心了。\n",
    "恭喜！ 您現在是您自己的Codecademy品牌超市的驕傲擁有者。\n",
    "\n",
    "    animal_counts = {\n",
    "      \"ant\": 3,\n",
    "      \"bear\": 6,\n",
    "      \"crow\": 2\n",
    "    }\n",
    "    \n",
    "在上面的例子中，我們用創建了一個名為animal_counts的新字典。裡面有三個鍵值及其內容，其中一個條目的鍵值為ant，值為3。\n",
    "\n",
    "\n",
    "\n",
    "# Instructions 6/13\n",
    "\n",
    "使用{}格式創建一個名為prices的新字典，如上例所示。\n",
    "將底下這些鍵值跟內容這些內容放入您的字典中：\n",
    "\n",
    "\"banana\": 4,\n",
    "\"apple\": 2,\n",
    "\"orange\": 1.5,\n",
    "\"pear\": 3\n",
    "\n",
    "是的，這個地方真的很貴。"
   ]
  },
  {
   "cell_type": "code",
   "execution_count": null,
   "metadata": {},
   "outputs": [],
   "source": [
    "#### 從這裡開始寫\n",
    "\n",
    "    \n",
    "\n",
    "\n",
    "\n",
    "\n",
    "\n",
    "\n",
    "\n"
   ]
  },
  {
   "cell_type": "markdown",
   "metadata": {},
   "source": [
    "#### 試看看 不要直接看答案\n",
    "\n",
    "prices = {\"banana\": 4,\"apple\": 2,\"orange\": 1.5,\"pear\": 3}"
   ]
  },
  {
   "cell_type": "markdown",
   "metadata": {},
   "source": [
    "# Learn 7/13\n",
    "\n",
    "\n",
    "## 超級市場的範例練習\n",
    "\n",
    "### 上架的物品與庫存\n",
    " \n",
    "幹得好！ 作為商店經理，您還得負責管理您的架上跟庫存呢。\n",
    "\n",
    "\n",
    "# Instructions 7/13\n",
    "\n",
    "用下面的值創建一個名為stock的字典。\n",
    "\"banana\": 6,\n",
    "\"apple\": 0,\n",
    "\"orange\": 32,\n",
    "\"pear\": 15"
   ]
  },
  {
   "cell_type": "code",
   "execution_count": 22,
   "metadata": {},
   "outputs": [],
   "source": [
    "prices = {\"banana\": 4,\"apple\": 2,\"orange\": 1.5,\"pear\": 3}\n",
    "# Your code here!\n",
    "\n",
    "\n",
    "\n",
    "\n"
   ]
  },
  {
   "cell_type": "markdown",
   "metadata": {},
   "source": [
    "    #### 試看看 不要直接看答案\n",
    "\n",
    "    prices = {\"banana\": 4,\"apple\": 2,\"orange\": 1.5,\"pear\": 3}\n",
    "    \n",
    "    # Your code here!\n",
    "    stock = {\"banana\": 6, \"apple\": 0, \"orange\": 32, \"pear\": 15}"
   ]
  },
  {
   "cell_type": "markdown",
   "metadata": {},
   "source": [
    "# Learn 8/13\n",
    "\n",
    "\n",
    "## 超級市場的範例練習\n",
    "\n",
    "### 保持持續供貨的關鍵\n",
    "\n",
    "現在您擁有了所有的產品信息，您應該印出所有的庫存信息。\n",
    "\n",
    "once  = {'a': 1, 'b': 2}\n",
    "twice = {'a': 2, 'b': 4}\n",
    "for key in once:\n",
    "  print (\"Once: %s\" % once[key])\n",
    "  print (\"Twice: %s\" % twice[key])\n",
    "  \n",
    "  \n",
    "在上面的例子中，我們創建了兩個字典，once 和 twice，他們擁有相同的鍵值。\n",
    "因為我們知道它們具有相同的鍵，所以我們可以遍歷一個字典並從once 和 twice印出他們的值。\n",
    "\n",
    "\n",
    "# Instructions 8/13\n",
    "\n",
    "遍歷每個鍵值中的價格。\n",
    "就像上面的例子一樣，對於每個鍵值，可以透過迴圈印出price 和 stock兩個字典中相同鍵值的內容。\n",
    "讓他按以下格式印出來：\n",
    "\n",
    "    apple\n",
    "    price: 2\n",
    "    stock: 0\n",
    "    \n",
    "就像上面的例子一樣，因為您知道出price 和 stock字典具有相同的鍵值，因此您可以在迴圈中同時訪問price 和 stock兩個字典中相同鍵值的內容。\n",
    "當你印出資料時，可以參考上面範例中的語法來實現。"
   ]
  },
  {
   "cell_type": "code",
   "execution_count": 27,
   "metadata": {},
   "outputs": [],
   "source": [
    "prices = {\"banana\": 4,\"apple\": 2,\"orange\": 1.5,\"pear\": 3}\n",
    "stock = {\"banana\": 6, \"apple\": 0, \"orange\": 32, \"pear\": 15}\n",
    "\n",
    "#程式開始撰寫區\n",
    "\n",
    "\n",
    "\n",
    "\n",
    "\n"
   ]
  },
  {
   "cell_type": "markdown",
   "metadata": {},
   "source": [
    "    #### 試看看 不要直接看答案\n",
    "    \n",
    "    prices = {\"banana\": 4,\"apple\": 2,\"orange\": 1.5,\"pear\": 3}\n",
    "    stock = {\"banana\": 6, \"apple\": 0, \"orange\": 32, \"pear\": 15}\n",
    "\n",
    "    #程式開始撰寫區\n",
    "\n",
    "    for food in prices:\n",
    "      print (food)\n",
    "      print (\"price: %s\" % prices[food])\n",
    "      print (\"stock: %s\" % stock[food])\n",
    "  "
   ]
  },
  {
   "cell_type": "markdown",
   "metadata": {},
   "source": [
    "# Learn 9/13\n",
    "\n",
    "\n",
    "## 超級市場的範例練習\n",
    "\n",
    "### 庫存價值\n",
    "\n",
    "出於文書工作和會計目的，我們需要記錄庫存總價值。 知道還有庫存多少價值的東西是很重要的！\n",
    "\n",
    "# Instructions 9/13\n",
    "\n",
    "讓我們來確定如果你賣掉了所有的東西，你會賺多少錢。\n",
    "\n",
    "1. 創建一個名為total的變量並將其設置為零。\n",
    "2. 透過prices這個字典循環遍歷。\n",
    "3. 對於prices的每個鍵值(key)，將prices中的number乘以庫存(stock)數量。 將該值印出來，然後將其添加到total中。\n",
    "4. 最後，在你的循環之外(注意到縮排來決定甚麼叫做\"之外\")，印出total。"
   ]
  },
  {
   "cell_type": "code",
   "execution_count": 16,
   "metadata": {},
   "outputs": [
    {
     "name": "stdout",
     "output_type": "stream",
     "text": [
      "cat\n",
      "ant\n",
      "bat\n",
      "ant\n",
      "bat\n",
      "cat\n"
     ]
    }
   ],
   "source": [
    "# 學習中的程式範例\n",
    "animals = [\"cat\", \"ant\", \"bat\"]\n",
    "\n",
    "for animal in animals:\n",
    "    print (animal)\n",
    "    \n",
    "animals.sort()\n",
    "\n",
    "for animal in animals:\n",
    "    print (animal)"
   ]
  },
  {
   "cell_type": "code",
   "execution_count": null,
   "metadata": {},
   "outputs": [],
   "source": [
    "prices = {\"banana\": 4,\"apple\": 2,\"orange\": 1.5,\"pear\": 3}\n",
    "stock = {\"banana\": 6, \"apple\": 0, \"orange\": 32, \"pear\": 15}\n",
    "# 開始你的程式\n",
    "\n",
    "\n",
    "\n",
    "\n",
    "\n",
    "\n",
    "\n"
   ]
  },
  {
   "cell_type": "markdown",
   "metadata": {},
   "source": [
    "    #### 試看看 不要直接看答案\n",
    "\n",
    "    prices = {\"banana\": 4,\"apple\": 2,\"orange\": 1.5,\"pear\": 3}\n",
    "    stock = {\"banana\": 6, \"apple\": 0, \"orange\": 32, \"pear\": 15}\n",
    "    # 開始你的程式\n",
    "    total = 0\n",
    "    for food in prices:\n",
    "      print (prices[food] * stock[food])\n",
    "      total = total + prices[food] * stock[food]\n",
    "    print (total)"
   ]
  },
  {
   "cell_type": "markdown",
   "metadata": {},
   "source": [
    "# Learn 10/13\n",
    "\n",
    "\n",
    "## 超級市場的範例練習\n",
    "\n",
    "### 買東西嚕~\n",
    "\n",
    "做得好！ 現在我們要從管理層退一步模擬成自己是購物者的角色。\n",
    "為了讓客戶在網上訂購，我們將不得不建立一個消費者界面。 別擔心，它比聽起來容易！\n",
    "\n",
    "# Instructions 10/13\n",
    "\n",
    "首先，製作一個名為groceries的雜貨清單(list)，裡面放著\"banana\",\"orange\", and \"apple\"。\n"
   ]
  },
  {
   "cell_type": "code",
   "execution_count": 30,
   "metadata": {},
   "outputs": [],
   "source": [
    "# Your code here!\n",
    "\n",
    "\n",
    "\n",
    "\n",
    "\n",
    "\n",
    "\n",
    "\n"
   ]
  },
  {
   "cell_type": "markdown",
   "metadata": {},
   "source": [
    "    #### 試看看 不要直接看答案\n",
    "\n",
    "    groceries = [\"banana\", \"orange\", \"apple\"]\n"
   ]
  },
  {
   "cell_type": "markdown",
   "metadata": {},
   "source": [
    "# Learn 11/13\n",
    "\n",
    "\n",
    "## 超級市場的範例練習\n",
    "\n",
    "### 付錢嚕~\n",
    "\n",
    "\n",
    "好！ 現在您需要知道您為購物清單上的所有商品付了多少錢。\n",
    "\n",
    "    def sum(numbers):\n",
    "      total = 0\n",
    "      for number in numbers:\n",
    "        total += number\n",
    "      return total\n",
    "\n",
    "    n = [1, 2, 5, 10, 13]\n",
    "    print (sum(n))\n",
    "    \n",
    "1. 在上面的例子中，我們首先定義一個名為sum的函數，其中包含參數(parameter): numbers。\n",
    "2. 我們初始化將進行總和運算的變數total為0。\n",
    "3. 對於list中的每個number，我們將該number加到total。\n",
    "4. 在函數結束時，我們返回total。\n",
    "5. 在函數之後，我們建一個數字列表n。\n",
    "6. 最後，我們呼叫sum（numbers）函數，並把n放進去後印出結果。\n",
    "\n",
    "# Instructions 11/13\n",
    "\n",
    "1. 定義一個函數compute_bill，讓它擁有一個引數food作為輸入。\n",
    "2. 在函數中，建一個初始值為零的變量total。\n",
    "3. 對於food列表中的每個項目(item)，將該項目的價格加到總計total裡。\n",
    "4. 最後，返回總計total。\n",
    "\n",
    "忽略您要結算的物品是否有貨。請注意，您的功能應該適用於任何食物列表。"
   ]
  },
  {
   "cell_type": "code",
   "execution_count": 31,
   "metadata": {},
   "outputs": [
    {
     "name": "stdout",
     "output_type": "stream",
     "text": [
      "31\n"
     ]
    }
   ],
   "source": [
    "#學習中的範例\n",
    "def sum(numbers):\n",
    "  total = 0\n",
    "  for number in numbers:\n",
    "    total += number\n",
    "  return total\n",
    "\n",
    "n = [1, 2, 5, 10, 13]\n",
    "print (sum(n))"
   ]
  },
  {
   "cell_type": "code",
   "execution_count": null,
   "metadata": {},
   "outputs": [],
   "source": [
    "shopping_list = [\"banana\", \"orange\", \"apple\"]\n",
    "\n",
    "stock = {\n",
    "  \"banana\": 6,\n",
    "  \"apple\": 0,\n",
    "  \"orange\": 32,\n",
    "  \"pear\": 15\n",
    "}\n",
    "    \n",
    "prices = {\n",
    "  \"banana\": 4,\n",
    "  \"apple\": 2,\n",
    "  \"orange\": 1.5,\n",
    "  \"pear\": 3\n",
    "}\n",
    "\n",
    "# Write your code below!\n",
    "\n",
    "\n",
    "\n",
    "\n",
    "\n",
    "\n",
    "\n",
    "\n",
    "\n",
    "\n",
    "\n",
    "\n"
   ]
  },
  {
   "cell_type": "markdown",
   "metadata": {},
   "source": [
    "    #### 試看看 不要直接看答案\n",
    "\n",
    "    shopping_list = [\"banana\", \"orange\", \"apple\"]\n",
    "\n",
    "    stock = {\n",
    "      \"banana\": 6,\n",
    "      \"apple\": 0,\n",
    "      \"orange\": 32,\n",
    "      \"pear\": 15\n",
    "    }\n",
    "\n",
    "    prices = {\n",
    "      \"banana\": 4,\n",
    "      \"apple\": 2,\n",
    "      \"orange\": 1.5,\n",
    "      \"pear\": 3\n",
    "    }\n",
    "\n",
    "    # Write your code below!\n",
    "    def compute_bill(food):\n",
    "      total = 0\n",
    "      for item in food:\n",
    "        total = total + prices[item]\n",
    "      return total\n"
   ]
  },
  {
   "cell_type": "markdown",
   "metadata": {},
   "source": [
    "# Learn 12/13\n",
    "\n",
    "\n",
    "## 超級市場的範例練習\n",
    "\n",
    "### 售罄\n",
    "\n",
    "\n",
    "現在，您需要使用compute_bill函數在計算成本時考慮特定項目的stock/inventory之間的關係。\n",
    "最終，如果某件商品沒有庫存，則不應將其包含在總量total中。 你不能買或賣你沒有的東西！\n",
    "\n",
    "\n",
    "# Instructions 12/13\n",
    "\n",
    "對compute_bill函數進行以下更改：\n",
    "1. 當您使用迴圈瀏覽每個架上的貨品時，如果庫存數量大於零，則允許將購買的物品所屬價格加到總價(total)中。\n",
    "2. 如果商品有庫存，並將物品所屬價格加到總價(total)中，則從商品的庫存stock中減去1。\n"
   ]
  },
  {
   "cell_type": "code",
   "execution_count": 36,
   "metadata": {},
   "outputs": [],
   "source": [
    "shopping_list = [\"banana\", \"orange\", \"apple\"]\n",
    "\n",
    "stock = {\n",
    "  \"banana\": 6,\n",
    "  \"apple\": 0,\n",
    "  \"orange\": 32,\n",
    "  \"pear\": 15\n",
    "}\n",
    "    \n",
    "prices = {\n",
    "  \"banana\": 4,\n",
    "  \"apple\": 2,\n",
    "  \"orange\": 1.5,\n",
    "  \"pear\": 3\n",
    "}\n",
    "\n",
    "# Write your code below!\n",
    "def compute_bill(food):\n",
    "    total = 0\n",
    "\n",
    "\n",
    "\n",
    "\n",
    "\n",
    "\n",
    "\n"
   ]
  },
  {
   "cell_type": "markdown",
   "metadata": {},
   "source": [
    "    #### 試看看 不要直接看答案\n",
    "    shopping_list = [\"banana\", \"orange\", \"apple\"]\n",
    "\n",
    "    stock = {\n",
    "      \"banana\": 6,\n",
    "      \"apple\": 0,\n",
    "      \"orange\": 32,\n",
    "      \"pear\": 15\n",
    "    }\n",
    "\n",
    "    prices = {\n",
    "      \"banana\": 4,\n",
    "      \"apple\": 2,\n",
    "      \"orange\": 1.5,\n",
    "      \"pear\": 3\n",
    "    }\n",
    "\n",
    "    # Write your code below!\n",
    "    def compute_bill(food):\n",
    "      total = 0\n",
    "      for item in food:\n",
    "        if stock[item] > 0:\n",
    "          total += prices[item]\n",
    "          stock[item] -= 1\n",
    "      return total"
   ]
  },
  {
   "cell_type": "markdown",
   "metadata": {},
   "source": [
    "# Learn 13/13\n",
    "\n",
    "\n",
    "## 超級市場的範例練習\n",
    "\n",
    "### 結帳了\n",
    "\n",
    "你做得很好，這個項目中的列表和字典你應該已經有基礎了。這單元裡你練習過：\n",
    "1. 使用帶有列表和詞典的循環(loops)\n",
    "2. 用循環，列表和字典編寫函數\n",
    "3. 根據環境變化更新數據（例如，當您銷售香蕉時，將香蕉的庫存數量減少1）。\n",
    "\n",
    "感謝您在Codecademy超市購物！\n",
    "\n",
    "# Instructions 13/13\n",
    "\n",
    "印出底下結果，你可以開心的結束本單元嚕~~~~~~"
   ]
  },
  {
   "cell_type": "code",
   "execution_count": 37,
   "metadata": {},
   "outputs": [
    {
     "name": "stdout",
     "output_type": "stream",
     "text": [
      "5.5\n"
     ]
    }
   ],
   "source": [
    "shopping_list = [\"banana\", \"orange\", \"apple\"]\n",
    "\n",
    "stock = {\n",
    "  \"banana\": 6,\n",
    "  \"apple\": 0,\n",
    "  \"orange\": 32,\n",
    "  \"pear\": 15\n",
    "}\n",
    "    \n",
    "prices = {\n",
    "  \"banana\": 4,\n",
    "  \"apple\": 2,\n",
    "  \"orange\": 1.5,\n",
    "  \"pear\": 3\n",
    "}\n",
    "\n",
    "# Write your code below!\n",
    "def compute_bill(food):\n",
    "  total = 0\n",
    "  for item in food:\n",
    "    if stock[item] > 0:\n",
    "      total = total + prices[item]\n",
    "      stock[item] = stock[item] - 1\n",
    "  return total\n",
    "\n",
    "print (compute_bill(shopping_list))"
   ]
  }
 ],
 "metadata": {
  "kernelspec": {
   "display_name": "Python 3",
   "language": "python",
   "name": "python3"
  },
  "language_info": {
   "codemirror_mode": {
    "name": "ipython",
    "version": 3
   },
   "file_extension": ".py",
   "mimetype": "text/x-python",
   "name": "python",
   "nbconvert_exporter": "python",
   "pygments_lexer": "ipython3",
   "version": "3.5.5"
  },
  "widgets": {
   "state": {},
   "version": "1.1.2"
  }
 },
 "nbformat": 4,
 "nbformat_minor": 2
}
