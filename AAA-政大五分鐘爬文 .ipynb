{
 "cells": [
  {
   "cell_type": "code",
   "execution_count": 3,
   "metadata": {},
   "outputs": [],
   "source": [
    "import requests\n",
    "from bs4 import BeautifulSoup\n",
    "from html.parser import HTMLParser\n",
    "import time\n",
    "from random import randint\n",
    "import sys\n",
    "from IPython.display import clear_output"
   ]
  },
  {
   "cell_type": "code",
   "execution_count": 4,
   "metadata": {},
   "outputs": [],
   "source": [
    "import os\n",
    "#os.getcwd()\n",
    "os.chdir(\"E:\\\\pywork\\\\crawler\\\\demo\")"
   ]
  },
  {
   "cell_type": "code",
   "execution_count": 5,
   "metadata": {},
   "outputs": [
    {
     "data": {
      "text/plain": [
       "26"
      ]
     },
     "execution_count": 5,
     "metadata": {},
     "output_type": "execute_result"
    }
   ],
   "source": [
    "##建立變項檔案的header\n",
    "title  = \"vote\" + \"＆\" + \"name\" + \"＆\" + \"rating\" + \"＆\" + \"date\" + \"＆\" + \"cmt\"\n",
    "run_list = open('run_list_練習.txt','w',encoding='utf-8')\n",
    "##先把header寫進去\n",
    "run_list.write(title + \"\\n\")"
   ]
  },
  {
   "cell_type": "code",
   "execution_count": 6,
   "metadata": {},
   "outputs": [
    {
     "name": "stdout",
     "output_type": "stream",
     "text": [
      "https://movie.douban.com/subject/25662329/comments?start=0&limit=20&sort=new_score\n",
      "\n",
      "https://movie.douban.com/subject/25662329/comments?start=20&limit=20&sort=new_score\n",
      "\n",
      "https://movie.douban.com/subject/25662329/comments?start=40&limit=20&sort=new_score\n",
      "\n",
      "https://movie.douban.com/subject/25662329/comments?start=60&limit=20&sort=new_score\n",
      "\n",
      "https://movie.douban.com/subject/25662329/comments?start=80&limit=20&sort=new_score\n",
      "\n",
      "https://movie.douban.com/subject/25662329/comments?start=100&limit=20&sort=new_score\n",
      "\n",
      "https://movie.douban.com/subject/25662329/comments?start=120&limit=20&sort=new_score\n",
      "\n",
      "https://movie.douban.com/subject/25662329/comments?start=140&limit=20&sort=new_score\n",
      "\n",
      "https://movie.douban.com/subject/25662329/comments?start=160&limit=20&sort=new_score\n",
      "\n",
      "https://movie.douban.com/subject/25662329/comments?start=180&limit=20&sort=new_score\n",
      "\n",
      "https://movie.douban.com/subject/25662329/comments?start=200&limit=20&sort=new_score\n",
      "\n"
     ]
    }
   ],
   "source": [
    "links = ['https://movie.douban.com/subject/25662329/comments?start=' + str(i) + '&limit=20&sort=new_score' for i in range(0, 201, 20)]\n",
    "for jj in links:\n",
    "    print(jj + '\\n')"
   ]
  },
  {
   "cell_type": "code",
   "execution_count": 7,
   "metadata": {},
   "outputs": [],
   "source": [
    "#設置假的瀏覽器資訊\n",
    "headers = {'User-Agent':'Mozilla/5.0 (Macintosh; Intel Mac OS X 10_11_3) AppleWebKit/537.36 (KHTML, like Gecko) Chrome/48.0.2564.116 Safari/537.36'}\n"
   ]
  },
  {
   "cell_type": "code",
   "execution_count": 8,
   "metadata": {},
   "outputs": [
    {
     "name": "stdout",
     "output_type": "stream",
     "text": [
      "現在執行完第12回\n",
      "https://movie.douban.com/subject/25662329/comments?start=200&limit=20&sort=new_score\n"
     ]
    }
   ],
   "source": [
    "i=1\n",
    "for link in links:\n",
    "    res = requests.get(link,headers=headers)\n",
    "    #res = requests.get(link)\t\n",
    "    soup = BeautifulSoup(res.text.encode(\"utf-8\"),\"html.parser\")\n",
    "    #cmt_table = soup.findAll('h3',{'class':'name'})\n",
    "    cmt_table = soup.findAll('div',{'class':'comment'})\n",
    "\n",
    "    for cmt_person in cmt_table:\n",
    "\n",
    "        ##做例外處理\n",
    "        try:\n",
    "            vote = cmt_person.find('span', {'class':'votes'}).string\n",
    "        except Exception as e:\n",
    "            vote = \"0\"\n",
    "    \n",
    "        try:\n",
    "            name = cmt_person.find('a',{'class':''}).string\n",
    "        except Exception as e:\n",
    "            name = \"noName\"\n",
    "        \n",
    "        try:\n",
    "            rating = [tag['class'] for tag in cmt_person.findAll('span',{'title':True})][0][0]\n",
    "        except Exception as e:\n",
    "            rating = \"noRating\"\n",
    "    \n",
    "        try:\n",
    "            date = cmt_person.find('span', {'class':'comment-time'}).string.strip()#.string.split()[1]\n",
    "        except Exception as e:\n",
    "            date = \"noDate\"\n",
    "    \n",
    "        try:\n",
    "            cmt = cmt_person.find('p', {'class': ''}).string.replace('\\r\\n','').strip()\n",
    "        except Exception as e:\n",
    "            cmt = \"\"\n",
    "\n",
    "        ##串起來用逗號分格\n",
    "        result = vote + \"＆\" + name + \"＆\" + rating + \"＆\" + date + \"＆\" + cmt\n",
    "        run_list.write(result + \"\\n\")\n",
    "        \n",
    "        #base_infos.append(result)\n",
    "        \n",
    "    i+=1\n",
    "    ##隨機睡一下\n",
    "    time.sleep(randint(1,5))\n",
    "    clear_output()\n",
    "    print (\"現在執行完第\" + str(i) + \"回\\n\" + link)\n",
    "    sys.stdout.flush()\n",
    "\n",
    "run_list.close()\n"
   ]
  },
  {
   "cell_type": "code",
   "execution_count": null,
   "metadata": {
    "collapsed": true
   },
   "outputs": [],
   "source": []
  }
 ],
 "metadata": {
  "kernelspec": {
   "display_name": "Python [conda env:AAA]",
   "language": "python",
   "name": "conda-env-AAA-py"
  },
  "language_info": {
   "codemirror_mode": {
    "name": "ipython",
    "version": 3
   },
   "file_extension": ".py",
   "mimetype": "text/x-python",
   "name": "python",
   "nbconvert_exporter": "python",
   "pygments_lexer": "ipython3",
   "version": "3.6.5"
  }
 },
 "nbformat": 4,
 "nbformat_minor": 2
}
