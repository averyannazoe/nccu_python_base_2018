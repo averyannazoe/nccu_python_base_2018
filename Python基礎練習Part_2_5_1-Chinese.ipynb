{
 "cells": [
  {
   "cell_type": "markdown",
   "metadata": {},
   "source": [
    "# Python基礎練習\n",
    "\n",
    "本教材編撰來源系來自[Codecademy](https://www.codecademy.com/)，原設計為Python 2之語系，本練習系提供離線使用，並將之中文化且優化為python 3。2與3差異不大，同學可自行前往原始網站進行互動學習。若初學者，可以使用本教材，避免語言的隔閡後，再到原始網站練習，得到更深層的學習成果。\n",
    "\n",
    "## 練習目標單元part_1:\n",
    "\n",
    "1. Python基礎語法\n",
    "\n",
    "2. 字串(Strings)及輸出(Console Output)\n",
    "\n",
    "3. 條件式(Conditionals)及流程控制(Control Flow)\n",
    "\n",
    "4. 功能函式(Functions)\n",
    "\n",
    "## 練習目標單元part_2:\n",
    "\n",
    "5. 列表(Lists)及字典(Dictionaries)\n",
    "\n",
    "6. 由學生轉變為老師\n",
    "\n",
    "7. 列表(Lists)及功能函式(Functions)\n",
    "\n",
    "8. 循環(Loops)"
   ]
  },
  {
   "cell_type": "markdown",
   "metadata": {},
   "source": [
    "# 以下為part_2\n",
    "# 5.1 Python 列表(Lists)及字典(Dictionaries) 練習內容\n",
    "## ---------------------------------------------------------------------------------------------------"
   ]
  },
  {
   "cell_type": "markdown",
   "metadata": {},
   "source": [
    "# Learn 1/14\n",
    "\n",
    "## 列表(Lists)及字典(Dictionaries)\n",
    "\n",
    "### 列表(Lists)介紹\n",
    "\n",
    "\n",
    "列表是一種資料型態，您可以使用一個變數去儲存一組不同內容的資料集。（您已經了解的資料型態包括字串，數字和布林值。）\n",
    "您可以使用列表(Lists)，並且分配這些項目到列表裡面，像是底下的例子:\n",
    "\n",
    "    list_name = [item_1, item_2]\n",
    "\n",
    "中括號[]之間的項目就是列表list_name的內容，分別為item_1, item_2。\n",
    "當然，列表也可以是空的：empty_list = [] 這就是一個空列表的例子。\n",
    "\n",
    "列表與字串非常相似，但有一些關鍵差異。\n",
    "\n",
    "# Instructions 1/14\n",
    "\n",
    "1. 列表zoo_animals有三個項目內容。\n",
    "2. 請添加第四個項目到列表裡！ \n",
    "3. 隨便輸入你最喜歡的動物的名字（“字串”型態）\n",
    "4. 請在第一行的逗號之後與]之間增加這個動物名稱。\n"
   ]
  },
  {
   "cell_type": "code",
   "execution_count": 2,
   "metadata": {},
   "outputs": [],
   "source": [
    "zoo_animals = [\"pangolin\", \"cassowary\", \"sloth\", ]; #練習看看在這行加入第四個動物，讓程式執行\n",
    "# One animal is missing!\n",
    "\n",
    "if len(zoo_animals) > 3:\n",
    "    print (\"The first animal at the zoo is the \" + zoo_animals[0])\n",
    "    print (\"The second animal at the zoo is the \" + zoo_animals[1])\n",
    "    print (\"The third animal at the zoo is the \" + zoo_animals[2])\n",
    "    print (\"The fourth animal at the zoo is the \" + zoo_animals[3])"
   ]
  },
  {
   "cell_type": "markdown",
   "metadata": {},
   "source": [
    "#不要直接看答案 先練習看看\n",
    "\n",
    "zoo_animals = [\"pangolin\", \"cassowary\", \"sloth\", \"dog\"];\n",
    "# One animal is missing!\n",
    "\n",
    "if len(zoo_animals) > 3:\n",
    "\n",
    "    print (\"The first animal at the zoo is the \" + zoo_animals[0])\n",
    "    print (\"The second animal at the zoo is the \" + zoo_animals[1])\n",
    "    print (\"The third animal at the zoo is the \" + zoo_animals[2])\n",
    "    print (\"The fourth animal at the zoo is the \" + zoo_animals[3])"
   ]
  },
  {
   "cell_type": "markdown",
   "metadata": {},
   "source": [
    "# Learn 2/14\n",
    "\n",
    "## 列表(Lists)及字典(Dictionaries)\n",
    "\n",
    "### 以索引(Index)存取(Access)\n",
    "\n",
    "\n",
    "您可以透過索引的方式指定你想要存取列表中的單個項目。索引就像是標識項目在列表中的位置的地址，索引直接出現在括號之間的列表名稱之後，如下所示：\n",
    "\n",
    "list_name[index]\n",
    "\n",
    "列表索引從0開始，而不是1！ 您可以像下面這樣的例子將存取的是列表中的第一個項目：list_name[0]。 列表中的第二項是索引1：list_name[1]。 這是因為電腦科學家喜歡從零開始計數，請務必記得這件事。\n",
    "\n",
    "# Instructions 2/14\n",
    "\n",
    "編寫一個語句，並把列表的第二個和第四個項目的結果加起來後印出來。請確實使用索引方式取出列表中的值！\n"
   ]
  },
  {
   "cell_type": "code",
   "execution_count": null,
   "metadata": {},
   "outputs": [],
   "source": [
    "# 練習看看 ____應該放甚麼好?\n",
    "numbers = [5, 6, 7, 8]\n",
    "\n",
    "print (\"把列表中第0跟第2的項目加起來的小計是...\")\n",
    "print (numbers[_____] + numbers[_____])\n",
    "print (\"把列表中第1跟第3的項目加起來的小計是...\")\n",
    "# Your code here!\n",
    "print (numbers[_____] + numbers[_____])\n"
   ]
  },
  {
   "cell_type": "markdown",
   "metadata": {},
   "source": [
    "    # 忍耐一下 不要直接看答案\n",
    "\n",
    "    numbers = [5, 6, 7, 8]\n",
    "\n",
    "    print (\"Adding the numbers at indices 0 and 2...\")\n",
    "\n",
    "    print (numbers[0] + numbers[2])\n",
    "\n",
    "    print (\"Adding the numbers at indices 1 and 3...\")\n",
    "\n",
    "    # Your code here!\n",
    "\n",
    "    print (numbers[1] + numbers[3])\n",
    "\n",
    "\n"
   ]
  },
  {
   "cell_type": "markdown",
   "metadata": {},
   "source": [
    "# Learn 3/14\n",
    "\n",
    "\n",
    "## 列表(Lists)及字典(Dictionaries)\n",
    "\n",
    "### 新鄰居-怎麼讓指定的索引內的值改變?\n",
    "\n",
    "\n",
    "列表索引的行為與其他變數名稱一樣！它可以用來存取並且賦予你想分配給它的內容。\n",
    "底下是列表索引的例子，例子中可以看到如何取出內存值的範例：\n",
    "\n",
    "    zoo_animals[0]\n",
    "    # Gets the value \"pangolin\"\n",
    "\n",
    "底下例子是說明如何賦予一個值給所在的索引位置:\n",
    "\n",
    "    zoo_animals[2] = \"hyena\"\n",
    "    # Changes \"sloth\" to \"hyena\"\n",
    "\n",
    "# Instructions 3/14\n",
    "\n",
    "參考上面的例子，練習用另一個動物替換目前的動物(“tiger”)。你可以指定任何你喜歡的動物。"
   ]
  },
  {
   "cell_type": "code",
   "execution_count": null,
   "metadata": {},
   "outputs": [],
   "source": [
    "# 參考上面的例子，練習用另一個動物替換目前的動物(“tiger”)。你可以指定任何你喜歡的動物。\n",
    "\n",
    "zoo_animals = [\"pangolin\", \"cassowary\", \"sloth\", \"tiger\"]\n",
    "\n",
    "zoo_animals[?] = \"hyena\" # ?該填哪個數字\n",
    "\n",
    "\n",
    "\n",
    "\n",
    "\n"
   ]
  },
  {
   "cell_type": "code",
   "execution_count": null,
   "metadata": {},
   "outputs": [],
   "source": [
    "#### 試看看 不要直接看答案\n",
    "zoo_animals = [\"pangolin\", \"cassowary\", \"sloth\", \"tiger\"]\n",
    "\n",
    "zoo_animals[2] = \"hyena\""
   ]
  },
  {
   "cell_type": "markdown",
   "metadata": {},
   "source": [
    "# Learn 4/14\n",
    "\n",
    "## 列表(Lists)及字典(Dictionaries)\n",
    "\n",
    "### 列表的鬆散特性以及其長度\n",
    "\n",
    "列表不一定有固定的長度，您可以隨時將項目添加到列表的後面！"
   ]
  },
  {
   "cell_type": "code",
   "execution_count": 29,
   "metadata": {},
   "outputs": [
    {
     "name": "stdout",
     "output_type": "stream",
     "text": [
      "4\n",
      "['a', 'b', 'c', 'd']\n"
     ]
    }
   ],
   "source": [
    "letters = ['a', 'b', 'c']\n",
    "letters.append('d')\n",
    "print (len(letters))\n",
    "print (letters)"
   ]
  },
  {
   "cell_type": "markdown",
   "metadata": {},
   "source": [
    "\n",
    "在上面的例子中，我們首先創建一個名為letters的列表。\n",
    "然後，我們將字串'd'添加到letters列表的末端。\n",
    "接下來，我們印出letters列表的長度(長度是4喔)。\n",
    "最後，我們印出letters的內容: ['a'，'b'，'c'，'d']。\n",
    "\n",
    "\n",
    "# Instructions 4/14\n",
    "\n",
    "增加三個項目到suitcase列表中，可以參考上面的例子試試看。\n",
    "然後，將list_length指定為suitcase列表的長度。"
   ]
  },
  {
   "cell_type": "code",
   "execution_count": null,
   "metadata": {},
   "outputs": [],
   "source": [
    "suitcase = [] \n",
    "suitcase.append(\"sunglasses\")\n",
    "\n",
    "# 從這裡開始練習\n",
    "\n",
    "\n",
    "\n",
    "\n",
    "\n",
    "\n",
    "\n",
    "\n",
    "list_length = ________ # Set this to the length of suitcase\n",
    "\n",
    "print (\"There are %d items in the suitcase.\" % (list_length))\n",
    "print (suitcase)"
   ]
  },
  {
   "cell_type": "markdown",
   "metadata": {},
   "source": [
    "    #### 試看看 不要直接看答案\n",
    "\n",
    "    suitcase = [] \n",
    "    suitcase.append(\"sunglasses\")\n",
    "\n",
    "    # Your code here!\n",
    "    suitcase.append(\"shirt\")\n",
    "    suitcase.append(\"pants\")\n",
    "    suitcase.append(\"shoes\")\n",
    "\n",
    "    list_length = len(suitcase) # Set this to the length of suitcase\n",
    "\n",
    "    print (\"There are %d items in the suitcase.\" % (list_length))\n",
    "    print (suitcase)"
   ]
  },
  {
   "cell_type": "markdown",
   "metadata": {},
   "source": [
    "# Learn 5/14\n",
    "\n",
    "## 列表(Lists)及字典(Dictionaries)\n",
    "\n",
    "\n",
    "### 取出列表中的一部分資料\n",
    "\n",
    "\n",
    "有時候，你只想存取列表中的一部分。這時候，可以考慮應用下面的程式碼：\n",
    "\n",
    "    letters = ['a', 'b', 'c', 'd', 'e']\n",
    "    slice = letters[1:3]\n",
    "    print (slice)\n",
    "    print (letters)\n",
    "\n",
    "這段代碼在做什麼？\n",
    "首先，我們建一個名為letters的列表。\n",
    "然後，我們將列表的一部分存儲在slice列表中。 \n",
    "\n",
    "我們透過在letters列表名稱後面定義要包含的索引來實現這一個功能：letters[1:3]。\n",
    "\n",
    "\n",
    "在Python中，當我們以這種方式指定取得列表的一部分時，資料將包含索引的第一個位置的元素(這個例子中指的是1)，但是資料不包括索引的第二個位置的元素(這個例子中指的是3)\n",
    "\n",
    "接下來，我們印出slice的內容，它將印出: ['b'，'c']。請記住，在Python中，索引總是從0開始，所以1實際上指的是b喔。\n",
    "最後，我們印出: ['a'，'b'，'c'，'d'，'e']。\n",
    "\n",
    "\n",
    "# Instructions 5/14\n",
    "\n",
    "1. 建一個名為middle的列表，其中只包含suitcase中的兩個中間項目。\n",
    "2. 創建一個名為last的列表，由suitcase中的最後兩個項目組成。"
   ]
  },
  {
   "cell_type": "code",
   "execution_count": 1,
   "metadata": {},
   "outputs": [],
   "source": [
    "suitcase = [\"sunglasses\", \"hat\", \"passport\", \"laptop\", \"suit\", \"shoes\"]\n",
    "\n",
    "\n",
    "\n",
    "#### 從這裡開始寫\n",
    "# The first and second items (index zero and one)\n",
    "first = suitcase[?:2]\n",
    "\n",
    "# Third and fourth items (index two and three)\n",
    "middle = suitcase[2:?]\n",
    "\n",
    "# The last two items (index four and five)\n",
    "last = suitcase[?:?]\n",
    "\n",
    "\n",
    "\n",
    "\n",
    "\n",
    "\n",
    "\n",
    "\n",
    "\n",
    "\n",
    "\n",
    "\n",
    "\n",
    "\n",
    "\n",
    "\n",
    "\n",
    "\n"
   ]
  },
  {
   "cell_type": "markdown",
   "metadata": {},
   "source": [
    "#### 試看看 不要直接看答案\n",
    "\n",
    "    suitcase = [\"sunglasses\", \"hat\", \"passport\", \"laptop\", \"suit\", \"shoes\"]\n",
    "\n",
    "\n",
    "\n",
    "    #### 從這裡開始寫\n",
    "    # The first and second items (index zero and one)\n",
    "    first = suitcase[0:2]\n",
    "\n",
    "    # Third and fourth items (index two and three)\n",
    "    middle = suitcase[2:4]\n",
    "\n",
    "    # The last two items (index four and five)\n",
    "    last = suitcase[4:6]"
   ]
  },
  {
   "cell_type": "markdown",
   "metadata": {},
   "source": [
    "# Learn 6/14\n",
    "\n",
    "## 列表(Lists)及字典(Dictionaries)\n",
    "\n",
    "### 取出列表或字串中的一部分資料\n",
    "\n",
    "\n",
    "您可以像列表一樣切割一個字串！ 實際上，您可以將字串視為字元列表：每個字元都是列表中的一個順序項目，從索引0開始。\n",
    "\n",
    "    my_list[:2]\n",
    "    # Grabs the first two items 取出前兩項\n",
    "    my_list[3:]\n",
    "    # Grabs the fourth through last items 抓出第四個到最後一個項目\n",
    "\n",
    "如果您的列表子集合包含列表中的第一個或最後一個項目（或字串），則不需要包含該項目的索引。\n",
    "\n",
    "\n",
    "# Instructions 6/14\n",
    "\n",
    "從列表中取出索引3直到6，但不包括6的動物片段出來，並指定給變數dog。\n",
    "從列表中取出索引6直到結束的動物片段出來，並指定給變數frog。"
   ]
  },
  {
   "cell_type": "code",
   "execution_count": null,
   "metadata": {},
   "outputs": [],
   "source": [
    "animals = \"catdogfrog\"\n",
    "\n",
    "# The first three characters of animals\n",
    "cat = animals[:3]\n",
    "\n",
    "#### 從這裡開始寫\n",
    "\n",
    "# The fourth through sixth characters\n",
    "dog = \n",
    "\n",
    "# From the seventh character to the end\n",
    "frog = \n",
    "    \n",
    "    \n",
    "\n",
    "\n",
    "\n",
    "\n",
    "\n",
    "\n",
    "\n"
   ]
  },
  {
   "cell_type": "markdown",
   "metadata": {},
   "source": [
    "#### 試看看 不要直接看答案\n",
    "\n",
    "    animals = \"catdogfrog\"\n",
    "\n",
    "    # The first three characters of animals\n",
    "    cat = animals[:3]\n",
    "\n",
    "    # The fourth through sixth characters\n",
    "    dog = animals[3:6]\n",
    "\n",
    "    # From the seventh character to the end\n",
    "    frog = animals[6:]"
   ]
  },
  {
   "cell_type": "markdown",
   "metadata": {},
   "source": [
    "# Learn 7/14\n",
    "\n",
    "## 列表(Lists)及字典(Dictionaries)\n",
    "\n",
    "### 怎麼插入新內容\n",
    "\n",
    "有時您需要搜索列表中的項目。\n",
    "\n",
    "    animals = [\"ant\", \"bat\", \"cat\"]\n",
    "    print (animals.index(\"bat\"))\n",
    "    # 這裡你會得到1的回應\n",
    "    \n",
    "首先，我們用三個字串創建一個名為animals的列表。\n",
    "然後，我們印出第一個包含字串“bat”的索引，它將印出1。\n",
    "\n",
    "我們也可以將項目插入列表中。\n",
    "\n",
    "    animals.insert(1, \"dog\")\n",
    "    print (animals)\n",
    "    \n",
    "我們在索引1處插入“dog”，它將所有內容都往後移動1個位置(注意到不會刪掉)。\n",
    "印出的結果將會是[\"ant\", \"dog\", \"bat\", \"cat\"]\n",
    "\n",
    "\n",
    "# Instructions 7/14\n",
    "\n",
    "使用.index（item）函數找出“duck”的索引。 將該結果指定到一個名為duck_index的變數。\n",
    "然後，在該索引處插入字串“cobra”，可以使用.insert(index, item) 的方式進行。"
   ]
  },
  {
   "cell_type": "code",
   "execution_count": 10,
   "metadata": {},
   "outputs": [
    {
     "ename": "SyntaxError",
     "evalue": "invalid syntax (<ipython-input-10-96d94b6b4d93>, line 2)",
     "output_type": "error",
     "traceback": [
      "\u001b[1;36m  File \u001b[1;32m\"<ipython-input-10-96d94b6b4d93>\"\u001b[1;36m, line \u001b[1;32m2\u001b[0m\n\u001b[1;33m    duck_index = # Use index() to find \"duck\"\u001b[0m\n\u001b[1;37m                                             ^\u001b[0m\n\u001b[1;31mSyntaxError\u001b[0m\u001b[1;31m:\u001b[0m invalid syntax\n"
     ]
    }
   ],
   "source": [
    "animals = [\"aardvark\", \"badger\", \"duck\", \"emu\", \"fennec fox\"]\n",
    "duck_index = # Use index() to find \"duck\"\n",
    "\n",
    "# Your code here!\n",
    "\n",
    "\n",
    "\n",
    "\n",
    "\n",
    "\n",
    "\n",
    "\n",
    "print (animals) # Observe what prints after the insert operation"
   ]
  },
  {
   "cell_type": "markdown",
   "metadata": {},
   "source": [
    "    #### 試看看 不要直接看答案\n",
    "\n",
    "    animals = [\"aardvark\", \"badger\", \"duck\", \"emu\", \"fennec fox\"]\n",
    "    duck_index = animals.index(\"duck\") # Use index() to find \"duck\"\n",
    "\n",
    "    # Your code here!\n",
    "    animals.insert(duck_index,\"cobra\")\n",
    "\n",
    "    print (animals) # Observe what prints after the insert operation"
   ]
  },
  {
   "cell_type": "markdown",
   "metadata": {},
   "source": [
    "# Learn 8/14\n",
    "\n",
    "## 列表(Lists)及字典(Dictionaries)\n",
    "\n",
    "### for 迴圈在列表中的應用\n",
    "\n",
    "\n",
    "如果你想對列表中的所有項目做些什麼事情，你可以使用for迴圈來達到這個目的。 如果您已經了解JavaScript中的for loops循環，請密切關注！ 它們在Python中不同。\n",
    "\n",
    "    for variable in list_name:\n",
    "      # 做些甚麼\n",
    "      \n",
    "變量(variable)名稱跟在for關鍵字後面;它會依次分配每個列表項的值。\n",
    "然後在list_name中指定list_name作為將要使用的列表循環。 該行以冒號(:)結束並且後面的縮排程式將在列表中的每個項目執行一次。\n",
    "\n",
    "\n",
    "# Instructions 8/14\n",
    "\n",
    "在for循環的縮排內容中寫一個語句，為每個列表中的項目印一個等於該項目*2的數字結果。"
   ]
  },
  {
   "cell_type": "code",
   "execution_count": null,
   "metadata": {},
   "outputs": [],
   "source": [
    "my_list = [1,9,3,8,5,7]\n",
    "\n",
    "for number in my_list:\n",
    "  # Your code here\n",
    "  \n",
    "    \n",
    "    \n",
    "    \n",
    "    \n",
    "    "
   ]
  },
  {
   "cell_type": "markdown",
   "metadata": {},
   "source": [
    "    #### 試看看 不要直接看答案\n",
    "    \n",
    "    my_list = [1,9,3,8,5,7]\n",
    "\n",
    "    for number in my_list:\n",
    "      # Your code here\n",
    "      print (2 * number)\n",
    "  "
   ]
  },
  {
   "cell_type": "markdown",
   "metadata": {},
   "source": [
    "# Learn 9/14\n",
    "\n",
    "## 列表(Lists)及字典(Dictionaries)\n",
    "\n",
    "### 更多的for迴圈應用\n",
    "\n",
    "如果你的列表亂七八糟，你可能需要對它進行排序，我們可以用sort()去實現它。\n",
    "\n",
    "    animals = [\"cat\", \"ant\", \"bat\"]\n",
    "    animals.sort()\n",
    "\n",
    "    for animal in animals:\n",
    "      print (animal)\n",
    "      \n",
    "首先，我們創建animals = [\"cat\", \"ant\", \"bat\"]的列表。 我們故意讓內容不按字母順序排列。\n",
    "然後，我們按照字母順序對動物進行排序。請注意.sort()的工作是修改列表而不是產生新列表。\n",
    "然後，對於animals中的每個項目，我們將它們分別印出為 \"ant\", \"bat\", \"cat\" 。\n",
    "\n",
    "你可以在稍後的範例中看看變化。\n",
    "\n",
    "\n",
    "# Instructions 9/14\n",
    "\n",
    "1. 寫一個for-loop循環遍歷start_list，並且利用.append()把每個想目都進行squared (x ** 2)的運算後，丟回到square_list。\n",
    "\n",
    "2. 然後排序square_list！"
   ]
  },
  {
   "cell_type": "code",
   "execution_count": 16,
   "metadata": {},
   "outputs": [
    {
     "name": "stdout",
     "output_type": "stream",
     "text": [
      "cat\n",
      "ant\n",
      "bat\n",
      "ant\n",
      "bat\n",
      "cat\n"
     ]
    }
   ],
   "source": [
    "# 學習中的程式範例\n",
    "animals = [\"cat\", \"ant\", \"bat\"]\n",
    "\n",
    "for animal in animals:\n",
    "    print (animal)\n",
    "    \n",
    "animals.sort()\n",
    "\n",
    "for animal in animals:\n",
    "    print (animal)"
   ]
  },
  {
   "cell_type": "code",
   "execution_count": null,
   "metadata": {},
   "outputs": [],
   "source": [
    "start_list = [5, 3, 1, 2, 4]\n",
    "square_list = []\n",
    "\n",
    "#  從這裡開始你的程式\n",
    "\n",
    "\n",
    "\n",
    "\n",
    "print (square_list)"
   ]
  },
  {
   "cell_type": "markdown",
   "metadata": {},
   "source": [
    "    #### 試看看 不要直接看答案\n",
    "\n",
    "    start_list = [5, 3, 1, 2, 4]\n",
    "    square_list = []\n",
    "\n",
    "    # Your code here!\n",
    "    for number in start_list:\n",
    "      square_list.append(number ** 2)\n",
    "    square_list.sort()\n",
    "\n",
    "    print (square_list)"
   ]
  },
  {
   "cell_type": "markdown",
   "metadata": {},
   "source": [
    "# Learn 10/14\n",
    "\n",
    "## 列表(Lists)及字典(Dictionaries)\n",
    "\n",
    "### 下一部分是鍵值(Key)\n",
    "\n",
    "字典(dictionary)與列表(list)類似，但您可以透過查找key(鍵值)而不是索引來存取值。鍵值可以是任何字串或數字。字典用大括號括起來，如下所示：\n",
    "\n",
    "    d = {'key1' : 1, 'key2' : 2, 'key3' : 3}\n",
    "    \n",
    "這是一個名為d的字典，帶有三個鍵值對。 鍵'key1'指向值1，'鍵2'指向2，依此類推。\n",
    "字典對於像是電話簿（類似把人名跟電話號碼對起來），登錄頁面（將電子郵件地址與用戶名配對）等等等等的應用非常好用！\n",
    "\n",
    "\n",
    "# Instructions 10/14\n",
    "\n",
    "印出存儲在“Sloth”和“Burmese Python”鍵下的值。用鍵值存取字典就像按索引存取列表一樣。\n",
    "這裡先示範取出Puffin的值: 104，你可以照這樣的邏輯做出其他兩個:\n",
    "\n",
    "    residents['Puffin']# Gets the value 104 \n"
   ]
  },
  {
   "cell_type": "code",
   "execution_count": 18,
   "metadata": {},
   "outputs": [
    {
     "name": "stdout",
     "output_type": "stream",
     "text": [
      "104\n"
     ]
    }
   ],
   "source": [
    "# 為住戶(residents)分配一個包含三個鍵值對：\n",
    "residents = {'Puffin' : 104, 'Sloth' : 105, 'Burmese Python' : 106}\n",
    "\n",
    "print (residents['Puffin']) # Prints Puffin's room number\n",
    "\n",
    "# Your code here!\n",
    "\n",
    "\n",
    "\n",
    "\n",
    "\n",
    "\n",
    "\n",
    "\n"
   ]
  },
  {
   "cell_type": "markdown",
   "metadata": {},
   "source": [
    "    #### 試看看 不要直接看答案\n",
    "\n",
    "    residents = {'Puffin' : 104, 'Sloth' : 105, 'Burmese Python' : 106}\n",
    "\n",
    "    print (residents['Puffin']) # Prints Puffin's room number\n",
    "\n",
    "    # Your code here!\n",
    "    print (residents['Sloth'])\n",
    "    print (residents['Burmese Python'])\n",
    "\n"
   ]
  },
  {
   "cell_type": "markdown",
   "metadata": {},
   "source": [
    "# Learn 11/14\n",
    "\n",
    "## 列表(Lists)及字典(Dictionaries)\n",
    "\n",
    "### 新增字典的鍵值對\n",
    "\n",
    "\n",
    "像列表一樣，字典是可變的。 這意味著它們可以在創建後進行更改。這樣做的一個優點是，我們可以在字典創建之後添加新的鍵/值對，如下所示：\n",
    "\n",
    "    dict_name[new_key] = new_value\n",
    "    \n",
    "一個空的大括號{}是一個空字典，就像空的一對[]是一個空列表。\n",
    "字典的長度len()是它的鍵值對的數量。即使該值是一個列表，每一對只計數一次。（沒錯：你可以把列表放在字典裡！）\n",
    "\n",
    "\n",
    "# Instructions 11/14\n",
    "\n",
    "將至少三個以上的鍵值對添加到menu變數中，以dish名稱作為鍵值（字串型態）和價格（浮點數或整數）的配對作為值。 這是一個例子：\n",
    "\n",
    "    menu['Spam'] = 2.50"
   ]
  },
  {
   "cell_type": "code",
   "execution_count": null,
   "metadata": {},
   "outputs": [],
   "source": [
    "menu = {} # Empty dictionary\n",
    "menu['Chicken Alfredo'] = 14.50 # Adding new key-value pair\n",
    "print (menu['Chicken Alfredo'])\n",
    "\n",
    "# Your code here: Add some dish-price pairs to menu!\n",
    "\n",
    "\n",
    "\n",
    "\n",
    "\n",
    "\n",
    "\n",
    "\n",
    "\n",
    "\n",
    "\n",
    "\n",
    "\n",
    "\n",
    "\n",
    "\n",
    "print (\"There are \" + str(len(menu)) + \" items on the menu.\")\n",
    "print (menu)"
   ]
  },
  {
   "cell_type": "markdown",
   "metadata": {},
   "source": [
    "        #### 試看看 不要直接看答案\n",
    "\n",
    "        menu = {} # Empty dictionary\n",
    "        menu['Chicken Alfredo'] = 14.50 # Adding new key-value pair\n",
    "        print (menu['Chicken Alfredo'])\n",
    "\n",
    "        # Your code here: Add some dish-price pairs to menu!\n",
    "        menu['Hamburger'] = 8.50\n",
    "        menu['Pizza Slice'] = 3.50\n",
    "        menu['Salad'] = 10.00\n",
    "\n",
    "        print (\"There are \" + str(len(menu)) + \" items on the menu.\")\n",
    "        print (menu)"
   ]
  },
  {
   "cell_type": "markdown",
   "metadata": {},
   "source": [
    "# Learn 12/14\n",
    "\n",
    "## 列表(Lists)及字典(Dictionaries)\n",
    "\n",
    "### 改變你的想法\n",
    "\n",
    "因為字典是可變的，所以可以透過多種方式進行修改。像是可以使用del命令從字典中刪除不要的項目：\n",
    "\n",
    "    del dict_name[key_name]\n",
    "    \n",
    "將從字典中刪除關鍵key_name及其關聯的值。\n",
    "透過為鍵指定鍵值的內容，可以將新值與鍵做出關聯，成為新的一筆字典內容，如下所示：\n",
    "\n",
    "    dict_name[key] = new_value\n",
    "     \n",
    "     \n",
    "# Instructions 12/14\n",
    "\n",
    "使用del從zoo_animals中刪除'Sloth'和'Bengal Tiger'項目。\n",
    "將“Rockhopper Penguin”設定為“Arctic Exhibit”以外的任何值。\n"
   ]
  },
  {
   "cell_type": "code",
   "execution_count": null,
   "metadata": {},
   "outputs": [],
   "source": [
    "# key - animal_name : value - location \n",
    "zoo_animals = { 'Unicorn' : 'Cotton Candy House',\n",
    "'Sloth' : 'Rainforest Exhibit',\n",
    "'Bengal Tiger' : 'Jungle House',\n",
    "'Atlantic Puffin' : 'Arctic Exhibit',\n",
    "'Rockhopper Penguin' : 'Arctic Exhibit'}\n",
    "# A dictionary (or list) declaration may break across multiple lines\n",
    "\n",
    "# Removing the 'Unicorn' entry. (Unicorns are incredibly expensive.)\n",
    "del zoo_animals['Unicorn']\n",
    "\n",
    "# Your code here!\n",
    "\n",
    "\n",
    "\n",
    "\n",
    "\n",
    "\n",
    "\n",
    "\n",
    "print (zoo_animals)"
   ]
  },
  {
   "cell_type": "markdown",
   "metadata": {},
   "source": [
    "    #### 試看看 不要直接看答案\n",
    "    # key - animal_name : value - location \n",
    "    zoo_animals = { 'Unicorn' : 'Cotton Candy House',\n",
    "    'Sloth' : 'Rainforest Exhibit',\n",
    "    'Bengal Tiger' : 'Jungle House',\n",
    "    'Atlantic Puffin' : 'Arctic Exhibit',\n",
    "    'Rockhopper Penguin' : 'Arctic Exhibit'}\n",
    "    # A dictionary (or list) declaration may break across multiple lines\n",
    "\n",
    "    # Removing the 'Unicorn' entry. (Unicorns are incredibly expensive.)\n",
    "    del zoo_animals['Unicorn']\n",
    "\n",
    "    # Your code here!\n",
    "    del zoo_animals['Sloth']\n",
    "    del zoo_animals['Bengal Tiger']\n",
    "    zoo_animals['Rockhopper Penguin'] = 'Plains Exhibit'\n",
    "\n",
    "    print (zoo_animals)"
   ]
  },
  {
   "cell_type": "markdown",
   "metadata": {},
   "source": [
    "# Learn 13/14\n",
    "\n",
    "## 列表(Lists)及字典(Dictionaries)\n",
    "\n",
    "###  刪除一些東西\n",
    "\n",
    "有時候你需要從列表中刪除某些東西。\n",
    "\n",
    "    beatles = [\"john\",\"paul\",\"george\",\"ringo\",\"stuart\"]\n",
    "    beatles.remove(\"stuart\")\n",
    "    print (beatles)\n",
    "\n",
    "此代碼將印出：\n",
    "\n",
    "    [\"john\",\"paul\",\"george\",\"ringo\"]\n",
    "    \n",
    "我們用5個字串創建一個名為beatles的列表(list)。\n",
    "\n",
    "然後，我們從列表中的每個項目找出符合字串“stuart”的第一個內容，並且刪除它。請注意.remove(item)不會返回任何內容。\n",
    "最後，我們印出該清單，以查看“stuart”是否已被刪除。\n",
    "\n",
    "待會你可以看一下範例，了解第一個的意思。\n",
    "\n",
    "\n",
    "# Instructions 13/14\n",
    "\n",
    "從列表中移除dagger這個字串的內容。"
   ]
  },
  {
   "cell_type": "code",
   "execution_count": 22,
   "metadata": {},
   "outputs": [
    {
     "name": "stdout",
     "output_type": "stream",
     "text": [
      "['john', 'paul', 'george', 'ringo']\n",
      "['john', 'paul', 'stuart', 'george', 'ringo', 'stuart']\n"
     ]
    }
   ],
   "source": [
    "#學習中的範例\n",
    "beatles = [\"john\",\"paul\",\"george\",\"ringo\",\"stuart\"]\n",
    "beatles.remove(\"stuart\")\n",
    "print (beatles)\n",
    "\n",
    "beatles = [\"john\",\"stuart\",\"paul\",\"stuart\",\"george\",\"ringo\",\"stuart\"]\n",
    "beatles.remove(\"stuart\")\n",
    "print (beatles)"
   ]
  },
  {
   "cell_type": "code",
   "execution_count": null,
   "metadata": {},
   "outputs": [],
   "source": [
    "backpack = ['xylophone', 'dagger', 'tent', 'bread loaf']\n",
    "# Your code here!\n",
    "\n",
    "\n",
    "\n",
    "\n",
    "\n",
    "\n",
    "\n",
    "\n",
    "\n",
    "\n",
    "print(backpack)"
   ]
  },
  {
   "cell_type": "markdown",
   "metadata": {},
   "source": [
    "    #### 試看看 不要直接看答案\n",
    "    backpack = ['xylophone', 'dagger', 'tent', 'bread loaf']\n",
    "    backpack.remove('dagger')\n",
    "    print(backpack)"
   ]
  },
  {
   "cell_type": "markdown",
   "metadata": {},
   "source": [
    "# Learn 14/14\n",
    "\n",
    "## 列表(Lists)及字典(Dictionaries)\n",
    "\n",
    "### 綜合練習\n",
    "\n",
    "讓我們回顧一下關於字典的幾個重點:\n",
    "\n",
    "    my_dict = {\n",
    "      \"fish\": [\"c\", \"a\", \"r\", \"p\"],\n",
    "      \"cash\": -4483,\n",
    "      \"luck\": \"good\"\n",
    "    }\n",
    "    \n",
    "    print (my_dict[\"fish\"][0])\n",
    "    \n",
    "在上面的例子中，我們創建了一個包含許多類型值的字典。\n",
    "\n",
    "鍵值“fish”是一個列表\n",
    "鍵值“cash”是一個整數\n",
    "鍵值“luck”是一個字串\n",
    "\n",
    "最後，我們印出字母“c”。 當我們使用像my_dict[\"fish\"]那樣的方式存取字典中的值時，如果剛好內容是列表時，我們可以直接存取該值。 我們可以存取由鍵值“fish”所存儲的列表中，索引(index)為0的項目。\n",
    "\n",
    "\n",
    "# Instructions 14/14\n",
    "\n",
    "1. 增加一個名為“pocket”的鍵值\n",
    "2. 將“pocket”的值設為由字串'seashell', 'strange berry', and 'lint'組成的列表(list)\n",
    "3. 利用.sort()將項目排序後存到backpack這個鍵值\n",
    "4. 然後，從存儲在“backpack”鍵下的項目列表中刪除dagger(可以使用.remove('dagger')的方法)\n",
    "5. 將“gold”鍵下存儲的數字加50\n"
   ]
  },
  {
   "cell_type": "code",
   "execution_count": 27,
   "metadata": {},
   "outputs": [
    {
     "name": "stdout",
     "output_type": "stream",
     "text": [
      "c\n"
     ]
    }
   ],
   "source": [
    "#學習中的項目\n",
    "\n",
    "my_dict = {\n",
    "  \"fish\": [\"c\", \"a\", \"r\", \"p\"],\n",
    "  \"cash\": -4483,\n",
    "  \"luck\": \"good\"\n",
    "}\n",
    "\n",
    "print (my_dict[\"fish\"][0])\n",
    "    "
   ]
  },
  {
   "cell_type": "code",
   "execution_count": null,
   "metadata": {},
   "outputs": [],
   "source": [
    "inventory = {\n",
    "  'gold' : 500,\n",
    "  'pouch' : ['flint', 'twine', 'gemstone'], # Assigned a new list to 'pouch' key\n",
    "  'backpack' : ['xylophone','dagger', 'bedroll','bread loaf']\n",
    "}\n",
    "\n",
    "# Adding a key 'burlap bag' and assigning a list to it\n",
    "inventory['burlap bag'] = ['apple', 'small ruby', 'three-toed sloth']\n",
    "\n",
    "# Sorting the list found under the key 'pouch'\n",
    "inventory['pouch'].sort() \n",
    "\n",
    "# Your code here\n",
    "\n",
    "\n",
    "\n",
    "\n",
    "\n",
    "\n",
    "\n",
    "\n",
    "\n",
    "\n",
    "\n",
    "\n",
    "\n",
    "\n",
    "\n",
    "\n",
    "\n"
   ]
  },
  {
   "cell_type": "markdown",
   "metadata": {},
   "source": [
    "    # 先不要看參考答案，自己先試試看\n",
    "\n",
    "    inventory = {\n",
    "      'gold' : 500,\n",
    "      'pouch' : ['flint', 'twine', 'gemstone'], # Assigned a new list to 'pouch' key\n",
    "      'backpack' : ['xylophone','dagger', 'bedroll','bread loaf']\n",
    "    }\n",
    "\n",
    "    # Adding a key 'burlap bag' and assigning a list to it\n",
    "    inventory['burlap bag'] = ['apple', 'small ruby', 'three-toed sloth']\n",
    "\n",
    "    print (inventory) # before\n",
    "\n",
    "    # Sorting the list found under the key 'pouch'\n",
    "    inventory['pouch'].sort() \n",
    "\n",
    "    # Your code here\n",
    "    inventory['pocket'] = ['seashell', 'strange berry', 'lint']\n",
    "    inventory['backpack'].sort()\n",
    "    inventory['backpack'].remove('dagger')\n",
    "    inventory['gold'] = inventory['gold'] + 50\n",
    "\n",
    "    print (inventory) #after\n"
   ]
  },
  {
   "cell_type": "code",
   "execution_count": null,
   "metadata": {},
   "outputs": [],
   "source": []
  }
 ],
 "metadata": {
  "kernelspec": {
   "display_name": "Python 3",
   "language": "python",
   "name": "python3"
  },
  "language_info": {
   "codemirror_mode": {
    "name": "ipython",
    "version": 3
   },
   "file_extension": ".py",
   "mimetype": "text/x-python",
   "name": "python",
   "nbconvert_exporter": "python",
   "pygments_lexer": "ipython3",
   "version": "3.6.4"
  }
 },
 "nbformat": 4,
 "nbformat_minor": 2
}
