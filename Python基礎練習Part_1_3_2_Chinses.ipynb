{
 "cells": [
  {
   "cell_type": "markdown",
   "metadata": {},
   "source": [
    "# Python基礎練習\n",
    "\n",
    "本教材編撰來源系來自[Codecademy](https://www.codecademy.com/)，原設計為Python 2之語系，本練習系提供離線使用，並將之中文化且優化為python 3。2與3差異不大，同學可自行前往原始網站進行互動學習。若初學者，可以使用本教材，避免語言的隔閡後，再到原始網站練習，得到更深層的學習成果。\n",
    "\n",
    "## 練習目標單元part_1:\n",
    "\n",
    "1. Python基礎語法\n",
    "\n",
    "2. 字串(Strings)及輸出(Console Output)\n",
    "\n",
    "3. 條件式(Conditionals)及流程控制(Control Flow)\n",
    "\n",
    "4. 功能函式(Functions)\n",
    "\n",
    "## 練習目標單元part_2:\n",
    "\n",
    "5. 列表(Lists)及字典(Dictionaries)\n",
    "\n",
    "6. 由學生轉變為老師\n",
    "\n",
    "7. 列表(Lists)及功能函式(Functions)\n",
    "\n",
    "8. 循環(Loops)"
   ]
  },
  {
   "cell_type": "markdown",
   "metadata": {},
   "source": [
    "# 以下為part_1\n",
    "# 3.2 條件(Conditionals) 和流程控制 (Control Flow) - PygLatin練習內容\n",
    "## ---------------------------------------------------------------------------------------------------"
   ]
  },
  {
   "cell_type": "markdown",
   "metadata": {},
   "source": [
    "# 學習 1/11\n",
    "\n",
    "## PygLatin\n",
    "\n",
    "### 一起來做個整合式的突破專案吧\n",
    "我們來看看迄今為止學到的內容，然後編寫一個PigLatin翻譯器。\n",
    "\n",
    "PigLatin是一種語言遊戲，它會將單詞的第一個字母移到末尾並添加“ay”。 像是“Python”會變成“ythonpay”。這個單元要把之前學的拿來應用，製作一個拉丁豬翻譯器，下面是我們需要採取的步驟：\n",
    "\n",
    "1. 要求用戶輸入英文單詞。\n",
    "2. 確保用戶輸入了一個有效的單詞。\n",
    "3. 將單詞從英語轉換為拉丁豬語。\n",
    "4. 顯示翻譯結果。\n",
    "\n",
    "\n",
    "# 導引 1/11\n",
    "當您準備好編碼時，就往下一個教學看吧。接著會一步一步地告訴你怎麼完成這個專案！"
   ]
  },
  {
   "cell_type": "code",
   "execution_count": 4,
   "metadata": {},
   "outputs": [
    {
     "name": "stdout",
     "output_type": "stream",
     "text": [
      "Pig Latin\n"
     ]
    }
   ],
   "source": [
    "print (\"Pig Latin\")"
   ]
  },
  {
   "cell_type": "markdown",
   "metadata": {},
   "source": [
    "# 學習 2/11\n",
    "\n",
    "## PygLatin\n",
    "\n",
    "### Ahoy! (或者我該說Ahoyay!)\n",
    "讓我們熱身一下吧~\n",
    "\n",
    "# 導引 2/11\n",
    "印出 \"Pig Latin\" 的訊息來做為熱身的開始吧(這個練習你一定會成功，就算之前沒有用功過，一定也能通過這個測驗的)"
   ]
  },
  {
   "cell_type": "code",
   "execution_count": 5,
   "metadata": {},
   "outputs": [
    {
     "name": "stdout",
     "output_type": "stream",
     "text": [
      "Pig Latin\n"
     ]
    }
   ],
   "source": [
    "print (\"Pig Latin\")"
   ]
  },
  {
   "cell_type": "markdown",
   "metadata": {},
   "source": [
    "# 學習 3/11\n",
    "\n",
    "## PygLatin\n",
    "\n",
    "### 輸入!\n",
    "首先，我們需要請使用者輸入一些資訊.\n",
    "\n",
    "* name = input(\"你的名字是?\")\n",
    "* print (name)\n",
    "\n",
    "上面的例子中, input() 允需輸入一個字串，輸入完畢後按下Enter (或 Return)即可印出名字。\n",
    "\n",
    "當你輸入完畢後，這個輸入的內容已經被存到變數name裡面了。\n",
    "\n",
    "# 導引 3/11\n",
    "\n",
    "練習使用input(\"輸入一個字串: \") 來要求使用者輸入內容。系統會把輸入的結果存起來到變數original裡面."
   ]
  },
  {
   "cell_type": "code",
   "execution_count": 19,
   "metadata": {},
   "outputs": [
    {
     "name": "stdout",
     "output_type": "stream",
     "text": [
      "輸入一個字串:K\n"
     ]
    }
   ],
   "source": [
    "original=input(\"輸入一個字串:\")"
   ]
  },
  {
   "cell_type": "markdown",
   "metadata": {},
   "source": [
    "# 學習 4/11\n",
    "\n",
    "## PygLatin\n",
    "\n",
    "### 自我檢查!\n",
    "接下來，我們需要確保使用者真的輸入了一些內容。\n",
    "\n",
    "* empty_string = \"\"\n",
    "* if len(empty_string) > 0:\n",
    "*   # Run this block.\n",
    "*   # Maybe print something?\n",
    "* else:\n",
    "*   # That string must have been empty.\n",
    "\n",
    "透過len(empty_string)的檢查，我們就可以確保使用者真的有輸入一些東西。\n",
    "\n",
    "\n",
    "# 導引 4/11\n",
    "\n",
    "編寫一個驗證輸入內容是否有包含字串的if子句去檢查它。\n",
    "\n",
    "1. 添加一個if語句來檢查len(original)是否大於零。 不要忘記：這個檢查要放在if語句的後面！\n",
    "\n",
    "2. 如果內容實際上包含一些字串，請印出內容。\n",
    "\n",
    "3. 否則（即else），請印出“空白”。\n",
    "\n",
    "您需要多次執行您的程式碼，測試一個空字串和一個包含字串的內容。 當您確信自己的代碼正常工作時，繼續下一個練習。"
   ]
  },
  {
   "cell_type": "code",
   "execution_count": 8,
   "metadata": {},
   "outputs": [
    {
     "name": "stdout",
     "output_type": "stream",
     "text": [
      "輸入一個字串:MM\n",
      "MM\n"
     ]
    }
   ],
   "source": [
    "original=input(\"輸入一個字串:\")\n",
    "\n",
    "empty_string = \"\"\n",
    "if len(original) > 0:\n",
    "    print (original)\n",
    "else:\n",
    "    print (\"空或包含非字母內容\")"
   ]
  },
  {
   "cell_type": "markdown",
   "metadata": {},
   "source": [
    "# 學習 5/11\n",
    "\n",
    "## PygLatin\n",
    "\n",
    "### 更多的自我檢查\n",
    "\n",
    "現在我們知道我們有一個非空字串的內容。 讓我們更徹底一點，我們要檢查我們的輸入只包含字母內容。\n",
    "\n",
    "考慮下面的代碼：\n",
    "\n",
    "* x = \"J123\"\n",
    "* x.isalpha() #這將返回'False'\n",
    "\n",
    "在第一行中，我們創建一個包含字母和數字的字串。\n",
    "第二行使用內建的方法.isalpha()，它將返回False，因為該字符串包含非字母字符。\n",
    "\n",
    "您可以使用.isalpha()來檢查一個字串是否不包含任何非字母符號！\n",
    "\n",
    "\n",
    "# 導引 5/11\n",
    "為if語句添加第二個條件。 除了現有的檢查字串是否包含字符之外，還應該使用.isalpha()來確保它只包含字母。\n",
    "不要忘記在if語句結尾處用冒號來當作區域的標記！"
   ]
  },
  {
   "cell_type": "code",
   "execution_count": 12,
   "metadata": {},
   "outputs": [
    {
     "name": "stdout",
     "output_type": "stream",
     "text": [
      "輸入一個字串: 個字串:\n",
      "空或包含非字母內容\n"
     ]
    }
   ],
   "source": [
    "original=input(\"輸入一個字串: \")\n",
    "\n",
    "empty_string = \"\"\n",
    "if len(original) > 0 and original.isalpha():\n",
    "    print (original)\n",
    "else:\n",
    "    print (\"空或包含非字母內容\")"
   ]
  },
  {
   "cell_type": "markdown",
   "metadata": {},
   "source": [
    "# 學習 6/11\n",
    "\n",
    "## PygLatin\n",
    "\n",
    "### 突擊測驗！\n",
    "當您完成程序的一部分時，使用各種輸入進行多次測試非常重要。\n",
    "\n",
    "# 導引 6/11\n",
    "花些時間來測試你目前的程式。嘗試一些應該通過的輸入和一些應該失敗的輸入。 輸入一些包含非字母字符和空字符串的字符串。\n",
    "當你確信你的代碼已經準備好了，就往下一步繼續前進！"
   ]
  },
  {
   "cell_type": "code",
   "execution_count": 13,
   "metadata": {},
   "outputs": [
    {
     "name": "stdout",
     "output_type": "stream",
     "text": [
      "輸入一個字串: ih*\n",
      "空或包含非字母內容\n"
     ]
    }
   ],
   "source": [
    "original=input(\"輸入一個字串: \")\n",
    "\n",
    "empty_string = \"\"\n",
    "if len(original) > 0 and original.isalpha():\n",
    "    print (original)\n",
    "else:\n",
    "    print (\"空或包含非字母內容\")"
   ]
  },
  {
   "cell_type": "markdown",
   "metadata": {},
   "source": [
    "# 學習 7/11\n",
    "\n",
    "## PygLatin\n",
    "\n",
    "### Ay B C\n",
    "Now we can get ready to start translating to Pig Latin! Let's review the rules for translation:\n",
    "\n",
    "You move the first letter of the word to the end and then append the suffix 'ay'. \n",
    "Example: python -> ythonpay\n",
    "\n",
    "Let's create a variable to hold our translation suffix.\n",
    "\n",
    "現在我們可以準備開始翻譯Pig Latin了！ 讓我們來看看翻譯規則：\n",
    "\n",
    "這個翻譯機會將單詞的第一個字母移到末尾，然後附加後綴'ay'。\n",
    "例如：python - > ythonpay\n",
    "\n",
    "讓我們創建一個變數來保存我們的翻譯機後綴詞。\n",
    "\n",
    "# 導引 7/11\n",
    "創建一個名為pyg的變數並將其設定為後綴詞'ay'。"
   ]
  },
  {
   "cell_type": "code",
   "execution_count": 14,
   "metadata": {},
   "outputs": [],
   "source": [
    "pyg = 'ay'"
   ]
  },
  {
   "cell_type": "markdown",
   "metadata": {},
   "source": [
    "# 學習 8/11\n",
    "\n",
    "## PygLatin\n",
    "\n",
    "### 讓文字動起來\n",
    "\n",
    "讓我們將所有文字都變成小寫來簡化事情。\n",
    "\n",
    "* the_string = \"Hello\"\n",
    "* the_string = the_string.lower()\n",
    "\n",
    ".lower()函數不會修改字串本身內容，它會返回一個小寫版本。 在上面的例子中，我們將結果存回原來的變數。\n",
    "\n",
    "我們還需要抓出這個詞的第一個字母。\n",
    "\n",
    "* first_letter (第一個字母) = the_string[0]\n",
    "* second_letter (第二個字母) = the_string[1]\n",
    "* third_letter (第三個字母)  = the_string[2]\n",
    "\n",
    "請記住，我們從零開始計數，而不是一，所以我們透過[0]來取得字串中的第一個字母。\n",
    "\n",
    "\n",
    "# 導引 8/11\n",
    "在你的if語句中：\n",
    "1. 建一個名為word的新變數，並用.lower()來轉換成小寫。\n",
    "2. 建一個名為first的新變量，用[0]的方法來取出第一個字母。"
   ]
  },
  {
   "cell_type": "code",
   "execution_count": 25,
   "metadata": {},
   "outputs": [
    {
     "name": "stdout",
     "output_type": "stream",
     "text": [
      "輸入一個字串:LKK\n",
      "lkk\n",
      "l\n"
     ]
    }
   ],
   "source": [
    "pyg = 'ay'\n",
    "\n",
    "original = input('輸入一個字串:')\n",
    "\n",
    "if len(original) > 0 and original.isalpha():\n",
    "  word = original.lower()\n",
    "  first = word[0]\n",
    "  print (word)\n",
    "  print (first)\n",
    "else:\n",
    "  print ('空白')"
   ]
  },
  {
   "cell_type": "markdown",
   "metadata": {},
   "source": [
    "# 學習 9/11\n",
    "\n",
    "## PygLatin\n",
    "\n",
    "### 乾坤大挪移\n",
    "\n",
    "現在我們已經存儲了第一個字母，我們需要將字母和存儲在pyg中的字串添加到原始字串的末尾。\n",
    "\n",
    "* 還記得如何連接字串嗎？ 幫你複習一下:\n",
    "\n",
    "* greeting = \"Hello \"\n",
    "* name = \"D. Y.\"\n",
    "* welcome = greeting + name\n",
    "\n",
    "# 導引 9/11\n",
    "\n",
    "建一個名為new_word的新變量，並將其設定為等於word, first, and pyg的連接字串。"
   ]
  },
  {
   "cell_type": "code",
   "execution_count": 28,
   "metadata": {},
   "outputs": [
    {
     "name": "stdout",
     "output_type": "stream",
     "text": [
      "輸入一個字串:LKJ\n",
      "lkjlay\n"
     ]
    }
   ],
   "source": [
    "pyg = 'ay'\n",
    "\n",
    "original = input('輸入一個字串:')\n",
    "\n",
    "if len(original) > 0 and original.isalpha():\n",
    "  word = original.lower()\n",
    "  first = word[0]\n",
    "  new_word = word + first + pyg\n",
    "  #new_word = new_word[1:len(new_word)]\n",
    "  print (new_word)\n",
    "else:\n",
    "  print ('空白')"
   ]
  },
  {
   "cell_type": "markdown",
   "metadata": {},
   "source": [
    "# 學習 10/11\n",
    "\n",
    "## PygLatin\n",
    "\n",
    "### 忍耐點，快結束了~\n",
    "\n",
    "很好！但是，現在第一個字母，在開頭和結尾都顯示出來(不包括ay)。\n",
    "\n",
    "* s = \"Charlie\"\n",
    "* print (s[0])\n",
    "* # will print \"C\"\n",
    "* print (s[1:4])\n",
    "* # will print \"har\"\n",
    "\n",
    "1. 首先我們創建一個變數s並給它一個字串“Charlie”\n",
    "2. 接下來我們使用s[0]取得Charlie的第一個字母(記住字母位置從0開始)。\n",
    "3. 然後我們用s[1:4]取得Charlie的一個段落(har)(這將返回從位置1的字母到位置4的所有內容)。\n",
    "\n",
    "就像上面的第三個例子一樣，我們要切割字符串。\n",
    "\n",
    "\n",
    "# 導引 10/11\n",
    "將new_word設為從第一個索引一直到new_word結束的字串段落。使用[1:len(new_word)]來執行此操作。"
   ]
  },
  {
   "cell_type": "code",
   "execution_count": 30,
   "metadata": {},
   "outputs": [
    {
     "name": "stdout",
     "output_type": "stream",
     "text": [
      "輸入一個字串:OKMM\n",
      "kmmoay\n"
     ]
    }
   ],
   "source": [
    "pyg = 'ay'\n",
    "\n",
    "original = input('輸入一個字串:')\n",
    "\n",
    "if len(original) > 0 and original.isalpha():\n",
    "  word = original.lower()\n",
    "  first = word[0]\n",
    "  new_word = word + first + pyg\n",
    "  new_word = ?????????????????????????????????\n",
    "  print (new_word)\n",
    "else:\n",
    "  print ('空白')"
   ]
  },
  {
   "cell_type": "code",
   "execution_count": null,
   "metadata": {},
   "outputs": [],
   "source": [
    "#先別看答案\n",
    "pyg = 'ay'\n",
    "\n",
    "original = input('輸入一個字串:')\n",
    "\n",
    "if len(original) > 0 and original.isalpha():\n",
    "  word = original.lower()\n",
    "  first = word[0]\n",
    "  new_word = word + first + pyg\n",
    "  new_word = new_word[1:len(new_word)]\n",
    "  print (new_word)\n",
    "else:\n",
    "  print ('空白')"
   ]
  },
  {
   "cell_type": "markdown",
   "metadata": {},
   "source": [
    "### 學習 11/11\n",
    "\n",
    "## PygLatin\n",
    "\n",
    "### 測試，測試，成功的不二法門\n",
    "\n",
    "好極了！ 你應該有一個功能齊全的拉丁豬語翻譯器。 嚴格測試你的代碼，確保一切正常。\n",
    "\n",
    "您還需要取出用於幫助調試代碼中間步驟的語句。 現在可能是添加一些註解的好時機！ 確保你的代碼是乾淨的，完整的註解和功能都是一樣重要的，希望你可以記住。\n",
    "\n",
    "# 導引 11/11\n",
    "確定你真的懂了，就繼續測試一下吧~"
   ]
  },
  {
   "cell_type": "code",
   "execution_count": 31,
   "metadata": {},
   "outputs": [
    {
     "name": "stdout",
     "output_type": "stream",
     "text": [
      "Enter a word:五月天\n",
      "月天五ay\n"
     ]
    }
   ],
   "source": [
    "pyg = 'ay'\n",
    "\n",
    "original = input('輸入一個字串:')\n",
    "\n",
    "if len(original) > 0 and original.isalpha():\n",
    "  word = original.lower()\n",
    "  first = word[0]\n",
    "  new_word = word + first + pyg\n",
    "  new_word = new_word[1:len(new_word)]\n",
    "  print (new_word)\n",
    "else:\n",
    "  print ('空白')"
   ]
  },
  {
   "cell_type": "code",
   "execution_count": null,
   "metadata": {},
   "outputs": [],
   "source": []
  }
 ],
 "metadata": {
  "kernelspec": {
   "display_name": "Python 3",
   "language": "python",
   "name": "python3"
  },
  "language_info": {
   "codemirror_mode": {
    "name": "ipython",
    "version": 3
   },
   "file_extension": ".py",
   "mimetype": "text/x-python",
   "name": "python",
   "nbconvert_exporter": "python",
   "pygments_lexer": "ipython3",
   "version": "3.6.4"
  }
 },
 "nbformat": 4,
 "nbformat_minor": 2
}
