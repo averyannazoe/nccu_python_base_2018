{
 "cells": [
  {
   "cell_type": "markdown",
   "metadata": {},
   "source": [
    "# Python基礎練習\n",
    "\n",
    "本教材編撰來源系來自[Codecademy](https://www.codecademy.com/)，原設計為Python 2之語系，本練習系提供離線使用，並將之中文化且優化為python 3。2與3差異不大，同學可自行前往原始網站進行互動學習。若初學者，可以使用本教材，避免語言的隔閡後，再到原始網站練習，得到更深層的學習成果。\n",
    "\n",
    "## 練習目標單元part_1:\n",
    "\n",
    "1. Python基礎語法\n",
    "\n",
    "2. 字串(Strings)及輸出(Console Output)\n",
    "\n",
    "3. 條件式(Conditionals)及流程控制(Control Flow)\n",
    "\n",
    "4. 功能函式(Functions)\n",
    "\n",
    "## 練習目標單元part_2:\n",
    "\n",
    "5. 列表(Lists)及字典(Dictionaries)\n",
    "\n",
    "6. 由學生轉變為老師\n",
    "\n",
    "7. 列表(Lists)及功能函式(Functions)\n",
    "\n",
    "8. 循環(Loops)"
   ]
  },
  {
   "cell_type": "markdown",
   "metadata": {},
   "source": [
    "# 以下為part_1\n",
    "# 2.2 字串(Strings)及輸出(Console Output) - 日期和時間(Date and Time) 練習內容\n",
    "## ---------------------------------------------------------------------------------------------------"
   ]
  },
  {
   "cell_type": "markdown",
   "metadata": {},
   "source": [
    "# 進度 1/6\n",
    "\n",
    "## Date and Time\n",
    "\n",
    "### datetime 函式庫\n",
    "1. 很多時候你想知道甚麼時間點發生什麼事情。我們可以使用datetime在Python中達到這樣的目的。\n",
    "\n",
    "2. 我們先練習使用datetime印出日期和時間。\n",
    "\n",
    "\n",
    "# 導引 1/6\n",
    "按 \"Shlft + Enter\" 執行。"
   ]
  },
  {
   "cell_type": "code",
   "execution_count": 1,
   "metadata": {},
   "outputs": [
    {
     "name": "stdout",
     "output_type": "stream",
     "text": [
      "2018-03-14 11:30:36.413021\n",
      "2018\n",
      "3\n",
      "14\n"
     ]
    }
   ],
   "source": [
    "from datetime import datetime\n",
    "now =datetime.now()\n",
    "print (now)\n",
    "print (now.year)\n",
    "print (now.month)\n",
    "print (now.day)"
   ]
  },
  {
   "cell_type": "markdown",
   "metadata": {},
   "source": [
    "# 進度 2/6\n",
    "\n",
    "## Date and Time\n",
    "\n",
    "### 取得現在的時間、日期\n",
    "\n",
    "我們可以用datetime.now() 取得現在的日期、時間，用法如下:\n",
    "\n",
    "* from datetime import datetime\n",
    "* print (datetime.now())\n",
    "\n",
    "第一行導入日期時間庫，以便我們可以使用它。\n",
    "第二行將印出目前的日期和時間。\n",
    "\n",
    "# 導引 2/6\n",
    "1. 建一個名為now的變數，並在其中存儲datetime.now()的結果。\n",
    "2. 然後，印出來。"
   ]
  },
  {
   "cell_type": "code",
   "execution_count": 2,
   "metadata": {},
   "outputs": [
    {
     "name": "stdout",
     "output_type": "stream",
     "text": [
      "2018-03-14 11:36:23.243627\n",
      "2018\n",
      "3\n",
      "14\n"
     ]
    }
   ],
   "source": [
    "from datetime import datetime\n",
    "? = datetime.now()\n",
    "print (now)\n",
    "print (now.year)\n",
    "print (now.month)\n",
    "print (now.day)"
   ]
  },
  {
   "cell_type": "markdown",
   "metadata": {},
   "source": [
    "# Learn 3/6\n",
    "\n",
    "## Date and Time\n",
    "\n",
    "### Extracting Information\n",
    "Notice how the output looks like 2013-11-25 23:45:14.317454. What if you don't want the entire date and time? \n",
    "\n",
    "* from datetime import datetime\n",
    "* now = datetime.now()\n",
    "\n",
    "* current_year = now.year\n",
    "* current_month = now.month\n",
    "* current_day = now.day\n",
    "\n",
    "You already have the first two lines.\n",
    "In the third line, we take the year (and only the year) from the variable now and store it in current_year.\n",
    "\n",
    "In the fourth and fifth lines, we store the month and day from now.\n",
    "\n",
    "# Instructions 3/6\n",
    "1. \n",
    "On a new line, print now.year. Make sure you do it after setting the now variable!\n",
    "Then, print out now.month.\n",
    "Finally, print out now.day."
   ]
  },
  {
   "cell_type": "code",
   "execution_count": 3,
   "metadata": {},
   "outputs": [
    {
     "name": "stdout",
     "output_type": "stream",
     "text": [
      "2018-03-14 13:39:04.674782\n",
      "2018\n",
      "3\n",
      "14\n"
     ]
    }
   ],
   "source": [
    "from datetime import datetime\n",
    "#now =datetime.now()\n",
    "print (now)\n",
    "print (now.year)\n",
    "print (now.month)\n",
    "print (now.day)"
   ]
  },
  {
   "cell_type": "markdown",
   "metadata": {},
   "source": [
    "# Learn 4/6\n",
    "\n",
    "## Date and Time\n",
    "\n",
    "### Hot Date\n",
    "What if we want to print today's date in the following format? mm/dd/yyyy. Let's use string substitution again!\n",
    "\n",
    "* from datetime import datetime\n",
    "* now = datetime.now()\n",
    "\n",
    "* print ('%02d-%02d-%04d' % (now.month, now.day, now.year))\n",
    "* # will print the current date as mm-dd-yyyy\n",
    "R\n",
    "emember that the standalone % operator after the string will fill the %02d and %04d placeholders in the string on the left with the numbers and strings in the parentheses on the right.\n",
    "\n",
    "%02d pads the month and day numbers with zeros to two places, and %04d pads the year to four places. This is one way dates are commonly displayed.\n",
    "\n",
    "\n",
    "\n",
    "# Instructions 4/6\n",
    "1. \n",
    "Print the current date in the form of mm/dd/yyyy.\n",
    "Change the string used above so that it uses a / character in between the %02d and %04d placeholders instead of a - character."
   ]
  },
  {
   "cell_type": "code",
   "execution_count": 4,
   "metadata": {},
   "outputs": [
    {
     "name": "stdout",
     "output_type": "stream",
     "text": [
      "03-14-2018\n"
     ]
    }
   ],
   "source": [
    "from datetime import datetime\n",
    "now = datetime.now()\n",
    "\n",
    "print ('%02d-%02d-%04d' % (now.month, now.day, now.year))\n",
    "# will print the current date as mm-dd-yyyy"
   ]
  },
  {
   "cell_type": "code",
   "execution_count": 6,
   "metadata": {},
   "outputs": [
    {
     "name": "stdout",
     "output_type": "stream",
     "text": [
      "3/14/2018 13:44:43\n"
     ]
    }
   ],
   "source": [
    "from datetime import datetime\n",
    "#now = datetime.now()\n",
    "\n",
    "print ('%s/%s/%s %s:%s:%s' % (now.month, now.day,now.year, now.hour, now.minute,now.second))"
   ]
  },
  {
   "cell_type": "markdown",
   "metadata": {},
   "source": [
    "# Learn 5/6\n",
    "\n",
    "## Date and Time\n",
    "\n",
    "### Pretty Time\n",
    "Nice work! Let's do the same for the hour, minute, and second.\n",
    "\n",
    "* from datetime import datetime\n",
    "* now = datetime.now()\n",
    "\n",
    "* print (now.hour)\n",
    "* print (now.minute)\n",
    "* print (now.second)\n",
    "\n",
    "In the above example, we just printed the current hour, then the current minute, then the current second.\n",
    "We can again use the variable now to print the time.\n",
    "\n",
    "\n",
    "\n",
    "# Instructions 5/6\n",
    "1. \n",
    "Similar to the last exercise, print the current time in the pretty form of hh:mm:ss.\n",
    "\n",
    "  1. Change the string that you are printing so that you have a : character in between the %02d placeholders.\n",
    "  2. Change the three things that you are printing from month, day, and year to now.hour, now.minute, and now.second."
   ]
  },
  {
   "cell_type": "code",
   "execution_count": null,
   "metadata": {},
   "outputs": [],
   "source": [
    "from datetime import datetime\n",
    "# now = datetime.now()\n",
    "\n",
    "print '%s/%s/%s %s:%s:%s' % (now.month, now.day,now.year, now.hour, now.minute,now.second)"
   ]
  },
  {
   "cell_type": "markdown",
   "metadata": {},
   "source": [
    "# Learn 6/6\n",
    "\n",
    "## Date and Time\n",
    "\n",
    "### Grand Finale\n",
    "We've managed to print the date and time separately in a very pretty fashion. Let's combine the two!\n",
    "\n",
    "from datetime import datetime\n",
    "now = datetime.now()\n",
    "\n",
    "print ('%02d/%02d/%04d' % (now.month, now.day, now.year))\n",
    "print ('%02d:%02d:%02d' % (now.hour, now.minute, now.second))\n",
    "\n",
    "The example above will print out the date, then on a separate line it will print the time.\n",
    "Let's print them all on the same line in a single print statement!\n",
    "\n",
    "\n",
    "\n",
    "# Instructions 6/6\n",
    "1.\n",
    "Print the date and time together in the form: mm/dd/yyyy hh:mm:ss.\n",
    "\n",
    "To start, change the format string to the left of the % operator.\n",
    "\n",
    "  1. Ensure that it has five %02d and one %04d placeholder.\n",
    "  2. Put slashes and colons and a space between the placeholders so that they fit the format above.Then, change the variables in the parentheses to the right of the % operator.\n",
    "  3. Place the variables so that now.month, now.day, now.year are before now.hour, now.minute, now.second. Make sure that there is a ( before the six placeholders and a ) after them."
   ]
  },
  {
   "cell_type": "code",
   "execution_count": 7,
   "metadata": {},
   "outputs": [
    {
     "name": "stdout",
     "output_type": "stream",
     "text": [
      "03/14/2018\n",
      "13:48:20\n"
     ]
    }
   ],
   "source": [
    "from datetime import datetime\n",
    "now = datetime.now()\n",
    "\n",
    "print ('%02d/%02d/%04d' % (now.month, now.day, now.year))\n",
    "print ('%02d:%02d:%02d' % (now.hour, now.minute, now.second))"
   ]
  },
  {
   "cell_type": "code",
   "execution_count": 8,
   "metadata": {},
   "outputs": [
    {
     "name": "stdout",
     "output_type": "stream",
     "text": [
      "3/14/2018 13:50:9\n"
     ]
    }
   ],
   "source": [
    "from datetime import datetime\n",
    "now = datetime.now()\n",
    "\n",
    "print ('%s/%s/%s %s:%s:%s' % (now.month, now.day,now.year, now.hour, now.minute,now.second))"
   ]
  }
 ],
 "metadata": {
  "kernelspec": {
   "display_name": "Python 3",
   "language": "python",
   "name": "python3"
  },
  "language_info": {
   "codemirror_mode": {
    "name": "ipython",
    "version": 3
   },
   "file_extension": ".py",
   "mimetype": "text/x-python",
   "name": "python",
   "nbconvert_exporter": "python",
   "pygments_lexer": "ipython3",
   "version": "3.6.4"
  }
 },
 "nbformat": 4,
 "nbformat_minor": 2
}
